{
  "nbformat": 4,
  "nbformat_minor": 0,
  "metadata": {
    "colab": {
      "provenance": [],
      "authorship_tag": "ABX9TyPpTuSBMRK0EgSlLybjBpN3",
      "include_colab_link": true
    },
    "kernelspec": {
      "name": "python3",
      "display_name": "Python 3"
    },
    "language_info": {
      "name": "python"
    }
  },
  "cells": [
    {
      "cell_type": "markdown",
      "metadata": {
        "id": "view-in-github",
        "colab_type": "text"
      },
      "source": [
        "<a href=\"https://colab.research.google.com/github/Francisco-Alfredo/data-science-statistics/blob/main/Projeto_ML.ipynb\" target=\"_parent\"><img src=\"https://colab.research.google.com/assets/colab-badge.svg\" alt=\"Open In Colab\"/></a>"
      ]
    },
    {
      "cell_type": "markdown",
      "source": [
        "# Importando dados"
      ],
      "metadata": {
        "id": "LqeAp8Kslj-C"
      }
    },
    {
      "cell_type": "code",
      "execution_count": 1,
      "metadata": {
        "id": "Xy3ewvpXiDoe"
      },
      "outputs": [],
      "source": [
        "import pandas as pd"
      ]
    },
    {
      "cell_type": "code",
      "source": [
        "dados = pd.read_csv('/content/churn.csv')"
      ],
      "metadata": {
        "id": "jdwWMXReiSPD"
      },
      "execution_count": 2,
      "outputs": []
    },
    {
      "cell_type": "code",
      "source": [
        "dados.shape"
      ],
      "metadata": {
        "colab": {
          "base_uri": "https://localhost:8080/"
        },
        "id": "Q5dhjcfXilUW",
        "outputId": "48068db7-bb34-4056-98c6-6a412701d119"
      },
      "execution_count": 3,
      "outputs": [
        {
          "output_type": "execute_result",
          "data": {
            "text/plain": [
              "(7043, 18)"
            ]
          },
          "metadata": {},
          "execution_count": 3
        }
      ]
    },
    {
      "cell_type": "code",
      "source": [
        "dados.head()"
      ],
      "metadata": {
        "colab": {
          "base_uri": "https://localhost:8080/",
          "height": 270
        },
        "id": "2RZHFSG6izCZ",
        "outputId": "ba2374bf-3fbf-41f6-d79a-8c21a0881617"
      },
      "execution_count": 5,
      "outputs": [
        {
          "output_type": "execute_result",
          "data": {
            "text/plain": [
              "   Maior65Anos Conjuge Dependentes  MesesDeContrato TelefoneFixo  \\\n",
              "0            0     Sim         Nao                1          Nao   \n",
              "1            0     Nao         Nao               34          Sim   \n",
              "2            0     Nao         Nao                2          Sim   \n",
              "3            0     Nao         Nao               45          Nao   \n",
              "4            0     Nao         Nao                2          Sim   \n",
              "\n",
              "  VariasLinhasTelefonicas ServicoDeInternet SegurancaOnline BackupOnline  \\\n",
              "0    SemServicoTelefonico               DSL             Nao          Sim   \n",
              "1                     Nao               DSL             Sim          Nao   \n",
              "2                     Nao               DSL             Sim          Sim   \n",
              "3    SemServicoTelefonico               DSL             Sim          Nao   \n",
              "4                     Nao       FibraOptica             Nao          Nao   \n",
              "\n",
              "  SeguroNoDispositivo SuporteTecnico TVaCabo StreamingDeFilmes TipoDeContrato  \\\n",
              "0                 Nao            Nao     Nao               Nao    Mensalmente   \n",
              "1                 Sim            Nao     Nao               Nao          UmAno   \n",
              "2                 Nao            Nao     Nao               Nao    Mensalmente   \n",
              "3                 Sim            Sim     Nao               Nao          UmAno   \n",
              "4                 Nao            Nao     Nao               Nao    Mensalmente   \n",
              "\n",
              "  PagamentoOnline FormaDePagamento  ContaMensal Churn  \n",
              "0             Sim    ChequeDigital        29.85   Nao  \n",
              "1             Nao      ChequePapel        56.95   Nao  \n",
              "2             Sim      ChequePapel        53.85   Sim  \n",
              "3             Nao    DebitoEmConta        42.30   Nao  \n",
              "4             Sim    ChequeDigital        70.70   Sim  "
            ],
            "text/html": [
              "\n",
              "  <div id=\"df-99259a6b-c584-4ae6-b923-b836e5e7d3b4\">\n",
              "    <div class=\"colab-df-container\">\n",
              "      <div>\n",
              "<style scoped>\n",
              "    .dataframe tbody tr th:only-of-type {\n",
              "        vertical-align: middle;\n",
              "    }\n",
              "\n",
              "    .dataframe tbody tr th {\n",
              "        vertical-align: top;\n",
              "    }\n",
              "\n",
              "    .dataframe thead th {\n",
              "        text-align: right;\n",
              "    }\n",
              "</style>\n",
              "<table border=\"1\" class=\"dataframe\">\n",
              "  <thead>\n",
              "    <tr style=\"text-align: right;\">\n",
              "      <th></th>\n",
              "      <th>Maior65Anos</th>\n",
              "      <th>Conjuge</th>\n",
              "      <th>Dependentes</th>\n",
              "      <th>MesesDeContrato</th>\n",
              "      <th>TelefoneFixo</th>\n",
              "      <th>VariasLinhasTelefonicas</th>\n",
              "      <th>ServicoDeInternet</th>\n",
              "      <th>SegurancaOnline</th>\n",
              "      <th>BackupOnline</th>\n",
              "      <th>SeguroNoDispositivo</th>\n",
              "      <th>SuporteTecnico</th>\n",
              "      <th>TVaCabo</th>\n",
              "      <th>StreamingDeFilmes</th>\n",
              "      <th>TipoDeContrato</th>\n",
              "      <th>PagamentoOnline</th>\n",
              "      <th>FormaDePagamento</th>\n",
              "      <th>ContaMensal</th>\n",
              "      <th>Churn</th>\n",
              "    </tr>\n",
              "  </thead>\n",
              "  <tbody>\n",
              "    <tr>\n",
              "      <th>0</th>\n",
              "      <td>0</td>\n",
              "      <td>Sim</td>\n",
              "      <td>Nao</td>\n",
              "      <td>1</td>\n",
              "      <td>Nao</td>\n",
              "      <td>SemServicoTelefonico</td>\n",
              "      <td>DSL</td>\n",
              "      <td>Nao</td>\n",
              "      <td>Sim</td>\n",
              "      <td>Nao</td>\n",
              "      <td>Nao</td>\n",
              "      <td>Nao</td>\n",
              "      <td>Nao</td>\n",
              "      <td>Mensalmente</td>\n",
              "      <td>Sim</td>\n",
              "      <td>ChequeDigital</td>\n",
              "      <td>29.85</td>\n",
              "      <td>Nao</td>\n",
              "    </tr>\n",
              "    <tr>\n",
              "      <th>1</th>\n",
              "      <td>0</td>\n",
              "      <td>Nao</td>\n",
              "      <td>Nao</td>\n",
              "      <td>34</td>\n",
              "      <td>Sim</td>\n",
              "      <td>Nao</td>\n",
              "      <td>DSL</td>\n",
              "      <td>Sim</td>\n",
              "      <td>Nao</td>\n",
              "      <td>Sim</td>\n",
              "      <td>Nao</td>\n",
              "      <td>Nao</td>\n",
              "      <td>Nao</td>\n",
              "      <td>UmAno</td>\n",
              "      <td>Nao</td>\n",
              "      <td>ChequePapel</td>\n",
              "      <td>56.95</td>\n",
              "      <td>Nao</td>\n",
              "    </tr>\n",
              "    <tr>\n",
              "      <th>2</th>\n",
              "      <td>0</td>\n",
              "      <td>Nao</td>\n",
              "      <td>Nao</td>\n",
              "      <td>2</td>\n",
              "      <td>Sim</td>\n",
              "      <td>Nao</td>\n",
              "      <td>DSL</td>\n",
              "      <td>Sim</td>\n",
              "      <td>Sim</td>\n",
              "      <td>Nao</td>\n",
              "      <td>Nao</td>\n",
              "      <td>Nao</td>\n",
              "      <td>Nao</td>\n",
              "      <td>Mensalmente</td>\n",
              "      <td>Sim</td>\n",
              "      <td>ChequePapel</td>\n",
              "      <td>53.85</td>\n",
              "      <td>Sim</td>\n",
              "    </tr>\n",
              "    <tr>\n",
              "      <th>3</th>\n",
              "      <td>0</td>\n",
              "      <td>Nao</td>\n",
              "      <td>Nao</td>\n",
              "      <td>45</td>\n",
              "      <td>Nao</td>\n",
              "      <td>SemServicoTelefonico</td>\n",
              "      <td>DSL</td>\n",
              "      <td>Sim</td>\n",
              "      <td>Nao</td>\n",
              "      <td>Sim</td>\n",
              "      <td>Sim</td>\n",
              "      <td>Nao</td>\n",
              "      <td>Nao</td>\n",
              "      <td>UmAno</td>\n",
              "      <td>Nao</td>\n",
              "      <td>DebitoEmConta</td>\n",
              "      <td>42.30</td>\n",
              "      <td>Nao</td>\n",
              "    </tr>\n",
              "    <tr>\n",
              "      <th>4</th>\n",
              "      <td>0</td>\n",
              "      <td>Nao</td>\n",
              "      <td>Nao</td>\n",
              "      <td>2</td>\n",
              "      <td>Sim</td>\n",
              "      <td>Nao</td>\n",
              "      <td>FibraOptica</td>\n",
              "      <td>Nao</td>\n",
              "      <td>Nao</td>\n",
              "      <td>Nao</td>\n",
              "      <td>Nao</td>\n",
              "      <td>Nao</td>\n",
              "      <td>Nao</td>\n",
              "      <td>Mensalmente</td>\n",
              "      <td>Sim</td>\n",
              "      <td>ChequeDigital</td>\n",
              "      <td>70.70</td>\n",
              "      <td>Sim</td>\n",
              "    </tr>\n",
              "  </tbody>\n",
              "</table>\n",
              "</div>\n",
              "      <button class=\"colab-df-convert\" onclick=\"convertToInteractive('df-99259a6b-c584-4ae6-b923-b836e5e7d3b4')\"\n",
              "              title=\"Convert this dataframe to an interactive table.\"\n",
              "              style=\"display:none;\">\n",
              "        \n",
              "  <svg xmlns=\"http://www.w3.org/2000/svg\" height=\"24px\"viewBox=\"0 0 24 24\"\n",
              "       width=\"24px\">\n",
              "    <path d=\"M0 0h24v24H0V0z\" fill=\"none\"/>\n",
              "    <path d=\"M18.56 5.44l.94 2.06.94-2.06 2.06-.94-2.06-.94-.94-2.06-.94 2.06-2.06.94zm-11 1L8.5 8.5l.94-2.06 2.06-.94-2.06-.94L8.5 2.5l-.94 2.06-2.06.94zm10 10l.94 2.06.94-2.06 2.06-.94-2.06-.94-.94-2.06-.94 2.06-2.06.94z\"/><path d=\"M17.41 7.96l-1.37-1.37c-.4-.4-.92-.59-1.43-.59-.52 0-1.04.2-1.43.59L10.3 9.45l-7.72 7.72c-.78.78-.78 2.05 0 2.83L4 21.41c.39.39.9.59 1.41.59.51 0 1.02-.2 1.41-.59l7.78-7.78 2.81-2.81c.8-.78.8-2.07 0-2.86zM5.41 20L4 18.59l7.72-7.72 1.47 1.35L5.41 20z\"/>\n",
              "  </svg>\n",
              "      </button>\n",
              "      \n",
              "  <style>\n",
              "    .colab-df-container {\n",
              "      display:flex;\n",
              "      flex-wrap:wrap;\n",
              "      gap: 12px;\n",
              "    }\n",
              "\n",
              "    .colab-df-convert {\n",
              "      background-color: #E8F0FE;\n",
              "      border: none;\n",
              "      border-radius: 50%;\n",
              "      cursor: pointer;\n",
              "      display: none;\n",
              "      fill: #1967D2;\n",
              "      height: 32px;\n",
              "      padding: 0 0 0 0;\n",
              "      width: 32px;\n",
              "    }\n",
              "\n",
              "    .colab-df-convert:hover {\n",
              "      background-color: #E2EBFA;\n",
              "      box-shadow: 0px 1px 2px rgba(60, 64, 67, 0.3), 0px 1px 3px 1px rgba(60, 64, 67, 0.15);\n",
              "      fill: #174EA6;\n",
              "    }\n",
              "\n",
              "    [theme=dark] .colab-df-convert {\n",
              "      background-color: #3B4455;\n",
              "      fill: #D2E3FC;\n",
              "    }\n",
              "\n",
              "    [theme=dark] .colab-df-convert:hover {\n",
              "      background-color: #434B5C;\n",
              "      box-shadow: 0px 1px 3px 1px rgba(0, 0, 0, 0.15);\n",
              "      filter: drop-shadow(0px 1px 2px rgba(0, 0, 0, 0.3));\n",
              "      fill: #FFFFFF;\n",
              "    }\n",
              "  </style>\n",
              "\n",
              "      <script>\n",
              "        const buttonEl =\n",
              "          document.querySelector('#df-99259a6b-c584-4ae6-b923-b836e5e7d3b4 button.colab-df-convert');\n",
              "        buttonEl.style.display =\n",
              "          google.colab.kernel.accessAllowed ? 'block' : 'none';\n",
              "\n",
              "        async function convertToInteractive(key) {\n",
              "          const element = document.querySelector('#df-99259a6b-c584-4ae6-b923-b836e5e7d3b4');\n",
              "          const dataTable =\n",
              "            await google.colab.kernel.invokeFunction('convertToInteractive',\n",
              "                                                     [key], {});\n",
              "          if (!dataTable) return;\n",
              "\n",
              "          const docLinkHtml = 'Like what you see? Visit the ' +\n",
              "            '<a target=\"_blank\" href=https://colab.research.google.com/notebooks/data_table.ipynb>data table notebook</a>'\n",
              "            + ' to learn more about interactive tables.';\n",
              "          element.innerHTML = '';\n",
              "          dataTable['output_type'] = 'display_data';\n",
              "          await google.colab.output.renderOutput(dataTable, element);\n",
              "          const docLink = document.createElement('div');\n",
              "          docLink.innerHTML = docLinkHtml;\n",
              "          element.appendChild(docLink);\n",
              "        }\n",
              "      </script>\n",
              "    </div>\n",
              "  </div>\n",
              "  "
            ]
          },
          "metadata": {},
          "execution_count": 5
        }
      ]
    },
    {
      "cell_type": "markdown",
      "source": [
        "# Diferentes Variáveis"
      ],
      "metadata": {
        "id": "_DqHUa1eZx17"
      }
    },
    {
      "cell_type": "code",
      "source": [
        "#Modificação de forma manual\n",
        "\n",
        "traducao_dic = {'Sim':1,\n",
        "                'Nao':0}\n",
        "\n",
        "dadosmodificados = dados[['Conjuge', 'Dependentes', 'TelefoneFixo', 'PagamentoOnline', 'Churn']].replace(traducao_dic)\n",
        "dadosmodificados.head()"
      ],
      "metadata": {
        "id": "iajYKmvMi1UZ",
        "colab": {
          "base_uri": "https://localhost:8080/",
          "height": 206
        },
        "outputId": "9538ce26-e281-411e-f63d-dfa4a4b16328"
      },
      "execution_count": 6,
      "outputs": [
        {
          "output_type": "execute_result",
          "data": {
            "text/plain": [
              "   Conjuge  Dependentes  TelefoneFixo  PagamentoOnline  Churn\n",
              "0        1            0             0                1      0\n",
              "1        0            0             1                0      0\n",
              "2        0            0             1                1      1\n",
              "3        0            0             0                0      0\n",
              "4        0            0             1                1      1"
            ],
            "text/html": [
              "\n",
              "  <div id=\"df-0ad65280-c67a-4430-b400-2c4d7a90148b\">\n",
              "    <div class=\"colab-df-container\">\n",
              "      <div>\n",
              "<style scoped>\n",
              "    .dataframe tbody tr th:only-of-type {\n",
              "        vertical-align: middle;\n",
              "    }\n",
              "\n",
              "    .dataframe tbody tr th {\n",
              "        vertical-align: top;\n",
              "    }\n",
              "\n",
              "    .dataframe thead th {\n",
              "        text-align: right;\n",
              "    }\n",
              "</style>\n",
              "<table border=\"1\" class=\"dataframe\">\n",
              "  <thead>\n",
              "    <tr style=\"text-align: right;\">\n",
              "      <th></th>\n",
              "      <th>Conjuge</th>\n",
              "      <th>Dependentes</th>\n",
              "      <th>TelefoneFixo</th>\n",
              "      <th>PagamentoOnline</th>\n",
              "      <th>Churn</th>\n",
              "    </tr>\n",
              "  </thead>\n",
              "  <tbody>\n",
              "    <tr>\n",
              "      <th>0</th>\n",
              "      <td>1</td>\n",
              "      <td>0</td>\n",
              "      <td>0</td>\n",
              "      <td>1</td>\n",
              "      <td>0</td>\n",
              "    </tr>\n",
              "    <tr>\n",
              "      <th>1</th>\n",
              "      <td>0</td>\n",
              "      <td>0</td>\n",
              "      <td>1</td>\n",
              "      <td>0</td>\n",
              "      <td>0</td>\n",
              "    </tr>\n",
              "    <tr>\n",
              "      <th>2</th>\n",
              "      <td>0</td>\n",
              "      <td>0</td>\n",
              "      <td>1</td>\n",
              "      <td>1</td>\n",
              "      <td>1</td>\n",
              "    </tr>\n",
              "    <tr>\n",
              "      <th>3</th>\n",
              "      <td>0</td>\n",
              "      <td>0</td>\n",
              "      <td>0</td>\n",
              "      <td>0</td>\n",
              "      <td>0</td>\n",
              "    </tr>\n",
              "    <tr>\n",
              "      <th>4</th>\n",
              "      <td>0</td>\n",
              "      <td>0</td>\n",
              "      <td>1</td>\n",
              "      <td>1</td>\n",
              "      <td>1</td>\n",
              "    </tr>\n",
              "  </tbody>\n",
              "</table>\n",
              "</div>\n",
              "      <button class=\"colab-df-convert\" onclick=\"convertToInteractive('df-0ad65280-c67a-4430-b400-2c4d7a90148b')\"\n",
              "              title=\"Convert this dataframe to an interactive table.\"\n",
              "              style=\"display:none;\">\n",
              "        \n",
              "  <svg xmlns=\"http://www.w3.org/2000/svg\" height=\"24px\"viewBox=\"0 0 24 24\"\n",
              "       width=\"24px\">\n",
              "    <path d=\"M0 0h24v24H0V0z\" fill=\"none\"/>\n",
              "    <path d=\"M18.56 5.44l.94 2.06.94-2.06 2.06-.94-2.06-.94-.94-2.06-.94 2.06-2.06.94zm-11 1L8.5 8.5l.94-2.06 2.06-.94-2.06-.94L8.5 2.5l-.94 2.06-2.06.94zm10 10l.94 2.06.94-2.06 2.06-.94-2.06-.94-.94-2.06-.94 2.06-2.06.94z\"/><path d=\"M17.41 7.96l-1.37-1.37c-.4-.4-.92-.59-1.43-.59-.52 0-1.04.2-1.43.59L10.3 9.45l-7.72 7.72c-.78.78-.78 2.05 0 2.83L4 21.41c.39.39.9.59 1.41.59.51 0 1.02-.2 1.41-.59l7.78-7.78 2.81-2.81c.8-.78.8-2.07 0-2.86zM5.41 20L4 18.59l7.72-7.72 1.47 1.35L5.41 20z\"/>\n",
              "  </svg>\n",
              "      </button>\n",
              "      \n",
              "  <style>\n",
              "    .colab-df-container {\n",
              "      display:flex;\n",
              "      flex-wrap:wrap;\n",
              "      gap: 12px;\n",
              "    }\n",
              "\n",
              "    .colab-df-convert {\n",
              "      background-color: #E8F0FE;\n",
              "      border: none;\n",
              "      border-radius: 50%;\n",
              "      cursor: pointer;\n",
              "      display: none;\n",
              "      fill: #1967D2;\n",
              "      height: 32px;\n",
              "      padding: 0 0 0 0;\n",
              "      width: 32px;\n",
              "    }\n",
              "\n",
              "    .colab-df-convert:hover {\n",
              "      background-color: #E2EBFA;\n",
              "      box-shadow: 0px 1px 2px rgba(60, 64, 67, 0.3), 0px 1px 3px 1px rgba(60, 64, 67, 0.15);\n",
              "      fill: #174EA6;\n",
              "    }\n",
              "\n",
              "    [theme=dark] .colab-df-convert {\n",
              "      background-color: #3B4455;\n",
              "      fill: #D2E3FC;\n",
              "    }\n",
              "\n",
              "    [theme=dark] .colab-df-convert:hover {\n",
              "      background-color: #434B5C;\n",
              "      box-shadow: 0px 1px 3px 1px rgba(0, 0, 0, 0.15);\n",
              "      filter: drop-shadow(0px 1px 2px rgba(0, 0, 0, 0.3));\n",
              "      fill: #FFFFFF;\n",
              "    }\n",
              "  </style>\n",
              "\n",
              "      <script>\n",
              "        const buttonEl =\n",
              "          document.querySelector('#df-0ad65280-c67a-4430-b400-2c4d7a90148b button.colab-df-convert');\n",
              "        buttonEl.style.display =\n",
              "          google.colab.kernel.accessAllowed ? 'block' : 'none';\n",
              "\n",
              "        async function convertToInteractive(key) {\n",
              "          const element = document.querySelector('#df-0ad65280-c67a-4430-b400-2c4d7a90148b');\n",
              "          const dataTable =\n",
              "            await google.colab.kernel.invokeFunction('convertToInteractive',\n",
              "                                                     [key], {});\n",
              "          if (!dataTable) return;\n",
              "\n",
              "          const docLinkHtml = 'Like what you see? Visit the ' +\n",
              "            '<a target=\"_blank\" href=https://colab.research.google.com/notebooks/data_table.ipynb>data table notebook</a>'\n",
              "            + ' to learn more about interactive tables.';\n",
              "          element.innerHTML = '';\n",
              "          dataTable['output_type'] = 'display_data';\n",
              "          await google.colab.output.renderOutput(dataTable, element);\n",
              "          const docLink = document.createElement('div');\n",
              "          docLink.innerHTML = docLinkHtml;\n",
              "          element.appendChild(docLink);\n",
              "        }\n",
              "      </script>\n",
              "    </div>\n",
              "  </div>\n",
              "  "
            ]
          },
          "metadata": {},
          "execution_count": 6
        }
      ]
    },
    {
      "cell_type": "code",
      "source": [
        "from pandas.core.indexes.period import DatetimeIndexOpsMixin\n",
        "#Transformação pelo get_dummies\n",
        "dummie_dados = pd.get_dummies(dados.drop(['Conjuge', 'Dependentes', 'TelefoneFixo', 'PagamentoOnline', 'Churn'],\n",
        "                                         axis=1))\n",
        "\n",
        "#Juntando os dados transformados pelo get_dummies\n",
        "dados_final = pd.concat([dadosmodificados, dummie_dados], axis=1)"
      ],
      "metadata": {
        "id": "fdG3KZjKamnb"
      },
      "execution_count": 8,
      "outputs": []
    },
    {
      "cell_type": "code",
      "source": [
        "dados_final.head()"
      ],
      "metadata": {
        "colab": {
          "base_uri": "https://localhost:8080/",
          "height": 300
        },
        "id": "9OCe-ZNCb3hG",
        "outputId": "dfba1617-dab0-4b80-981c-77febfeb4733"
      },
      "execution_count": 9,
      "outputs": [
        {
          "output_type": "execute_result",
          "data": {
            "text/plain": [
              "   Conjuge  Dependentes  TelefoneFixo  PagamentoOnline  Churn  Maior65Anos  \\\n",
              "0        1            0             0                1      0            0   \n",
              "1        0            0             1                0      0            0   \n",
              "2        0            0             1                1      1            0   \n",
              "3        0            0             0                0      0            0   \n",
              "4        0            0             1                1      1            0   \n",
              "\n",
              "   MesesDeContrato  ContaMensal  VariasLinhasTelefonicas_Nao  \\\n",
              "0                1        29.85                            0   \n",
              "1               34        56.95                            1   \n",
              "2                2        53.85                            1   \n",
              "3               45        42.30                            0   \n",
              "4                2        70.70                            1   \n",
              "\n",
              "   VariasLinhasTelefonicas_SemServicoTelefonico  ...  StreamingDeFilmes_Nao  \\\n",
              "0                                             1  ...                      1   \n",
              "1                                             0  ...                      1   \n",
              "2                                             0  ...                      1   \n",
              "3                                             1  ...                      1   \n",
              "4                                             0  ...                      1   \n",
              "\n",
              "   StreamingDeFilmes_SemServicoDeInternet  StreamingDeFilmes_Sim  \\\n",
              "0                                       0                      0   \n",
              "1                                       0                      0   \n",
              "2                                       0                      0   \n",
              "3                                       0                      0   \n",
              "4                                       0                      0   \n",
              "\n",
              "   TipoDeContrato_DoisAnos  TipoDeContrato_Mensalmente  TipoDeContrato_UmAno  \\\n",
              "0                        0                           1                     0   \n",
              "1                        0                           0                     1   \n",
              "2                        0                           1                     0   \n",
              "3                        0                           0                     1   \n",
              "4                        0                           1                     0   \n",
              "\n",
              "   FormaDePagamento_CartaoDeCredito  FormaDePagamento_ChequeDigital  \\\n",
              "0                                 0                               1   \n",
              "1                                 0                               0   \n",
              "2                                 0                               0   \n",
              "3                                 0                               0   \n",
              "4                                 0                               1   \n",
              "\n",
              "   FormaDePagamento_ChequePapel  FormaDePagamento_DebitoEmConta  \n",
              "0                             0                               0  \n",
              "1                             1                               0  \n",
              "2                             1                               0  \n",
              "3                             0                               1  \n",
              "4                             0                               0  \n",
              "\n",
              "[5 rows x 39 columns]"
            ],
            "text/html": [
              "\n",
              "  <div id=\"df-8fa19e22-996a-4836-95fa-f06eb1a0ec0a\">\n",
              "    <div class=\"colab-df-container\">\n",
              "      <div>\n",
              "<style scoped>\n",
              "    .dataframe tbody tr th:only-of-type {\n",
              "        vertical-align: middle;\n",
              "    }\n",
              "\n",
              "    .dataframe tbody tr th {\n",
              "        vertical-align: top;\n",
              "    }\n",
              "\n",
              "    .dataframe thead th {\n",
              "        text-align: right;\n",
              "    }\n",
              "</style>\n",
              "<table border=\"1\" class=\"dataframe\">\n",
              "  <thead>\n",
              "    <tr style=\"text-align: right;\">\n",
              "      <th></th>\n",
              "      <th>Conjuge</th>\n",
              "      <th>Dependentes</th>\n",
              "      <th>TelefoneFixo</th>\n",
              "      <th>PagamentoOnline</th>\n",
              "      <th>Churn</th>\n",
              "      <th>Maior65Anos</th>\n",
              "      <th>MesesDeContrato</th>\n",
              "      <th>ContaMensal</th>\n",
              "      <th>VariasLinhasTelefonicas_Nao</th>\n",
              "      <th>VariasLinhasTelefonicas_SemServicoTelefonico</th>\n",
              "      <th>...</th>\n",
              "      <th>StreamingDeFilmes_Nao</th>\n",
              "      <th>StreamingDeFilmes_SemServicoDeInternet</th>\n",
              "      <th>StreamingDeFilmes_Sim</th>\n",
              "      <th>TipoDeContrato_DoisAnos</th>\n",
              "      <th>TipoDeContrato_Mensalmente</th>\n",
              "      <th>TipoDeContrato_UmAno</th>\n",
              "      <th>FormaDePagamento_CartaoDeCredito</th>\n",
              "      <th>FormaDePagamento_ChequeDigital</th>\n",
              "      <th>FormaDePagamento_ChequePapel</th>\n",
              "      <th>FormaDePagamento_DebitoEmConta</th>\n",
              "    </tr>\n",
              "  </thead>\n",
              "  <tbody>\n",
              "    <tr>\n",
              "      <th>0</th>\n",
              "      <td>1</td>\n",
              "      <td>0</td>\n",
              "      <td>0</td>\n",
              "      <td>1</td>\n",
              "      <td>0</td>\n",
              "      <td>0</td>\n",
              "      <td>1</td>\n",
              "      <td>29.85</td>\n",
              "      <td>0</td>\n",
              "      <td>1</td>\n",
              "      <td>...</td>\n",
              "      <td>1</td>\n",
              "      <td>0</td>\n",
              "      <td>0</td>\n",
              "      <td>0</td>\n",
              "      <td>1</td>\n",
              "      <td>0</td>\n",
              "      <td>0</td>\n",
              "      <td>1</td>\n",
              "      <td>0</td>\n",
              "      <td>0</td>\n",
              "    </tr>\n",
              "    <tr>\n",
              "      <th>1</th>\n",
              "      <td>0</td>\n",
              "      <td>0</td>\n",
              "      <td>1</td>\n",
              "      <td>0</td>\n",
              "      <td>0</td>\n",
              "      <td>0</td>\n",
              "      <td>34</td>\n",
              "      <td>56.95</td>\n",
              "      <td>1</td>\n",
              "      <td>0</td>\n",
              "      <td>...</td>\n",
              "      <td>1</td>\n",
              "      <td>0</td>\n",
              "      <td>0</td>\n",
              "      <td>0</td>\n",
              "      <td>0</td>\n",
              "      <td>1</td>\n",
              "      <td>0</td>\n",
              "      <td>0</td>\n",
              "      <td>1</td>\n",
              "      <td>0</td>\n",
              "    </tr>\n",
              "    <tr>\n",
              "      <th>2</th>\n",
              "      <td>0</td>\n",
              "      <td>0</td>\n",
              "      <td>1</td>\n",
              "      <td>1</td>\n",
              "      <td>1</td>\n",
              "      <td>0</td>\n",
              "      <td>2</td>\n",
              "      <td>53.85</td>\n",
              "      <td>1</td>\n",
              "      <td>0</td>\n",
              "      <td>...</td>\n",
              "      <td>1</td>\n",
              "      <td>0</td>\n",
              "      <td>0</td>\n",
              "      <td>0</td>\n",
              "      <td>1</td>\n",
              "      <td>0</td>\n",
              "      <td>0</td>\n",
              "      <td>0</td>\n",
              "      <td>1</td>\n",
              "      <td>0</td>\n",
              "    </tr>\n",
              "    <tr>\n",
              "      <th>3</th>\n",
              "      <td>0</td>\n",
              "      <td>0</td>\n",
              "      <td>0</td>\n",
              "      <td>0</td>\n",
              "      <td>0</td>\n",
              "      <td>0</td>\n",
              "      <td>45</td>\n",
              "      <td>42.30</td>\n",
              "      <td>0</td>\n",
              "      <td>1</td>\n",
              "      <td>...</td>\n",
              "      <td>1</td>\n",
              "      <td>0</td>\n",
              "      <td>0</td>\n",
              "      <td>0</td>\n",
              "      <td>0</td>\n",
              "      <td>1</td>\n",
              "      <td>0</td>\n",
              "      <td>0</td>\n",
              "      <td>0</td>\n",
              "      <td>1</td>\n",
              "    </tr>\n",
              "    <tr>\n",
              "      <th>4</th>\n",
              "      <td>0</td>\n",
              "      <td>0</td>\n",
              "      <td>1</td>\n",
              "      <td>1</td>\n",
              "      <td>1</td>\n",
              "      <td>0</td>\n",
              "      <td>2</td>\n",
              "      <td>70.70</td>\n",
              "      <td>1</td>\n",
              "      <td>0</td>\n",
              "      <td>...</td>\n",
              "      <td>1</td>\n",
              "      <td>0</td>\n",
              "      <td>0</td>\n",
              "      <td>0</td>\n",
              "      <td>1</td>\n",
              "      <td>0</td>\n",
              "      <td>0</td>\n",
              "      <td>1</td>\n",
              "      <td>0</td>\n",
              "      <td>0</td>\n",
              "    </tr>\n",
              "  </tbody>\n",
              "</table>\n",
              "<p>5 rows × 39 columns</p>\n",
              "</div>\n",
              "      <button class=\"colab-df-convert\" onclick=\"convertToInteractive('df-8fa19e22-996a-4836-95fa-f06eb1a0ec0a')\"\n",
              "              title=\"Convert this dataframe to an interactive table.\"\n",
              "              style=\"display:none;\">\n",
              "        \n",
              "  <svg xmlns=\"http://www.w3.org/2000/svg\" height=\"24px\"viewBox=\"0 0 24 24\"\n",
              "       width=\"24px\">\n",
              "    <path d=\"M0 0h24v24H0V0z\" fill=\"none\"/>\n",
              "    <path d=\"M18.56 5.44l.94 2.06.94-2.06 2.06-.94-2.06-.94-.94-2.06-.94 2.06-2.06.94zm-11 1L8.5 8.5l.94-2.06 2.06-.94-2.06-.94L8.5 2.5l-.94 2.06-2.06.94zm10 10l.94 2.06.94-2.06 2.06-.94-2.06-.94-.94-2.06-.94 2.06-2.06.94z\"/><path d=\"M17.41 7.96l-1.37-1.37c-.4-.4-.92-.59-1.43-.59-.52 0-1.04.2-1.43.59L10.3 9.45l-7.72 7.72c-.78.78-.78 2.05 0 2.83L4 21.41c.39.39.9.59 1.41.59.51 0 1.02-.2 1.41-.59l7.78-7.78 2.81-2.81c.8-.78.8-2.07 0-2.86zM5.41 20L4 18.59l7.72-7.72 1.47 1.35L5.41 20z\"/>\n",
              "  </svg>\n",
              "      </button>\n",
              "      \n",
              "  <style>\n",
              "    .colab-df-container {\n",
              "      display:flex;\n",
              "      flex-wrap:wrap;\n",
              "      gap: 12px;\n",
              "    }\n",
              "\n",
              "    .colab-df-convert {\n",
              "      background-color: #E8F0FE;\n",
              "      border: none;\n",
              "      border-radius: 50%;\n",
              "      cursor: pointer;\n",
              "      display: none;\n",
              "      fill: #1967D2;\n",
              "      height: 32px;\n",
              "      padding: 0 0 0 0;\n",
              "      width: 32px;\n",
              "    }\n",
              "\n",
              "    .colab-df-convert:hover {\n",
              "      background-color: #E2EBFA;\n",
              "      box-shadow: 0px 1px 2px rgba(60, 64, 67, 0.3), 0px 1px 3px 1px rgba(60, 64, 67, 0.15);\n",
              "      fill: #174EA6;\n",
              "    }\n",
              "\n",
              "    [theme=dark] .colab-df-convert {\n",
              "      background-color: #3B4455;\n",
              "      fill: #D2E3FC;\n",
              "    }\n",
              "\n",
              "    [theme=dark] .colab-df-convert:hover {\n",
              "      background-color: #434B5C;\n",
              "      box-shadow: 0px 1px 3px 1px rgba(0, 0, 0, 0.15);\n",
              "      filter: drop-shadow(0px 1px 2px rgba(0, 0, 0, 0.3));\n",
              "      fill: #FFFFFF;\n",
              "    }\n",
              "  </style>\n",
              "\n",
              "      <script>\n",
              "        const buttonEl =\n",
              "          document.querySelector('#df-8fa19e22-996a-4836-95fa-f06eb1a0ec0a button.colab-df-convert');\n",
              "        buttonEl.style.display =\n",
              "          google.colab.kernel.accessAllowed ? 'block' : 'none';\n",
              "\n",
              "        async function convertToInteractive(key) {\n",
              "          const element = document.querySelector('#df-8fa19e22-996a-4836-95fa-f06eb1a0ec0a');\n",
              "          const dataTable =\n",
              "            await google.colab.kernel.invokeFunction('convertToInteractive',\n",
              "                                                     [key], {});\n",
              "          if (!dataTable) return;\n",
              "\n",
              "          const docLinkHtml = 'Like what you see? Visit the ' +\n",
              "            '<a target=\"_blank\" href=https://colab.research.google.com/notebooks/data_table.ipynb>data table notebook</a>'\n",
              "            + ' to learn more about interactive tables.';\n",
              "          element.innerHTML = '';\n",
              "          dataTable['output_type'] = 'display_data';\n",
              "          await google.colab.output.renderOutput(dataTable, element);\n",
              "          const docLink = document.createElement('div');\n",
              "          docLink.innerHTML = docLinkHtml;\n",
              "          element.appendChild(docLink);\n",
              "        }\n",
              "      </script>\n",
              "    </div>\n",
              "  </div>\n",
              "  "
            ]
          },
          "metadata": {},
          "execution_count": 9
        }
      ]
    },
    {
      "cell_type": "code",
      "source": [
        "dados_final.shape"
      ],
      "metadata": {
        "colab": {
          "base_uri": "https://localhost:8080/"
        },
        "id": "N9sP_tqjcCBz",
        "outputId": "43927577-be7f-489c-c393-751e97a0ecfd"
      },
      "execution_count": 10,
      "outputs": [
        {
          "output_type": "execute_result",
          "data": {
            "text/plain": [
              "(7043, 39)"
            ]
          },
          "metadata": {},
          "execution_count": 10
        }
      ]
    },
    {
      "cell_type": "markdown",
      "source": [
        "# Definição Informal\n",
        "<br/><br>\n",
        "Informações para classificação:<br/>\n",
        "X = inputs(dados de entrada)<br>\n",
        "Y = outputs(dados de saída)\n"
      ],
      "metadata": {
        "id": "SEB9vsbXhkXU"
      }
    },
    {
      "cell_type": "code",
      "source": [
        "pd.set_option('display.max_columns', 39)"
      ],
      "metadata": {
        "id": "PD2asJOUcOek"
      },
      "execution_count": 11,
      "outputs": []
    },
    {
      "cell_type": "code",
      "source": [
        "dados_final.head()"
      ],
      "metadata": {
        "colab": {
          "base_uri": "https://localhost:8080/",
          "height": 270
        },
        "id": "rgaGKvpbiefe",
        "outputId": "7ed446de-dcf5-495e-f5ee-1c53c410243b"
      },
      "execution_count": 14,
      "outputs": [
        {
          "output_type": "execute_result",
          "data": {
            "text/plain": [
              "   Conjuge  Dependentes  TelefoneFixo  PagamentoOnline  Churn  Maior65Anos  \\\n",
              "0        1            0             0                1      0            0   \n",
              "1        0            0             1                0      0            0   \n",
              "2        0            0             1                1      1            0   \n",
              "3        0            0             0                0      0            0   \n",
              "4        0            0             1                1      1            0   \n",
              "\n",
              "   MesesDeContrato  ContaMensal  VariasLinhasTelefonicas_Nao  \\\n",
              "0                1        29.85                            0   \n",
              "1               34        56.95                            1   \n",
              "2                2        53.85                            1   \n",
              "3               45        42.30                            0   \n",
              "4                2        70.70                            1   \n",
              "\n",
              "   VariasLinhasTelefonicas_SemServicoTelefonico  VariasLinhasTelefonicas_Sim  \\\n",
              "0                                             1                            0   \n",
              "1                                             0                            0   \n",
              "2                                             0                            0   \n",
              "3                                             1                            0   \n",
              "4                                             0                            0   \n",
              "\n",
              "   ServicoDeInternet_DSL  ServicoDeInternet_FibraOptica  \\\n",
              "0                      1                              0   \n",
              "1                      1                              0   \n",
              "2                      1                              0   \n",
              "3                      1                              0   \n",
              "4                      0                              1   \n",
              "\n",
              "   ServicoDeInternet_Nao  SegurancaOnline_Nao  \\\n",
              "0                      0                    1   \n",
              "1                      0                    0   \n",
              "2                      0                    0   \n",
              "3                      0                    0   \n",
              "4                      0                    1   \n",
              "\n",
              "   SegurancaOnline_SemServicoDeInternet  SegurancaOnline_Sim  \\\n",
              "0                                     0                    0   \n",
              "1                                     0                    1   \n",
              "2                                     0                    1   \n",
              "3                                     0                    1   \n",
              "4                                     0                    0   \n",
              "\n",
              "   BackupOnline_Nao  BackupOnline_SemServicoDeInternet  BackupOnline_Sim  \\\n",
              "0                 0                                  0                 1   \n",
              "1                 1                                  0                 0   \n",
              "2                 0                                  0                 1   \n",
              "3                 1                                  0                 0   \n",
              "4                 1                                  0                 0   \n",
              "\n",
              "   SeguroNoDispositivo_Nao  SeguroNoDispositivo_SemServicoDeInternet  \\\n",
              "0                        1                                         0   \n",
              "1                        0                                         0   \n",
              "2                        1                                         0   \n",
              "3                        0                                         0   \n",
              "4                        1                                         0   \n",
              "\n",
              "   SeguroNoDispositivo_Sim  SuporteTecnico_Nao  \\\n",
              "0                        0                   1   \n",
              "1                        1                   1   \n",
              "2                        0                   1   \n",
              "3                        1                   0   \n",
              "4                        0                   1   \n",
              "\n",
              "   SuporteTecnico_SemServicoDeInternet  SuporteTecnico_Sim  TVaCabo_Nao  \\\n",
              "0                                    0                   0            1   \n",
              "1                                    0                   0            1   \n",
              "2                                    0                   0            1   \n",
              "3                                    0                   1            1   \n",
              "4                                    0                   0            1   \n",
              "\n",
              "   TVaCabo_SemServicoDeInternet  TVaCabo_Sim  StreamingDeFilmes_Nao  \\\n",
              "0                             0            0                      1   \n",
              "1                             0            0                      1   \n",
              "2                             0            0                      1   \n",
              "3                             0            0                      1   \n",
              "4                             0            0                      1   \n",
              "\n",
              "   StreamingDeFilmes_SemServicoDeInternet  StreamingDeFilmes_Sim  \\\n",
              "0                                       0                      0   \n",
              "1                                       0                      0   \n",
              "2                                       0                      0   \n",
              "3                                       0                      0   \n",
              "4                                       0                      0   \n",
              "\n",
              "   TipoDeContrato_DoisAnos  TipoDeContrato_Mensalmente  TipoDeContrato_UmAno  \\\n",
              "0                        0                           1                     0   \n",
              "1                        0                           0                     1   \n",
              "2                        0                           1                     0   \n",
              "3                        0                           0                     1   \n",
              "4                        0                           1                     0   \n",
              "\n",
              "   FormaDePagamento_CartaoDeCredito  FormaDePagamento_ChequeDigital  \\\n",
              "0                                 0                               1   \n",
              "1                                 0                               0   \n",
              "2                                 0                               0   \n",
              "3                                 0                               0   \n",
              "4                                 0                               1   \n",
              "\n",
              "   FormaDePagamento_ChequePapel  FormaDePagamento_DebitoEmConta  \n",
              "0                             0                               0  \n",
              "1                             1                               0  \n",
              "2                             1                               0  \n",
              "3                             0                               1  \n",
              "4                             0                               0  "
            ],
            "text/html": [
              "\n",
              "  <div id=\"df-4b41da0a-43f2-45f9-a65e-35370ffaaaae\">\n",
              "    <div class=\"colab-df-container\">\n",
              "      <div>\n",
              "<style scoped>\n",
              "    .dataframe tbody tr th:only-of-type {\n",
              "        vertical-align: middle;\n",
              "    }\n",
              "\n",
              "    .dataframe tbody tr th {\n",
              "        vertical-align: top;\n",
              "    }\n",
              "\n",
              "    .dataframe thead th {\n",
              "        text-align: right;\n",
              "    }\n",
              "</style>\n",
              "<table border=\"1\" class=\"dataframe\">\n",
              "  <thead>\n",
              "    <tr style=\"text-align: right;\">\n",
              "      <th></th>\n",
              "      <th>Conjuge</th>\n",
              "      <th>Dependentes</th>\n",
              "      <th>TelefoneFixo</th>\n",
              "      <th>PagamentoOnline</th>\n",
              "      <th>Churn</th>\n",
              "      <th>Maior65Anos</th>\n",
              "      <th>MesesDeContrato</th>\n",
              "      <th>ContaMensal</th>\n",
              "      <th>VariasLinhasTelefonicas_Nao</th>\n",
              "      <th>VariasLinhasTelefonicas_SemServicoTelefonico</th>\n",
              "      <th>VariasLinhasTelefonicas_Sim</th>\n",
              "      <th>ServicoDeInternet_DSL</th>\n",
              "      <th>ServicoDeInternet_FibraOptica</th>\n",
              "      <th>ServicoDeInternet_Nao</th>\n",
              "      <th>SegurancaOnline_Nao</th>\n",
              "      <th>SegurancaOnline_SemServicoDeInternet</th>\n",
              "      <th>SegurancaOnline_Sim</th>\n",
              "      <th>BackupOnline_Nao</th>\n",
              "      <th>BackupOnline_SemServicoDeInternet</th>\n",
              "      <th>BackupOnline_Sim</th>\n",
              "      <th>SeguroNoDispositivo_Nao</th>\n",
              "      <th>SeguroNoDispositivo_SemServicoDeInternet</th>\n",
              "      <th>SeguroNoDispositivo_Sim</th>\n",
              "      <th>SuporteTecnico_Nao</th>\n",
              "      <th>SuporteTecnico_SemServicoDeInternet</th>\n",
              "      <th>SuporteTecnico_Sim</th>\n",
              "      <th>TVaCabo_Nao</th>\n",
              "      <th>TVaCabo_SemServicoDeInternet</th>\n",
              "      <th>TVaCabo_Sim</th>\n",
              "      <th>StreamingDeFilmes_Nao</th>\n",
              "      <th>StreamingDeFilmes_SemServicoDeInternet</th>\n",
              "      <th>StreamingDeFilmes_Sim</th>\n",
              "      <th>TipoDeContrato_DoisAnos</th>\n",
              "      <th>TipoDeContrato_Mensalmente</th>\n",
              "      <th>TipoDeContrato_UmAno</th>\n",
              "      <th>FormaDePagamento_CartaoDeCredito</th>\n",
              "      <th>FormaDePagamento_ChequeDigital</th>\n",
              "      <th>FormaDePagamento_ChequePapel</th>\n",
              "      <th>FormaDePagamento_DebitoEmConta</th>\n",
              "    </tr>\n",
              "  </thead>\n",
              "  <tbody>\n",
              "    <tr>\n",
              "      <th>0</th>\n",
              "      <td>1</td>\n",
              "      <td>0</td>\n",
              "      <td>0</td>\n",
              "      <td>1</td>\n",
              "      <td>0</td>\n",
              "      <td>0</td>\n",
              "      <td>1</td>\n",
              "      <td>29.85</td>\n",
              "      <td>0</td>\n",
              "      <td>1</td>\n",
              "      <td>0</td>\n",
              "      <td>1</td>\n",
              "      <td>0</td>\n",
              "      <td>0</td>\n",
              "      <td>1</td>\n",
              "      <td>0</td>\n",
              "      <td>0</td>\n",
              "      <td>0</td>\n",
              "      <td>0</td>\n",
              "      <td>1</td>\n",
              "      <td>1</td>\n",
              "      <td>0</td>\n",
              "      <td>0</td>\n",
              "      <td>1</td>\n",
              "      <td>0</td>\n",
              "      <td>0</td>\n",
              "      <td>1</td>\n",
              "      <td>0</td>\n",
              "      <td>0</td>\n",
              "      <td>1</td>\n",
              "      <td>0</td>\n",
              "      <td>0</td>\n",
              "      <td>0</td>\n",
              "      <td>1</td>\n",
              "      <td>0</td>\n",
              "      <td>0</td>\n",
              "      <td>1</td>\n",
              "      <td>0</td>\n",
              "      <td>0</td>\n",
              "    </tr>\n",
              "    <tr>\n",
              "      <th>1</th>\n",
              "      <td>0</td>\n",
              "      <td>0</td>\n",
              "      <td>1</td>\n",
              "      <td>0</td>\n",
              "      <td>0</td>\n",
              "      <td>0</td>\n",
              "      <td>34</td>\n",
              "      <td>56.95</td>\n",
              "      <td>1</td>\n",
              "      <td>0</td>\n",
              "      <td>0</td>\n",
              "      <td>1</td>\n",
              "      <td>0</td>\n",
              "      <td>0</td>\n",
              "      <td>0</td>\n",
              "      <td>0</td>\n",
              "      <td>1</td>\n",
              "      <td>1</td>\n",
              "      <td>0</td>\n",
              "      <td>0</td>\n",
              "      <td>0</td>\n",
              "      <td>0</td>\n",
              "      <td>1</td>\n",
              "      <td>1</td>\n",
              "      <td>0</td>\n",
              "      <td>0</td>\n",
              "      <td>1</td>\n",
              "      <td>0</td>\n",
              "      <td>0</td>\n",
              "      <td>1</td>\n",
              "      <td>0</td>\n",
              "      <td>0</td>\n",
              "      <td>0</td>\n",
              "      <td>0</td>\n",
              "      <td>1</td>\n",
              "      <td>0</td>\n",
              "      <td>0</td>\n",
              "      <td>1</td>\n",
              "      <td>0</td>\n",
              "    </tr>\n",
              "    <tr>\n",
              "      <th>2</th>\n",
              "      <td>0</td>\n",
              "      <td>0</td>\n",
              "      <td>1</td>\n",
              "      <td>1</td>\n",
              "      <td>1</td>\n",
              "      <td>0</td>\n",
              "      <td>2</td>\n",
              "      <td>53.85</td>\n",
              "      <td>1</td>\n",
              "      <td>0</td>\n",
              "      <td>0</td>\n",
              "      <td>1</td>\n",
              "      <td>0</td>\n",
              "      <td>0</td>\n",
              "      <td>0</td>\n",
              "      <td>0</td>\n",
              "      <td>1</td>\n",
              "      <td>0</td>\n",
              "      <td>0</td>\n",
              "      <td>1</td>\n",
              "      <td>1</td>\n",
              "      <td>0</td>\n",
              "      <td>0</td>\n",
              "      <td>1</td>\n",
              "      <td>0</td>\n",
              "      <td>0</td>\n",
              "      <td>1</td>\n",
              "      <td>0</td>\n",
              "      <td>0</td>\n",
              "      <td>1</td>\n",
              "      <td>0</td>\n",
              "      <td>0</td>\n",
              "      <td>0</td>\n",
              "      <td>1</td>\n",
              "      <td>0</td>\n",
              "      <td>0</td>\n",
              "      <td>0</td>\n",
              "      <td>1</td>\n",
              "      <td>0</td>\n",
              "    </tr>\n",
              "    <tr>\n",
              "      <th>3</th>\n",
              "      <td>0</td>\n",
              "      <td>0</td>\n",
              "      <td>0</td>\n",
              "      <td>0</td>\n",
              "      <td>0</td>\n",
              "      <td>0</td>\n",
              "      <td>45</td>\n",
              "      <td>42.30</td>\n",
              "      <td>0</td>\n",
              "      <td>1</td>\n",
              "      <td>0</td>\n",
              "      <td>1</td>\n",
              "      <td>0</td>\n",
              "      <td>0</td>\n",
              "      <td>0</td>\n",
              "      <td>0</td>\n",
              "      <td>1</td>\n",
              "      <td>1</td>\n",
              "      <td>0</td>\n",
              "      <td>0</td>\n",
              "      <td>0</td>\n",
              "      <td>0</td>\n",
              "      <td>1</td>\n",
              "      <td>0</td>\n",
              "      <td>0</td>\n",
              "      <td>1</td>\n",
              "      <td>1</td>\n",
              "      <td>0</td>\n",
              "      <td>0</td>\n",
              "      <td>1</td>\n",
              "      <td>0</td>\n",
              "      <td>0</td>\n",
              "      <td>0</td>\n",
              "      <td>0</td>\n",
              "      <td>1</td>\n",
              "      <td>0</td>\n",
              "      <td>0</td>\n",
              "      <td>0</td>\n",
              "      <td>1</td>\n",
              "    </tr>\n",
              "    <tr>\n",
              "      <th>4</th>\n",
              "      <td>0</td>\n",
              "      <td>0</td>\n",
              "      <td>1</td>\n",
              "      <td>1</td>\n",
              "      <td>1</td>\n",
              "      <td>0</td>\n",
              "      <td>2</td>\n",
              "      <td>70.70</td>\n",
              "      <td>1</td>\n",
              "      <td>0</td>\n",
              "      <td>0</td>\n",
              "      <td>0</td>\n",
              "      <td>1</td>\n",
              "      <td>0</td>\n",
              "      <td>1</td>\n",
              "      <td>0</td>\n",
              "      <td>0</td>\n",
              "      <td>1</td>\n",
              "      <td>0</td>\n",
              "      <td>0</td>\n",
              "      <td>1</td>\n",
              "      <td>0</td>\n",
              "      <td>0</td>\n",
              "      <td>1</td>\n",
              "      <td>0</td>\n",
              "      <td>0</td>\n",
              "      <td>1</td>\n",
              "      <td>0</td>\n",
              "      <td>0</td>\n",
              "      <td>1</td>\n",
              "      <td>0</td>\n",
              "      <td>0</td>\n",
              "      <td>0</td>\n",
              "      <td>1</td>\n",
              "      <td>0</td>\n",
              "      <td>0</td>\n",
              "      <td>1</td>\n",
              "      <td>0</td>\n",
              "      <td>0</td>\n",
              "    </tr>\n",
              "  </tbody>\n",
              "</table>\n",
              "</div>\n",
              "      <button class=\"colab-df-convert\" onclick=\"convertToInteractive('df-4b41da0a-43f2-45f9-a65e-35370ffaaaae')\"\n",
              "              title=\"Convert this dataframe to an interactive table.\"\n",
              "              style=\"display:none;\">\n",
              "        \n",
              "  <svg xmlns=\"http://www.w3.org/2000/svg\" height=\"24px\"viewBox=\"0 0 24 24\"\n",
              "       width=\"24px\">\n",
              "    <path d=\"M0 0h24v24H0V0z\" fill=\"none\"/>\n",
              "    <path d=\"M18.56 5.44l.94 2.06.94-2.06 2.06-.94-2.06-.94-.94-2.06-.94 2.06-2.06.94zm-11 1L8.5 8.5l.94-2.06 2.06-.94-2.06-.94L8.5 2.5l-.94 2.06-2.06.94zm10 10l.94 2.06.94-2.06 2.06-.94-2.06-.94-.94-2.06-.94 2.06-2.06.94z\"/><path d=\"M17.41 7.96l-1.37-1.37c-.4-.4-.92-.59-1.43-.59-.52 0-1.04.2-1.43.59L10.3 9.45l-7.72 7.72c-.78.78-.78 2.05 0 2.83L4 21.41c.39.39.9.59 1.41.59.51 0 1.02-.2 1.41-.59l7.78-7.78 2.81-2.81c.8-.78.8-2.07 0-2.86zM5.41 20L4 18.59l7.72-7.72 1.47 1.35L5.41 20z\"/>\n",
              "  </svg>\n",
              "      </button>\n",
              "      \n",
              "  <style>\n",
              "    .colab-df-container {\n",
              "      display:flex;\n",
              "      flex-wrap:wrap;\n",
              "      gap: 12px;\n",
              "    }\n",
              "\n",
              "    .colab-df-convert {\n",
              "      background-color: #E8F0FE;\n",
              "      border: none;\n",
              "      border-radius: 50%;\n",
              "      cursor: pointer;\n",
              "      display: none;\n",
              "      fill: #1967D2;\n",
              "      height: 32px;\n",
              "      padding: 0 0 0 0;\n",
              "      width: 32px;\n",
              "    }\n",
              "\n",
              "    .colab-df-convert:hover {\n",
              "      background-color: #E2EBFA;\n",
              "      box-shadow: 0px 1px 2px rgba(60, 64, 67, 0.3), 0px 1px 3px 1px rgba(60, 64, 67, 0.15);\n",
              "      fill: #174EA6;\n",
              "    }\n",
              "\n",
              "    [theme=dark] .colab-df-convert {\n",
              "      background-color: #3B4455;\n",
              "      fill: #D2E3FC;\n",
              "    }\n",
              "\n",
              "    [theme=dark] .colab-df-convert:hover {\n",
              "      background-color: #434B5C;\n",
              "      box-shadow: 0px 1px 3px 1px rgba(0, 0, 0, 0.15);\n",
              "      filter: drop-shadow(0px 1px 2px rgba(0, 0, 0, 0.3));\n",
              "      fill: #FFFFFF;\n",
              "    }\n",
              "  </style>\n",
              "\n",
              "      <script>\n",
              "        const buttonEl =\n",
              "          document.querySelector('#df-4b41da0a-43f2-45f9-a65e-35370ffaaaae button.colab-df-convert');\n",
              "        buttonEl.style.display =\n",
              "          google.colab.kernel.accessAllowed ? 'block' : 'none';\n",
              "\n",
              "        async function convertToInteractive(key) {\n",
              "          const element = document.querySelector('#df-4b41da0a-43f2-45f9-a65e-35370ffaaaae');\n",
              "          const dataTable =\n",
              "            await google.colab.kernel.invokeFunction('convertToInteractive',\n",
              "                                                     [key], {});\n",
              "          if (!dataTable) return;\n",
              "\n",
              "          const docLinkHtml = 'Like what you see? Visit the ' +\n",
              "            '<a target=\"_blank\" href=https://colab.research.google.com/notebooks/data_table.ipynb>data table notebook</a>'\n",
              "            + ' to learn more about interactive tables.';\n",
              "          element.innerHTML = '';\n",
              "          dataTable['output_type'] = 'display_data';\n",
              "          await google.colab.output.renderOutput(dataTable, element);\n",
              "          const docLink = document.createElement('div');\n",
              "          docLink.innerHTML = docLinkHtml;\n",
              "          element.appendChild(docLink);\n",
              "        }\n",
              "      </script>\n",
              "    </div>\n",
              "  </div>\n",
              "  "
            ]
          },
          "metadata": {},
          "execution_count": 14
        }
      ]
    },
    {
      "cell_type": "markdown",
      "source": [
        "![fx.jpg](data:image/jpeg;base64,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)\n"
      ],
      "metadata": {
        "id": "ar4r1JHkjGYU"
      }
    },
    {
      "cell_type": "code",
      "source": [
        "Xmaria = [[0,0,1,1,0,0,39.90,1,0,0,0,1,0,1,0,0,0,0,1,1,1,0,0,1,0,1,0,0,0,0,1,0,0,1,0,0,0,1]]"
      ],
      "metadata": {
        "id": "kKzA6LWQihUl"
      },
      "execution_count": 30,
      "outputs": []
    },
    {
      "cell_type": "code",
      "source": [
        "#ymaria = ?"
      ],
      "metadata": {
        "id": "t1lG80Or3v85"
      },
      "execution_count": null,
      "outputs": []
    },
    {
      "cell_type": "markdown",
      "source": [
        "**Balanceamento dos dados**"
      ],
      "metadata": {
        "id": "AW1TU8Ed41S5"
      }
    },
    {
      "cell_type": "code",
      "source": [
        "#Variável target está desbalanceada\n",
        "import seaborn as sns\n",
        "%matplotlib inline\n",
        "ax = sns.countplot(x='Churn', data=dados_final)"
      ],
      "metadata": {
        "colab": {
          "base_uri": "https://localhost:8080/",
          "height": 449
        },
        "id": "d6mcLjX73vyw",
        "outputId": "ff0b8b17-da3d-41b6-c74d-2c5b5f633679"
      },
      "execution_count": 32,
      "outputs": [
        {
          "output_type": "display_data",
          "data": {
            "text/plain": [
              "<Figure size 640x480 with 1 Axes>"
            ],
            "image/png": "[encoded data removed]"
          },
          "metadata": {}
        }
      ]
    },
    {
      "cell_type": "code",
      "source": [
        "dados_final.Churn.value_counts()"
      ],
      "metadata": {
        "colab": {
          "base_uri": "https://localhost:8080/"
        },
        "id": "6FV4WSZ13voR",
        "outputId": "9b2f8cb7-9c6f-419f-a58f-a1533afa203a"
      },
      "execution_count": 33,
      "outputs": [
        {
          "output_type": "execute_result",
          "data": {
            "text/plain": [
              "0    5174\n",
              "1    1869\n",
              "Name: Churn, dtype: int64"
            ]
          },
          "metadata": {},
          "execution_count": 33
        }
      ]
    },
    {
      "cell_type": "code",
      "source": [
        "#Biblioteca para balanceamento dos dados usando over_sampling\n",
        "from imblearn.over_sampling import SMOTE"
      ],
      "metadata": {
        "id": "54DbHQax6BbM"
      },
      "execution_count": 34,
      "outputs": []
    },
    {
      "cell_type": "code",
      "source": [
        "#Dividindo os dados em caracteristicas e target\n",
        "X = dados_final.drop('Churn', axis= 1)\n",
        "y = dados_final['Churn']"
      ],
      "metadata": {
        "id": "pltaErUa6BWZ"
      },
      "execution_count": 35,
      "outputs": []
    },
    {
      "cell_type": "code",
      "source": [
        "smt = SMOTE(random_state=123)\n",
        "X,y = smt.fit_resample(X,y)"
      ],
      "metadata": {
        "id": "RUN3iq8K6BRV"
      },
      "execution_count": 36,
      "outputs": []
    },
    {
      "cell_type": "code",
      "source": [
        "#Junção dos dados balanceados\n",
        "dados_final = pd.concat([X, y], axis= 1)"
      ],
      "metadata": {
        "id": "KNKvQkPrC1us"
      },
      "execution_count": 37,
      "outputs": []
    },
    {
      "cell_type": "code",
      "source": [
        "#Verificação 1 - Junção dos dados\n",
        "dados_final.head(2)"
      ],
      "metadata": {
        "colab": {
          "base_uri": "https://localhost:8080/",
          "height": 176
        },
        "id": "z5Fd8XxdEPM-",
        "outputId": "f7752a47-8f3e-4cf7-f71e-4a067218dbe2"
      },
      "execution_count": 38,
      "outputs": [
        {
          "output_type": "execute_result",
          "data": {
            "text/plain": [
              "   Conjuge  Dependentes  TelefoneFixo  PagamentoOnline  Maior65Anos  \\\n",
              "0        1            0             0                1            0   \n",
              "1        0            0             1                0            0   \n",
              "\n",
              "   MesesDeContrato  ContaMensal  VariasLinhasTelefonicas_Nao  \\\n",
              "0                1        29.85                            0   \n",
              "1               34        56.95                            1   \n",
              "\n",
              "   VariasLinhasTelefonicas_SemServicoTelefonico  VariasLinhasTelefonicas_Sim  \\\n",
              "0                                             1                            0   \n",
              "1                                             0                            0   \n",
              "\n",
              "   ServicoDeInternet_DSL  ServicoDeInternet_FibraOptica  \\\n",
              "0                      1                              0   \n",
              "1                      1                              0   \n",
              "\n",
              "   ServicoDeInternet_Nao  SegurancaOnline_Nao  \\\n",
              "0                      0                    1   \n",
              "1                      0                    0   \n",
              "\n",
              "   SegurancaOnline_SemServicoDeInternet  SegurancaOnline_Sim  \\\n",
              "0                                     0                    0   \n",
              "1                                     0                    1   \n",
              "\n",
              "   BackupOnline_Nao  BackupOnline_SemServicoDeInternet  BackupOnline_Sim  \\\n",
              "0                 0                                  0                 1   \n",
              "1                 1                                  0                 0   \n",
              "\n",
              "   SeguroNoDispositivo_Nao  SeguroNoDispositivo_SemServicoDeInternet  \\\n",
              "0                        1                                         0   \n",
              "1                        0                                         0   \n",
              "\n",
              "   SeguroNoDispositivo_Sim  SuporteTecnico_Nao  \\\n",
              "0                        0                   1   \n",
              "1                        1                   1   \n",
              "\n",
              "   SuporteTecnico_SemServicoDeInternet  SuporteTecnico_Sim  TVaCabo_Nao  \\\n",
              "0                                    0                   0            1   \n",
              "1                                    0                   0            1   \n",
              "\n",
              "   TVaCabo_SemServicoDeInternet  TVaCabo_Sim  StreamingDeFilmes_Nao  \\\n",
              "0                             0            0                      1   \n",
              "1                             0            0                      1   \n",
              "\n",
              "   StreamingDeFilmes_SemServicoDeInternet  StreamingDeFilmes_Sim  \\\n",
              "0                                       0                      0   \n",
              "1                                       0                      0   \n",
              "\n",
              "   TipoDeContrato_DoisAnos  TipoDeContrato_Mensalmente  TipoDeContrato_UmAno  \\\n",
              "0                        0                           1                     0   \n",
              "1                        0                           0                     1   \n",
              "\n",
              "   FormaDePagamento_CartaoDeCredito  FormaDePagamento_ChequeDigital  \\\n",
              "0                                 0                               1   \n",
              "1                                 0                               0   \n",
              "\n",
              "   FormaDePagamento_ChequePapel  FormaDePagamento_DebitoEmConta  Churn  \n",
              "0                             0                               0      0  \n",
              "1                             1                               0      0  "
            ],
            "text/html": [
              "\n",
              "  <div id=\"df-0c6bec0a-cc33-40c7-b0ae-baa7f662c173\">\n",
              "    <div class=\"colab-df-container\">\n",
              "      <div>\n",
              "<style scoped>\n",
              "    .dataframe tbody tr th:only-of-type {\n",
              "        vertical-align: middle;\n",
              "    }\n",
              "\n",
              "    .dataframe tbody tr th {\n",
              "        vertical-align: top;\n",
              "    }\n",
              "\n",
              "    .dataframe thead th {\n",
              "        text-align: right;\n",
              "    }\n",
              "</style>\n",
              "<table border=\"1\" class=\"dataframe\">\n",
              "  <thead>\n",
              "    <tr style=\"text-align: right;\">\n",
              "      <th></th>\n",
              "      <th>Conjuge</th>\n",
              "      <th>Dependentes</th>\n",
              "      <th>TelefoneFixo</th>\n",
              "      <th>PagamentoOnline</th>\n",
              "      <th>Maior65Anos</th>\n",
              "      <th>MesesDeContrato</th>\n",
              "      <th>ContaMensal</th>\n",
              "      <th>VariasLinhasTelefonicas_Nao</th>\n",
              "      <th>VariasLinhasTelefonicas_SemServicoTelefonico</th>\n",
              "      <th>VariasLinhasTelefonicas_Sim</th>\n",
              "      <th>ServicoDeInternet_DSL</th>\n",
              "      <th>ServicoDeInternet_FibraOptica</th>\n",
              "      <th>ServicoDeInternet_Nao</th>\n",
              "      <th>SegurancaOnline_Nao</th>\n",
              "      <th>SegurancaOnline_SemServicoDeInternet</th>\n",
              "      <th>SegurancaOnline_Sim</th>\n",
              "      <th>BackupOnline_Nao</th>\n",
              "      <th>BackupOnline_SemServicoDeInternet</th>\n",
              "      <th>BackupOnline_Sim</th>\n",
              "      <th>SeguroNoDispositivo_Nao</th>\n",
              "      <th>SeguroNoDispositivo_SemServicoDeInternet</th>\n",
              "      <th>SeguroNoDispositivo_Sim</th>\n",
              "      <th>SuporteTecnico_Nao</th>\n",
              "      <th>SuporteTecnico_SemServicoDeInternet</th>\n",
              "      <th>SuporteTecnico_Sim</th>\n",
              "      <th>TVaCabo_Nao</th>\n",
              "      <th>TVaCabo_SemServicoDeInternet</th>\n",
              "      <th>TVaCabo_Sim</th>\n",
              "      <th>StreamingDeFilmes_Nao</th>\n",
              "      <th>StreamingDeFilmes_SemServicoDeInternet</th>\n",
              "      <th>StreamingDeFilmes_Sim</th>\n",
              "      <th>TipoDeContrato_DoisAnos</th>\n",
              "      <th>TipoDeContrato_Mensalmente</th>\n",
              "      <th>TipoDeContrato_UmAno</th>\n",
              "      <th>FormaDePagamento_CartaoDeCredito</th>\n",
              "      <th>FormaDePagamento_ChequeDigital</th>\n",
              "      <th>FormaDePagamento_ChequePapel</th>\n",
              "      <th>FormaDePagamento_DebitoEmConta</th>\n",
              "      <th>Churn</th>\n",
              "    </tr>\n",
              "  </thead>\n",
              "  <tbody>\n",
              "    <tr>\n",
              "      <th>0</th>\n",
              "      <td>1</td>\n",
              "      <td>0</td>\n",
              "      <td>0</td>\n",
              "      <td>1</td>\n",
              "      <td>0</td>\n",
              "      <td>1</td>\n",
              "      <td>29.85</td>\n",
              "      <td>0</td>\n",
              "      <td>1</td>\n",
              "      <td>0</td>\n",
              "      <td>1</td>\n",
              "      <td>0</td>\n",
              "      <td>0</td>\n",
              "      <td>1</td>\n",
              "      <td>0</td>\n",
              "      <td>0</td>\n",
              "      <td>0</td>\n",
              "      <td>0</td>\n",
              "      <td>1</td>\n",
              "      <td>1</td>\n",
              "      <td>0</td>\n",
              "      <td>0</td>\n",
              "      <td>1</td>\n",
              "      <td>0</td>\n",
              "      <td>0</td>\n",
              "      <td>1</td>\n",
              "      <td>0</td>\n",
              "      <td>0</td>\n",
              "      <td>1</td>\n",
              "      <td>0</td>\n",
              "      <td>0</td>\n",
              "      <td>0</td>\n",
              "      <td>1</td>\n",
              "      <td>0</td>\n",
              "      <td>0</td>\n",
              "      <td>1</td>\n",
              "      <td>0</td>\n",
              "      <td>0</td>\n",
              "      <td>0</td>\n",
              "    </tr>\n",
              "    <tr>\n",
              "      <th>1</th>\n",
              "      <td>0</td>\n",
              "      <td>0</td>\n",
              "      <td>1</td>\n",
              "      <td>0</td>\n",
              "      <td>0</td>\n",
              "      <td>34</td>\n",
              "      <td>56.95</td>\n",
              "      <td>1</td>\n",
              "      <td>0</td>\n",
              "      <td>0</td>\n",
              "      <td>1</td>\n",
              "      <td>0</td>\n",
              "      <td>0</td>\n",
              "      <td>0</td>\n",
              "      <td>0</td>\n",
              "      <td>1</td>\n",
              "      <td>1</td>\n",
              "      <td>0</td>\n",
              "      <td>0</td>\n",
              "      <td>0</td>\n",
              "      <td>0</td>\n",
              "      <td>1</td>\n",
              "      <td>1</td>\n",
              "      <td>0</td>\n",
              "      <td>0</td>\n",
              "      <td>1</td>\n",
              "      <td>0</td>\n",
              "      <td>0</td>\n",
              "      <td>1</td>\n",
              "      <td>0</td>\n",
              "      <td>0</td>\n",
              "      <td>0</td>\n",
              "      <td>0</td>\n",
              "      <td>1</td>\n",
              "      <td>0</td>\n",
              "      <td>0</td>\n",
              "      <td>1</td>\n",
              "      <td>0</td>\n",
              "      <td>0</td>\n",
              "    </tr>\n",
              "  </tbody>\n",
              "</table>\n",
              "</div>\n",
              "      <button class=\"colab-df-convert\" onclick=\"convertToInteractive('df-0c6bec0a-cc33-40c7-b0ae-baa7f662c173')\"\n",
              "              title=\"Convert this dataframe to an interactive table.\"\n",
              "              style=\"display:none;\">\n",
              "        \n",
              "  <svg xmlns=\"http://www.w3.org/2000/svg\" height=\"24px\"viewBox=\"0 0 24 24\"\n",
              "       width=\"24px\">\n",
              "    <path d=\"M0 0h24v24H0V0z\" fill=\"none\"/>\n",
              "    <path d=\"M18.56 5.44l.94 2.06.94-2.06 2.06-.94-2.06-.94-.94-2.06-.94 2.06-2.06.94zm-11 1L8.5 8.5l.94-2.06 2.06-.94-2.06-.94L8.5 2.5l-.94 2.06-2.06.94zm10 10l.94 2.06.94-2.06 2.06-.94-2.06-.94-.94-2.06-.94 2.06-2.06.94z\"/><path d=\"M17.41 7.96l-1.37-1.37c-.4-.4-.92-.59-1.43-.59-.52 0-1.04.2-1.43.59L10.3 9.45l-7.72 7.72c-.78.78-.78 2.05 0 2.83L4 21.41c.39.39.9.59 1.41.59.51 0 1.02-.2 1.41-.59l7.78-7.78 2.81-2.81c.8-.78.8-2.07 0-2.86zM5.41 20L4 18.59l7.72-7.72 1.47 1.35L5.41 20z\"/>\n",
              "  </svg>\n",
              "      </button>\n",
              "      \n",
              "  <style>\n",
              "    .colab-df-container {\n",
              "      display:flex;\n",
              "      flex-wrap:wrap;\n",
              "      gap: 12px;\n",
              "    }\n",
              "\n",
              "    .colab-df-convert {\n",
              "      background-color: #E8F0FE;\n",
              "      border: none;\n",
              "      border-radius: 50%;\n",
              "      cursor: pointer;\n",
              "      display: none;\n",
              "      fill: #1967D2;\n",
              "      height: 32px;\n",
              "      padding: 0 0 0 0;\n",
              "      width: 32px;\n",
              "    }\n",
              "\n",
              "    .colab-df-convert:hover {\n",
              "      background-color: #E2EBFA;\n",
              "      box-shadow: 0px 1px 2px rgba(60, 64, 67, 0.3), 0px 1px 3px 1px rgba(60, 64, 67, 0.15);\n",
              "      fill: #174EA6;\n",
              "    }\n",
              "\n",
              "    [theme=dark] .colab-df-convert {\n",
              "      background-color: #3B4455;\n",
              "      fill: #D2E3FC;\n",
              "    }\n",
              "\n",
              "    [theme=dark] .colab-df-convert:hover {\n",
              "      background-color: #434B5C;\n",
              "      box-shadow: 0px 1px 3px 1px rgba(0, 0, 0, 0.15);\n",
              "      filter: drop-shadow(0px 1px 2px rgba(0, 0, 0, 0.3));\n",
              "      fill: #FFFFFF;\n",
              "    }\n",
              "  </style>\n",
              "\n",
              "      <script>\n",
              "        const buttonEl =\n",
              "          document.querySelector('#df-0c6bec0a-cc33-40c7-b0ae-baa7f662c173 button.colab-df-convert');\n",
              "        buttonEl.style.display =\n",
              "          google.colab.kernel.accessAllowed ? 'block' : 'none';\n",
              "\n",
              "        async function convertToInteractive(key) {\n",
              "          const element = document.querySelector('#df-0c6bec0a-cc33-40c7-b0ae-baa7f662c173');\n",
              "          const dataTable =\n",
              "            await google.colab.kernel.invokeFunction('convertToInteractive',\n",
              "                                                     [key], {});\n",
              "          if (!dataTable) return;\n",
              "\n",
              "          const docLinkHtml = 'Like what you see? Visit the ' +\n",
              "            '<a target=\"_blank\" href=https://colab.research.google.com/notebooks/data_table.ipynb>data table notebook</a>'\n",
              "            + ' to learn more about interactive tables.';\n",
              "          element.innerHTML = '';\n",
              "          dataTable['output_type'] = 'display_data';\n",
              "          await google.colab.output.renderOutput(dataTable, element);\n",
              "          const docLink = document.createElement('div');\n",
              "          docLink.innerHTML = docLinkHtml;\n",
              "          element.appendChild(docLink);\n",
              "        }\n",
              "      </script>\n",
              "    </div>\n",
              "  </div>\n",
              "  "
            ]
          },
          "metadata": {},
          "execution_count": 38
        }
      ]
    },
    {
      "cell_type": "code",
      "source": [
        "#Vericação 2 - balanceamento\n",
        "ax = sns.countplot(x='Churn', data=dados_final)"
      ],
      "metadata": {
        "colab": {
          "base_uri": "https://localhost:8080/",
          "height": 449
        },
        "id": "_woWdYlfEPAp",
        "outputId": "bae60a22-53f6-4f6d-b73f-46c4a36ec56e"
      },
      "execution_count": 39,
      "outputs": [
        {
          "output_type": "display_data",
          "data": {
            "text/plain": [
              "<Figure size 640x480 with 1 Axes>"
            ],
            "image/png": "[encoded data removed]"
          },
          "metadata": {}
        }
      ]
    },
    {
      "cell_type": "code",
      "source": [
        "dados_final.Churn.value_counts()"
      ],
      "metadata": {
        "colab": {
          "base_uri": "https://localhost:8080/"
        },
        "id": "nmNsz7beExlj",
        "outputId": "c9a63364-3e5a-4bed-ab40-27b3e2a3b3cf"
      },
      "execution_count": 40,
      "outputs": [
        {
          "output_type": "execute_result",
          "data": {
            "text/plain": [
              "0    5174\n",
              "1    5174\n",
              "Name: Churn, dtype: int64"
            ]
          },
          "metadata": {},
          "execution_count": 40
        }
      ]
    },
    {
      "cell_type": "markdown",
      "source": [
        "# **Metódos baseado na proximidade**\n",
        "<br/>\n",
        "Modelo K-nearest neighbours(KNN)\n",
        "<br/>\n",
        "KNN por trás dos panos"
      ],
      "metadata": {
        "id": "B0CvgxyvE93F"
      }
    },
    {
      "cell_type": "code",
      "source": [
        "Xmaria"
      ],
      "metadata": {
        "colab": {
          "base_uri": "https://localhost:8080/"
        },
        "id": "NK1GBcKrF_H8",
        "outputId": "75607ae9-20f8-4fab-8bd0-44431a2cce57"
      },
      "execution_count": 41,
      "outputs": [
        {
          "output_type": "execute_result",
          "data": {
            "text/plain": [
              "[[0,\n",
              "  0,\n",
              "  1,\n",
              "  1,\n",
              "  0,\n",
              "  0,\n",
              "  39.9,\n",
              "  1,\n",
              "  0,\n",
              "  0,\n",
              "  0,\n",
              "  1,\n",
              "  0,\n",
              "  1,\n",
              "  0,\n",
              "  0,\n",
              "  0,\n",
              "  0,\n",
              "  1,\n",
              "  1,\n",
              "  1,\n",
              "  0,\n",
              "  0,\n",
              "  1,\n",
              "  0,\n",
              "  1,\n",
              "  0,\n",
              "  0,\n",
              "  0,\n",
              "  0,\n",
              "  1,\n",
              "  0,\n",
              "  0,\n",
              "  1,\n",
              "  0,\n",
              "  0,\n",
              "  0,\n",
              "  1]]"
            ]
          },
          "metadata": {},
          "execution_count": 41
        }
      ]
    },
    {
      "cell_type": "code",
      "source": [
        "#ymaria = ?"
      ],
      "metadata": {
        "id": "S_MXBl6gGEmq"
      },
      "execution_count": 42,
      "outputs": []
    },
    {
      "cell_type": "code",
      "source": [
        "#Divisão em inputs e outputs\n",
        "X = dados_final.drop('Churn', axis = 1)\n",
        "y = dados_final['Churn']"
      ],
      "metadata": {
        "id": "En3YuPIDzeXR"
      },
      "execution_count": 44,
      "outputs": []
    },
    {
      "cell_type": "code",
      "source": [
        "#biblioteca para padronizar os dados\n",
        "from sklearn.preprocessing import StandardScaler"
      ],
      "metadata": {
        "id": "EatTmwgrzx_x"
      },
      "execution_count": 45,
      "outputs": []
    },
    {
      "cell_type": "code",
      "source": [
        "norm = StandardScaler()\n",
        "\n",
        "X_normalizado = norm.fit_transform(X)\n",
        "X_normalizado"
      ],
      "metadata": {
        "colab": {
          "base_uri": "https://localhost:8080/"
        },
        "id": "kYHihGSw0E3R",
        "outputId": "e6108d1c-da72-4e7e-ec1e-ef8f9786598f"
      },
      "execution_count": 46,
      "outputs": [
        {
          "output_type": "execute_result",
          "data": {
            "text/plain": [
              "array([[ 1.26542767, -0.52771004, -3.06083934, ...,  1.30373042,\n",
              "        -0.47912706, -0.4360152 ],\n",
              "       [-0.79024667, -0.52771004,  0.32670777, ..., -0.76702973,\n",
              "         2.08712905, -0.4360152 ],\n",
              "       [-0.79024667, -0.52771004,  0.32670777, ..., -0.76702973,\n",
              "         2.08712905, -0.4360152 ],\n",
              "       ...,\n",
              "       [-0.79024667, -0.52771004,  0.32670777, ...,  1.30373042,\n",
              "        -0.47912706, -0.4360152 ],\n",
              "       [-0.79024667, -0.52771004,  0.32670777, ..., -0.76702973,\n",
              "        -0.47912706, -0.4360152 ],\n",
              "       [-0.79024667, -0.52771004,  0.32670777, ..., -0.76702973,\n",
              "        -0.47912706, -0.4360152 ]])"
            ]
          },
          "metadata": {},
          "execution_count": 46
        }
      ]
    },
    {
      "cell_type": "code",
      "source": [
        "X_normalizado[0]"
      ],
      "metadata": {
        "colab": {
          "base_uri": "https://localhost:8080/"
        },
        "id": "LP5d-wyp0lxY",
        "outputId": "8aed2a22-876a-4c5e-e9a5-754b8dde2f1e"
      },
      "execution_count": 51,
      "outputs": [
        {
          "output_type": "execute_result",
          "data": {
            "text/plain": [
              "array([ 1.26542767, -0.52771004, -3.06083934,  0.81482091, -0.41318358,\n",
              "       -1.10771815, -1.3217706 , -0.88447396,  3.18604176, -0.83366906,\n",
              "        1.51268338, -1.04386816, -0.44617598,  0.86827317, -0.44617598,\n",
              "       -0.51721942, -0.95834643, -0.44617598,  1.57389661,  1.04285807,\n",
              "       -0.44617598, -0.64211419,  0.87979784, -0.44617598, -0.52426638,\n",
              "        1.18690873, -0.44617598, -0.77707385,  1.20311799, -0.44617598,\n",
              "       -0.78976268, -0.44648735,  0.73788726, -0.41989297, -0.42576817,\n",
              "        1.30373042, -0.47912706, -0.4360152 ])"
            ]
          },
          "metadata": {},
          "execution_count": 51
        }
      ]
    },
    {
      "cell_type": "code",
      "source": [
        "Xmaria_normalizado = norm.transform(pd.DataFrame(Xmaria, columns = X.columns))\n",
        "Xmaria_normalizado"
      ],
      "metadata": {
        "colab": {
          "base_uri": "https://localhost:8080/"
        },
        "id": "2SyFB5rq3DFp",
        "outputId": "d88f4857-9bbf-4ef2-ac0f-7dbe08cbde52"
      },
      "execution_count": 52,
      "outputs": [
        {
          "output_type": "execute_result",
          "data": {
            "text/plain": [
              "array([[-0.79024667, -0.52771004,  0.32670777,  0.81482091, -0.41318358,\n",
              "        -1.14938255, -0.97236043,  1.13061554, -0.31386908, -0.83366906,\n",
              "        -0.66107688,  0.95797538, -0.44617598,  0.86827317, -0.44617598,\n",
              "        -0.51721942, -0.95834643, -0.44617598,  1.57389661,  1.04285807,\n",
              "         2.24126814, -0.64211419, -1.13662476,  2.24126814, -0.52426638,\n",
              "         1.18690873, -0.44617598, -0.77707385, -0.83117367, -0.44617598,\n",
              "         1.26620316, -0.44648735, -1.35522058,  2.38155929, -0.42576817,\n",
              "        -0.76702973, -0.47912706,  2.293498  ]])"
            ]
          },
          "metadata": {},
          "execution_count": 52
        }
      ]
    },
    {
      "cell_type": "markdown",
      "source": [
        "Distância Euclidiana:<br/> <center>\n",
        "![DE.jpg](data:image/jpeg;base64,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)"
      ],
      "metadata": {
        "id": "zCxsv3goTeCt"
      }
    },
    {
      "cell_type": "code",
      "source": [
        "import numpy as np"
      ],
      "metadata": {
        "id": "jvZ-z2KmP0gg"
      },
      "execution_count": 53,
      "outputs": []
    },
    {
      "cell_type": "code",
      "source": [
        "a = Xmaria_normalizado"
      ],
      "metadata": {
        "id": "iMQFdnj2UadA"
      },
      "execution_count": 54,
      "outputs": []
    },
    {
      "cell_type": "code",
      "source": [
        "b = X_normalizado[0]"
      ],
      "metadata": {
        "id": "aun2WG8lUhjI"
      },
      "execution_count": 55,
      "outputs": []
    },
    {
      "cell_type": "code",
      "source": [
        "#Etapa 1 - Começamos subtraindo\n",
        "a -b"
      ],
      "metadata": {
        "colab": {
          "base_uri": "https://localhost:8080/"
        },
        "id": "HtShGGY9Uk9g",
        "outputId": "1f5304f6-e656-414a-a714-86d08577ebf1"
      },
      "execution_count": 56,
      "outputs": [
        {
          "output_type": "execute_result",
          "data": {
            "text/plain": [
              "array([[-2.05567434,  0.        ,  3.38754711,  0.        ,  0.        ,\n",
              "        -0.0416644 ,  0.34941017,  2.0150895 , -3.49991084,  0.        ,\n",
              "        -2.17376025,  2.00184354,  0.        ,  0.        ,  0.        ,\n",
              "         0.        ,  0.        ,  0.        ,  0.        ,  0.        ,\n",
              "         2.68744412,  0.        , -2.01642259,  2.68744412,  0.        ,\n",
              "         0.        ,  0.        ,  0.        , -2.03429166,  0.        ,\n",
              "         2.05596584,  0.        , -2.09310784,  2.80145225,  0.        ,\n",
              "        -2.07076016,  0.        ,  2.72951321]])"
            ]
          },
          "metadata": {},
          "execution_count": 56
        }
      ]
    },
    {
      "cell_type": "code",
      "source": [
        "#Etapa 2 - Realizamos a exponenciação\n",
        "np.square(a-b)"
      ],
      "metadata": {
        "colab": {
          "base_uri": "https://localhost:8080/"
        },
        "id": "W-BvKDzgUt7n",
        "outputId": "e8821847-f2ad-4196-b26b-88e4e7f31b07"
      },
      "execution_count": 59,
      "outputs": [
        {
          "output_type": "execute_result",
          "data": {
            "text/plain": [
              "array([[4.22579699e+00, 0.00000000e+00, 1.14754754e+01, 0.00000000e+00,\n",
              "        0.00000000e+00, 1.73592202e-03, 1.22087466e-01, 4.06058568e+00,\n",
              "        1.22493759e+01, 0.00000000e+00, 4.72523363e+00, 4.00737757e+00,\n",
              "        0.00000000e+00, 0.00000000e+00, 0.00000000e+00, 0.00000000e+00,\n",
              "        0.00000000e+00, 0.00000000e+00, 0.00000000e+00, 0.00000000e+00,\n",
              "        7.22235589e+00, 0.00000000e+00, 4.06596007e+00, 7.22235589e+00,\n",
              "        0.00000000e+00, 0.00000000e+00, 0.00000000e+00, 0.00000000e+00,\n",
              "        4.13834258e+00, 0.00000000e+00, 4.22699553e+00, 0.00000000e+00,\n",
              "        4.38110042e+00, 7.84813473e+00, 0.00000000e+00, 4.28804763e+00,\n",
              "        0.00000000e+00, 7.45024235e+00]])"
            ]
          },
          "metadata": {},
          "execution_count": 59
        }
      ]
    },
    {
      "cell_type": "code",
      "source": [
        "#Etapa 3 - Realizamos a soma\n",
        "np.sum(np.square(a-b))"
      ],
      "metadata": {
        "colab": {
          "base_uri": "https://localhost:8080/"
        },
        "id": "huD6IdhxU4vX",
        "outputId": "38f353ee-4929-446a-cd14-8a1dd80ad4bb"
      },
      "execution_count": 61,
      "outputs": [
        {
          "output_type": "execute_result",
          "data": {
            "text/plain": [
              "91.7112036526817"
            ]
          },
          "metadata": {},
          "execution_count": 61
        }
      ]
    },
    {
      "cell_type": "code",
      "source": [
        "#Etapa 4 - Tiramos a raiz e temos a distância\n",
        "np.sqrt(91.7112036526817)"
      ],
      "metadata": {
        "colab": {
          "base_uri": "https://localhost:8080/"
        },
        "id": "SxN6vXJeVKM4",
        "outputId": "5c85dbb4-3022-412c-ee93-6180449dc5ed"
      },
      "execution_count": 62,
      "outputs": [
        {
          "output_type": "execute_result",
          "data": {
            "text/plain": [
              "9.576596663360199"
            ]
          },
          "metadata": {},
          "execution_count": 62
        }
      ]
    },
    {
      "cell_type": "code",
      "source": [],
      "metadata": {
        "id": "IjVh2_0YVoF_"
      },
      "execution_count": null,
      "outputs": []
    },
    {
      "cell_type": "markdown",
      "source": [
        "# Implementando o modelo"
      ],
      "metadata": {
        "id": "nGF0tj07ahHg"
      }
    },
    {
      "cell_type": "code",
      "source": [
        "#Importando biblioteca para a divisão dos dados\n",
        "from sklearn.model_selection import train_test_split"
      ],
      "metadata": {
        "id": "WZGZtmohakvj"
      },
      "execution_count": 63,
      "outputs": []
    },
    {
      "cell_type": "code",
      "source": [
        "X_treino, X_teste, y_treino, y_teste = train_test_split(X_normalizado, y, test_size=0.3, random_state=123)"
      ],
      "metadata": {
        "id": "Y-YlIgwTb99q"
      },
      "execution_count": 64,
      "outputs": []
    },
    {
      "cell_type": "markdown",
      "source": [
        "# Treino e teste"
      ],
      "metadata": {
        "id": "zoA8NQHLcZuR"
      }
    },
    {
      "cell_type": "code",
      "source": [
        "#Biblioteca para criarmos o modelo de machine learning\n",
        "from sklearn.neighbors import KNeighborsClassifier"
      ],
      "metadata": {
        "id": "ZaqQxYgbcUfo"
      },
      "execution_count": 65,
      "outputs": []
    },
    {
      "cell_type": "code",
      "source": [
        "#Instanciar o modelo (criamos o modelo) - por padrão são 5 vizinhos\n",
        "knn = KNeighborsClassifier(metric='euclidean')"
      ],
      "metadata": {
        "id": "ldMzv2RAcxvR"
      },
      "execution_count": 66,
      "outputs": []
    },
    {
      "cell_type": "code",
      "source": [
        "#Treinando o modelo com os dados de treino\n",
        "knn.fit(X_treino, y_treino)"
      ],
      "metadata": {
        "colab": {
          "base_uri": "https://localhost:8080/",
          "height": 52
        },
        "id": "J7EDxPdhd_La",
        "outputId": "fa4c6346-73ab-4cc2-8b66-dbe00547b2a4"
      },
      "execution_count": 67,
      "outputs": [
        {
          "output_type": "execute_result",
          "data": {
            "text/plain": [
              "KNeighborsClassifier(metric='euclidean')"
            ],
            "text/html": [
              "<style>#sk-container-id-1 {color: black;background-color: white;}#sk-container-id-1 pre{padding: 0;}#sk-container-id-1 div.sk-toggleable {background-color: white;}#sk-container-id-1 label.sk-toggleable__label {cursor: pointer;display: block;width: 100%;margin-bottom: 0;padding: 0.3em;box-sizing: border-box;text-align: center;}#sk-container-id-1 label.sk-toggleable__label-arrow:before {content: \"▸\";float: left;margin-right: 0.25em;color: #696969;}#sk-container-id-1 label.sk-toggleable__label-arrow:hover:before {color: black;}#sk-container-id-1 div.sk-estimator:hover label.sk-toggleable__label-arrow:before {color: black;}#sk-container-id-1 div.sk-toggleable__content {max-height: 0;max-width: 0;overflow: hidden;text-align: left;background-color: #f0f8ff;}#sk-container-id-1 div.sk-toggleable__content pre {margin: 0.2em;color: black;border-radius: 0.25em;background-color: #f0f8ff;}#sk-container-id-1 input.sk-toggleable__control:checked~div.sk-toggleable__content {max-height: 200px;max-width: 100%;overflow: auto;}#sk-container-id-1 input.sk-toggleable__control:checked~label.sk-toggleable__label-arrow:before {content: \"▾\";}#sk-container-id-1 div.sk-estimator input.sk-toggleable__control:checked~label.sk-toggleable__label {background-color: #d4ebff;}#sk-container-id-1 div.sk-label input.sk-toggleable__control:checked~label.sk-toggleable__label {background-color: #d4ebff;}#sk-container-id-1 input.sk-hidden--visually {border: 0;clip: rect(1px 1px 1px 1px);clip: rect(1px, 1px, 1px, 1px);height: 1px;margin: -1px;overflow: hidden;padding: 0;position: absolute;width: 1px;}#sk-container-id-1 div.sk-estimator {font-family: monospace;background-color: #f0f8ff;border: 1px dotted black;border-radius: 0.25em;box-sizing: border-box;margin-bottom: 0.5em;}#sk-container-id-1 div.sk-estimator:hover {background-color: #d4ebff;}#sk-container-id-1 div.sk-parallel-item::after {content: \"\";width: 100%;border-bottom: 1px solid gray;flex-grow: 1;}#sk-container-id-1 div.sk-label:hover label.sk-toggleable__label {background-color: #d4ebff;}#sk-container-id-1 div.sk-serial::before {content: \"\";position: absolute;border-left: 1px solid gray;box-sizing: border-box;top: 0;bottom: 0;left: 50%;z-index: 0;}#sk-container-id-1 div.sk-serial {display: flex;flex-direction: column;align-items: center;background-color: white;padding-right: 0.2em;padding-left: 0.2em;position: relative;}#sk-container-id-1 div.sk-item {position: relative;z-index: 1;}#sk-container-id-1 div.sk-parallel {display: flex;align-items: stretch;justify-content: center;background-color: white;position: relative;}#sk-container-id-1 div.sk-item::before, #sk-container-id-1 div.sk-parallel-item::before {content: \"\";position: absolute;border-left: 1px solid gray;box-sizing: border-box;top: 0;bottom: 0;left: 50%;z-index: -1;}#sk-container-id-1 div.sk-parallel-item {display: flex;flex-direction: column;z-index: 1;position: relative;background-color: white;}#sk-container-id-1 div.sk-parallel-item:first-child::after {align-self: flex-end;width: 50%;}#sk-container-id-1 div.sk-parallel-item:last-child::after {align-self: flex-start;width: 50%;}#sk-container-id-1 div.sk-parallel-item:only-child::after {width: 0;}#sk-container-id-1 div.sk-dashed-wrapped {border: 1px dashed gray;margin: 0 0.4em 0.5em 0.4em;box-sizing: border-box;padding-bottom: 0.4em;background-color: white;}#sk-container-id-1 div.sk-label label {font-family: monospace;font-weight: bold;display: inline-block;line-height: 1.2em;}#sk-container-id-1 div.sk-label-container {text-align: center;}#sk-container-id-1 div.sk-container {/* jupyter's `normalize.less` sets `[hidden] { display: none; }` but bootstrap.min.css set `[hidden] { display: none !important; }` so we also need the `!important` here to be able to override the default hidden behavior on the sphinx rendered scikit-learn.org. See: https://github.com/scikit-learn/scikit-learn/issues/21755 */display: inline-block !important;position: relative;}#sk-container-id-1 div.sk-text-repr-fallback {display: none;}</style><div id=\"sk-container-id-1\" class=\"sk-top-container\"><div class=\"sk-text-repr-fallback\"><pre>KNeighborsClassifier(metric=&#x27;euclidean&#x27;)</pre><b>In a Jupyter environment, please rerun this cell to show the HTML representation or trust the notebook. <br />On GitHub, the HTML representation is unable to render, please try loading this page with nbviewer.org.</b></div><div class=\"sk-container\" hidden><div class=\"sk-item\"><div class=\"sk-estimator sk-toggleable\"><input class=\"sk-toggleable__control sk-hidden--visually\" id=\"sk-estimator-id-1\" type=\"checkbox\" checked><label for=\"sk-estimator-id-1\" class=\"sk-toggleable__label sk-toggleable__label-arrow\">KNeighborsClassifier</label><div class=\"sk-toggleable__content\"><pre>KNeighborsClassifier(metric=&#x27;euclidean&#x27;)</pre></div></div></div></div></div>"
            ]
          },
          "metadata": {},
          "execution_count": 67
        }
      ]
    },
    {
      "cell_type": "code",
      "source": [
        "#Testando o modelo com os dados de teste\n",
        "predito_knn = knn.predict(X_teste)"
      ],
      "metadata": {
        "id": "7wGhyBKleNPB"
      },
      "execution_count": 68,
      "outputs": []
    },
    {
      "cell_type": "code",
      "source": [
        "predito_knn"
      ],
      "metadata": {
        "colab": {
          "base_uri": "https://localhost:8080/"
        },
        "id": "8hScOXjiedTY",
        "outputId": "a5f8a526-2e2e-4568-cb06-8e475c6cd7c2"
      },
      "execution_count": 69,
      "outputs": [
        {
          "output_type": "execute_result",
          "data": {
            "text/plain": [
              "array([1, 0, 0, ..., 0, 1, 1])"
            ]
          },
          "metadata": {},
          "execution_count": 69
        }
      ]
    },
    {
      "cell_type": "markdown",
      "source": [
        "# Treinamento e teste"
      ],
      "metadata": {
        "id": "BIxtxwRjppsE"
      }
    },
    {
      "cell_type": "code",
      "source": [
        "X_treino"
      ],
      "metadata": {
        "colab": {
          "base_uri": "https://localhost:8080/"
        },
        "id": "CgzfYQq5efxZ",
        "outputId": "6a2973a2-b229-4c0e-ad13-c8ba523177ad"
      },
      "execution_count": 100,
      "outputs": [
        {
          "output_type": "execute_result",
          "data": {
            "text/plain": [
              "array([[-0.79024667, -0.52771004, -3.06083934, ..., -0.76702973,\n",
              "         2.08712905, -0.4360152 ],\n",
              "       [ 1.26542767,  1.89498006,  0.32670777, ..., -0.76702973,\n",
              "         2.08712905, -0.4360152 ],\n",
              "       [-0.79024667, -0.52771004,  0.32670777, ...,  1.30373042,\n",
              "        -0.47912706, -0.4360152 ],\n",
              "       ...,\n",
              "       [ 1.26542767,  1.89498006,  0.32670777, ..., -0.76702973,\n",
              "         2.08712905, -0.4360152 ],\n",
              "       [ 1.26542767,  1.89498006,  0.32670777, ...,  1.30373042,\n",
              "        -0.47912706, -0.4360152 ],\n",
              "       [-0.79024667, -0.52771004,  0.32670777, ...,  1.30373042,\n",
              "        -0.47912706, -0.4360152 ]])"
            ]
          },
          "metadata": {},
          "execution_count": 100
        }
      ]
    },
    {
      "cell_type": "code",
      "source": [
        "y_treino"
      ],
      "metadata": {
        "colab": {
          "base_uri": "https://localhost:8080/"
        },
        "id": "uDbverSGpzRU",
        "outputId": "b65a1972-109a-4123-bcce-bc9d3cc39886"
      },
      "execution_count": 101,
      "outputs": [
        {
          "output_type": "execute_result",
          "data": {
            "text/plain": [
              "4831    0\n",
              "5077    0\n",
              "9023    1\n",
              "4424    1\n",
              "5236    0\n",
              "       ..\n",
              "9785    1\n",
              "7763    1\n",
              "5218    0\n",
              "1346    1\n",
              "3582    0\n",
              "Name: Churn, Length: 7243, dtype: int64"
            ]
          },
          "metadata": {},
          "execution_count": 101
        }
      ]
    },
    {
      "cell_type": "code",
      "source": [
        "#Biblioteca para criarmos o modelo de machine learning\n",
        "from sklearn.naive_bayes import BernoulliNB"
      ],
      "metadata": {
        "id": "NfAbhfWYqUAc"
      },
      "execution_count": 102,
      "outputs": []
    },
    {
      "cell_type": "code",
      "source": [
        "#Utilizo a mediana, porque é o valor central dos nossos dados\n",
        "np.median(X_treino)"
      ],
      "metadata": {
        "colab": {
          "base_uri": "https://localhost:8080/"
        },
        "id": "_muJFeQMp2Kj",
        "outputId": "e3d46a14-8622-47b8-9b60-d8df83c82ef6"
      },
      "execution_count": 125,
      "outputs": [
        {
          "output_type": "execute_result",
          "data": {
            "text/plain": [
              "-0.4461759755508453"
            ]
          },
          "metadata": {},
          "execution_count": 125
        }
      ]
    },
    {
      "cell_type": "code",
      "source": [
        "#Criamos o modelo\n",
        "bnb = BernoulliNB(binarize= -0.44 * -1) "
      ],
      "metadata": {
        "id": "Vw0jl27qqpYr"
      },
      "execution_count": 132,
      "outputs": []
    },
    {
      "cell_type": "code",
      "source": [
        "bnb.fit(X_treino, y_treino) "
      ],
      "metadata": {
        "id": "qfGzlnp7rBeD"
      },
      "execution_count": null,
      "outputs": []
    },
    {
      "cell_type": "code",
      "source": [
        "predito_BNB = bnb.predict(X_teste)"
      ],
      "metadata": {
        "id": "IBKwwehNrdHr"
      },
      "execution_count": 134,
      "outputs": []
    },
    {
      "cell_type": "code",
      "source": [
        "predito_BNB"
      ],
      "metadata": {
        "colab": {
          "base_uri": "https://localhost:8080/"
        },
        "id": "U4svWIX5zQid",
        "outputId": "2693d891-b04a-4f91-96f2-ec3995eb9d9d"
      },
      "execution_count": 135,
      "outputs": [
        {
          "output_type": "execute_result",
          "data": {
            "text/plain": [
              "array([1, 0, 0, ..., 1, 1, 1])"
            ]
          },
          "metadata": {},
          "execution_count": 135
        }
      ]
    },
    {
      "cell_type": "code",
      "source": [],
      "metadata": {
        "id": "xAPbcMzUzTPe"
      },
      "execution_count": null,
      "outputs": []
    }
  ]
}