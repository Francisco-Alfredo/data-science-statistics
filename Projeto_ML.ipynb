{
  "nbformat": 4,
  "nbformat_minor": 0,
  "metadata": {
    "colab": {
      "provenance": [],
      "authorship_tag": "ABX9TyOzWh294+FMU+xGQOR72kP0",
      "include_colab_link": true
    },
    "kernelspec": {
      "name": "python3",
      "display_name": "Python 3"
    },
    "language_info": {
      "name": "python"
    }
  },
  "cells": [
    {
      "cell_type": "markdown",
      "metadata": {
        "id": "view-in-github",
        "colab_type": "text"
      },
      "source": [
        "<a href=\"https://colab.research.google.com/github/Francisco-Alfredo/data-science-statistics/blob/main/Projeto_ML.ipynb\" target=\"_parent\"><img src=\"https://colab.research.google.com/assets/colab-badge.svg\" alt=\"Open In Colab\"/></a>"
      ]
    },
    {
      "cell_type": "markdown",
      "source": [
        "# Importando dados"
      ],
      "metadata": {
        "id": "LqeAp8Kslj-C"
      }
    },
    {
      "cell_type": "code",
      "execution_count": null,
      "metadata": {
        "id": "Xy3ewvpXiDoe"
      },
      "outputs": [],
      "source": [
        "import pandas as pd"
      ]
    },
    {
      "cell_type": "code",
      "source": [
        "dados = pd.read_csv('/content/churn.csv')"
      ],
      "metadata": {
        "id": "jdwWMXReiSPD"
      },
      "execution_count": null,
      "outputs": []
    },
    {
      "cell_type": "code",
      "source": [
        "dados.shape"
      ],
      "metadata": {
        "colab": {
          "base_uri": "https://localhost:8080/"
        },
        "id": "Q5dhjcfXilUW",
        "outputId": "852cad62-0595-4c9d-8d72-c33f811d7825"
      },
      "execution_count": null,
      "outputs": [
        {
          "output_type": "execute_result",
          "data": {
            "text/plain": [
              "(7043, 18)"
            ]
          },
          "metadata": {},
          "execution_count": 4
        }
      ]
    },
    {
      "cell_type": "code",
      "source": [
        "dados.head()"
      ],
      "metadata": {
        "colab": {
          "base_uri": "https://localhost:8080/",
          "height": 270
        },
        "id": "2RZHFSG6izCZ",
        "outputId": "895f942d-5a85-4f7e-ced4-845e5a5623d6"
      },
      "execution_count": null,
      "outputs": [
        {
          "output_type": "execute_result",
          "data": {
            "text/plain": [
              "   Maior65Anos Conjuge Dependentes  MesesDeContrato TelefoneFixo  \\\n",
              "0            0     Sim         Nao                1          Nao   \n",
              "1            0     Nao         Nao               34          Sim   \n",
              "2            0     Nao         Nao                2          Sim   \n",
              "3            0     Nao         Nao               45          Nao   \n",
              "4            0     Nao         Nao                2          Sim   \n",
              "\n",
              "  VariasLinhasTelefonicas ServicoDeInternet SegurancaOnline BackupOnline  \\\n",
              "0    SemServicoTelefonico               DSL             Nao          Sim   \n",
              "1                     Nao               DSL             Sim          Nao   \n",
              "2                     Nao               DSL             Sim          Sim   \n",
              "3    SemServicoTelefonico               DSL             Sim          Nao   \n",
              "4                     Nao       FibraOptica             Nao          Nao   \n",
              "\n",
              "  SeguroNoDispositivo SuporteTecnico TVaCabo StreamingDeFilmes TipoDeContrato  \\\n",
              "0                 Nao            Nao     Nao               Nao    Mensalmente   \n",
              "1                 Sim            Nao     Nao               Nao          UmAno   \n",
              "2                 Nao            Nao     Nao               Nao    Mensalmente   \n",
              "3                 Sim            Sim     Nao               Nao          UmAno   \n",
              "4                 Nao            Nao     Nao               Nao    Mensalmente   \n",
              "\n",
              "  PagamentoOnline FormaDePagamento  ContaMensal Churn  \n",
              "0             Sim    ChequeDigital        29.85   Nao  \n",
              "1             Nao      ChequePapel        56.95   Nao  \n",
              "2             Sim      ChequePapel        53.85   Sim  \n",
              "3             Nao    DebitoEmConta        42.30   Nao  \n",
              "4             Sim    ChequeDigital        70.70   Sim  "
            ],
            "text/html": [
              "\n",
              "  <div id=\"df-a070fbf5-f513-407a-9aec-5791bf569ebc\">\n",
              "    <div class=\"colab-df-container\">\n",
              "      <div>\n",
              "<style scoped>\n",
              "    .dataframe tbody tr th:only-of-type {\n",
              "        vertical-align: middle;\n",
              "    }\n",
              "\n",
              "    .dataframe tbody tr th {\n",
              "        vertical-align: top;\n",
              "    }\n",
              "\n",
              "    .dataframe thead th {\n",
              "        text-align: right;\n",
              "    }\n",
              "</style>\n",
              "<table border=\"1\" class=\"dataframe\">\n",
              "  <thead>\n",
              "    <tr style=\"text-align: right;\">\n",
              "      <th></th>\n",
              "      <th>Maior65Anos</th>\n",
              "      <th>Conjuge</th>\n",
              "      <th>Dependentes</th>\n",
              "      <th>MesesDeContrato</th>\n",
              "      <th>TelefoneFixo</th>\n",
              "      <th>VariasLinhasTelefonicas</th>\n",
              "      <th>ServicoDeInternet</th>\n",
              "      <th>SegurancaOnline</th>\n",
              "      <th>BackupOnline</th>\n",
              "      <th>SeguroNoDispositivo</th>\n",
              "      <th>SuporteTecnico</th>\n",
              "      <th>TVaCabo</th>\n",
              "      <th>StreamingDeFilmes</th>\n",
              "      <th>TipoDeContrato</th>\n",
              "      <th>PagamentoOnline</th>\n",
              "      <th>FormaDePagamento</th>\n",
              "      <th>ContaMensal</th>\n",
              "      <th>Churn</th>\n",
              "    </tr>\n",
              "  </thead>\n",
              "  <tbody>\n",
              "    <tr>\n",
              "      <th>0</th>\n",
              "      <td>0</td>\n",
              "      <td>Sim</td>\n",
              "      <td>Nao</td>\n",
              "      <td>1</td>\n",
              "      <td>Nao</td>\n",
              "      <td>SemServicoTelefonico</td>\n",
              "      <td>DSL</td>\n",
              "      <td>Nao</td>\n",
              "      <td>Sim</td>\n",
              "      <td>Nao</td>\n",
              "      <td>Nao</td>\n",
              "      <td>Nao</td>\n",
              "      <td>Nao</td>\n",
              "      <td>Mensalmente</td>\n",
              "      <td>Sim</td>\n",
              "      <td>ChequeDigital</td>\n",
              "      <td>29.85</td>\n",
              "      <td>Nao</td>\n",
              "    </tr>\n",
              "    <tr>\n",
              "      <th>1</th>\n",
              "      <td>0</td>\n",
              "      <td>Nao</td>\n",
              "      <td>Nao</td>\n",
              "      <td>34</td>\n",
              "      <td>Sim</td>\n",
              "      <td>Nao</td>\n",
              "      <td>DSL</td>\n",
              "      <td>Sim</td>\n",
              "      <td>Nao</td>\n",
              "      <td>Sim</td>\n",
              "      <td>Nao</td>\n",
              "      <td>Nao</td>\n",
              "      <td>Nao</td>\n",
              "      <td>UmAno</td>\n",
              "      <td>Nao</td>\n",
              "      <td>ChequePapel</td>\n",
              "      <td>56.95</td>\n",
              "      <td>Nao</td>\n",
              "    </tr>\n",
              "    <tr>\n",
              "      <th>2</th>\n",
              "      <td>0</td>\n",
              "      <td>Nao</td>\n",
              "      <td>Nao</td>\n",
              "      <td>2</td>\n",
              "      <td>Sim</td>\n",
              "      <td>Nao</td>\n",
              "      <td>DSL</td>\n",
              "      <td>Sim</td>\n",
              "      <td>Sim</td>\n",
              "      <td>Nao</td>\n",
              "      <td>Nao</td>\n",
              "      <td>Nao</td>\n",
              "      <td>Nao</td>\n",
              "      <td>Mensalmente</td>\n",
              "      <td>Sim</td>\n",
              "      <td>ChequePapel</td>\n",
              "      <td>53.85</td>\n",
              "      <td>Sim</td>\n",
              "    </tr>\n",
              "    <tr>\n",
              "      <th>3</th>\n",
              "      <td>0</td>\n",
              "      <td>Nao</td>\n",
              "      <td>Nao</td>\n",
              "      <td>45</td>\n",
              "      <td>Nao</td>\n",
              "      <td>SemServicoTelefonico</td>\n",
              "      <td>DSL</td>\n",
              "      <td>Sim</td>\n",
              "      <td>Nao</td>\n",
              "      <td>Sim</td>\n",
              "      <td>Sim</td>\n",
              "      <td>Nao</td>\n",
              "      <td>Nao</td>\n",
              "      <td>UmAno</td>\n",
              "      <td>Nao</td>\n",
              "      <td>DebitoEmConta</td>\n",
              "      <td>42.30</td>\n",
              "      <td>Nao</td>\n",
              "    </tr>\n",
              "    <tr>\n",
              "      <th>4</th>\n",
              "      <td>0</td>\n",
              "      <td>Nao</td>\n",
              "      <td>Nao</td>\n",
              "      <td>2</td>\n",
              "      <td>Sim</td>\n",
              "      <td>Nao</td>\n",
              "      <td>FibraOptica</td>\n",
              "      <td>Nao</td>\n",
              "      <td>Nao</td>\n",
              "      <td>Nao</td>\n",
              "      <td>Nao</td>\n",
              "      <td>Nao</td>\n",
              "      <td>Nao</td>\n",
              "      <td>Mensalmente</td>\n",
              "      <td>Sim</td>\n",
              "      <td>ChequeDigital</td>\n",
              "      <td>70.70</td>\n",
              "      <td>Sim</td>\n",
              "    </tr>\n",
              "  </tbody>\n",
              "</table>\n",
              "</div>\n",
              "      <button class=\"colab-df-convert\" onclick=\"convertToInteractive('df-a070fbf5-f513-407a-9aec-5791bf569ebc')\"\n",
              "              title=\"Convert this dataframe to an interactive table.\"\n",
              "              style=\"display:none;\">\n",
              "        \n",
              "  <svg xmlns=\"http://www.w3.org/2000/svg\" height=\"24px\"viewBox=\"0 0 24 24\"\n",
              "       width=\"24px\">\n",
              "    <path d=\"M0 0h24v24H0V0z\" fill=\"none\"/>\n",
              "    <path d=\"M18.56 5.44l.94 2.06.94-2.06 2.06-.94-2.06-.94-.94-2.06-.94 2.06-2.06.94zm-11 1L8.5 8.5l.94-2.06 2.06-.94-2.06-.94L8.5 2.5l-.94 2.06-2.06.94zm10 10l.94 2.06.94-2.06 2.06-.94-2.06-.94-.94-2.06-.94 2.06-2.06.94z\"/><path d=\"M17.41 7.96l-1.37-1.37c-.4-.4-.92-.59-1.43-.59-.52 0-1.04.2-1.43.59L10.3 9.45l-7.72 7.72c-.78.78-.78 2.05 0 2.83L4 21.41c.39.39.9.59 1.41.59.51 0 1.02-.2 1.41-.59l7.78-7.78 2.81-2.81c.8-.78.8-2.07 0-2.86zM5.41 20L4 18.59l7.72-7.72 1.47 1.35L5.41 20z\"/>\n",
              "  </svg>\n",
              "      </button>\n",
              "      \n",
              "  <style>\n",
              "    .colab-df-container {\n",
              "      display:flex;\n",
              "      flex-wrap:wrap;\n",
              "      gap: 12px;\n",
              "    }\n",
              "\n",
              "    .colab-df-convert {\n",
              "      background-color: #E8F0FE;\n",
              "      border: none;\n",
              "      border-radius: 50%;\n",
              "      cursor: pointer;\n",
              "      display: none;\n",
              "      fill: #1967D2;\n",
              "      height: 32px;\n",
              "      padding: 0 0 0 0;\n",
              "      width: 32px;\n",
              "    }\n",
              "\n",
              "    .colab-df-convert:hover {\n",
              "      background-color: #E2EBFA;\n",
              "      box-shadow: 0px 1px 2px rgba(60, 64, 67, 0.3), 0px 1px 3px 1px rgba(60, 64, 67, 0.15);\n",
              "      fill: #174EA6;\n",
              "    }\n",
              "\n",
              "    [theme=dark] .colab-df-convert {\n",
              "      background-color: #3B4455;\n",
              "      fill: #D2E3FC;\n",
              "    }\n",
              "\n",
              "    [theme=dark] .colab-df-convert:hover {\n",
              "      background-color: #434B5C;\n",
              "      box-shadow: 0px 1px 3px 1px rgba(0, 0, 0, 0.15);\n",
              "      filter: drop-shadow(0px 1px 2px rgba(0, 0, 0, 0.3));\n",
              "      fill: #FFFFFF;\n",
              "    }\n",
              "  </style>\n",
              "\n",
              "      <script>\n",
              "        const buttonEl =\n",
              "          document.querySelector('#df-a070fbf5-f513-407a-9aec-5791bf569ebc button.colab-df-convert');\n",
              "        buttonEl.style.display =\n",
              "          google.colab.kernel.accessAllowed ? 'block' : 'none';\n",
              "\n",
              "        async function convertToInteractive(key) {\n",
              "          const element = document.querySelector('#df-a070fbf5-f513-407a-9aec-5791bf569ebc');\n",
              "          const dataTable =\n",
              "            await google.colab.kernel.invokeFunction('convertToInteractive',\n",
              "                                                     [key], {});\n",
              "          if (!dataTable) return;\n",
              "\n",
              "          const docLinkHtml = 'Like what you see? Visit the ' +\n",
              "            '<a target=\"_blank\" href=https://colab.research.google.com/notebooks/data_table.ipynb>data table notebook</a>'\n",
              "            + ' to learn more about interactive tables.';\n",
              "          element.innerHTML = '';\n",
              "          dataTable['output_type'] = 'display_data';\n",
              "          await google.colab.output.renderOutput(dataTable, element);\n",
              "          const docLink = document.createElement('div');\n",
              "          docLink.innerHTML = docLinkHtml;\n",
              "          element.appendChild(docLink);\n",
              "        }\n",
              "      </script>\n",
              "    </div>\n",
              "  </div>\n",
              "  "
            ]
          },
          "metadata": {},
          "execution_count": 5
        }
      ]
    },
    {
      "cell_type": "markdown",
      "source": [
        "# Diferentes Variáveis"
      ],
      "metadata": {
        "id": "_DqHUa1eZx17"
      }
    },
    {
      "cell_type": "code",
      "source": [
        "#Modificação de forma manual\n",
        "\n",
        "traducao_dic = {'Sim':1,\n",
        "                'Nao':0}\n",
        "\n",
        "dadosmodificados = dados[['Conjuge', 'Dependentes', 'TelefoneFixo', 'PagamentoOnline', 'Churn']].replace(traducao_dic)\n",
        "dadosmodificados.head()"
      ],
      "metadata": {
        "id": "iajYKmvMi1UZ",
        "colab": {
          "base_uri": "https://localhost:8080/",
          "height": 206
        },
        "outputId": "70b321a5-70b3-472f-af05-552deb878be4"
      },
      "execution_count": null,
      "outputs": [
        {
          "output_type": "execute_result",
          "data": {
            "text/plain": [
              "   Conjuge  Dependentes  TelefoneFixo  PagamentoOnline  Churn\n",
              "0        1            0             0                1      0\n",
              "1        0            0             1                0      0\n",
              "2        0            0             1                1      1\n",
              "3        0            0             0                0      0\n",
              "4        0            0             1                1      1"
            ],
            "text/html": [
              "\n",
              "  <div id=\"df-4da4ea34-6360-452b-8a47-e4dffae0c46e\">\n",
              "    <div class=\"colab-df-container\">\n",
              "      <div>\n",
              "<style scoped>\n",
              "    .dataframe tbody tr th:only-of-type {\n",
              "        vertical-align: middle;\n",
              "    }\n",
              "\n",
              "    .dataframe tbody tr th {\n",
              "        vertical-align: top;\n",
              "    }\n",
              "\n",
              "    .dataframe thead th {\n",
              "        text-align: right;\n",
              "    }\n",
              "</style>\n",
              "<table border=\"1\" class=\"dataframe\">\n",
              "  <thead>\n",
              "    <tr style=\"text-align: right;\">\n",
              "      <th></th>\n",
              "      <th>Conjuge</th>\n",
              "      <th>Dependentes</th>\n",
              "      <th>TelefoneFixo</th>\n",
              "      <th>PagamentoOnline</th>\n",
              "      <th>Churn</th>\n",
              "    </tr>\n",
              "  </thead>\n",
              "  <tbody>\n",
              "    <tr>\n",
              "      <th>0</th>\n",
              "      <td>1</td>\n",
              "      <td>0</td>\n",
              "      <td>0</td>\n",
              "      <td>1</td>\n",
              "      <td>0</td>\n",
              "    </tr>\n",
              "    <tr>\n",
              "      <th>1</th>\n",
              "      <td>0</td>\n",
              "      <td>0</td>\n",
              "      <td>1</td>\n",
              "      <td>0</td>\n",
              "      <td>0</td>\n",
              "    </tr>\n",
              "    <tr>\n",
              "      <th>2</th>\n",
              "      <td>0</td>\n",
              "      <td>0</td>\n",
              "      <td>1</td>\n",
              "      <td>1</td>\n",
              "      <td>1</td>\n",
              "    </tr>\n",
              "    <tr>\n",
              "      <th>3</th>\n",
              "      <td>0</td>\n",
              "      <td>0</td>\n",
              "      <td>0</td>\n",
              "      <td>0</td>\n",
              "      <td>0</td>\n",
              "    </tr>\n",
              "    <tr>\n",
              "      <th>4</th>\n",
              "      <td>0</td>\n",
              "      <td>0</td>\n",
              "      <td>1</td>\n",
              "      <td>1</td>\n",
              "      <td>1</td>\n",
              "    </tr>\n",
              "  </tbody>\n",
              "</table>\n",
              "</div>\n",
              "      <button class=\"colab-df-convert\" onclick=\"convertToInteractive('df-4da4ea34-6360-452b-8a47-e4dffae0c46e')\"\n",
              "              title=\"Convert this dataframe to an interactive table.\"\n",
              "              style=\"display:none;\">\n",
              "        \n",
              "  <svg xmlns=\"http://www.w3.org/2000/svg\" height=\"24px\"viewBox=\"0 0 24 24\"\n",
              "       width=\"24px\">\n",
              "    <path d=\"M0 0h24v24H0V0z\" fill=\"none\"/>\n",
              "    <path d=\"M18.56 5.44l.94 2.06.94-2.06 2.06-.94-2.06-.94-.94-2.06-.94 2.06-2.06.94zm-11 1L8.5 8.5l.94-2.06 2.06-.94-2.06-.94L8.5 2.5l-.94 2.06-2.06.94zm10 10l.94 2.06.94-2.06 2.06-.94-2.06-.94-.94-2.06-.94 2.06-2.06.94z\"/><path d=\"M17.41 7.96l-1.37-1.37c-.4-.4-.92-.59-1.43-.59-.52 0-1.04.2-1.43.59L10.3 9.45l-7.72 7.72c-.78.78-.78 2.05 0 2.83L4 21.41c.39.39.9.59 1.41.59.51 0 1.02-.2 1.41-.59l7.78-7.78 2.81-2.81c.8-.78.8-2.07 0-2.86zM5.41 20L4 18.59l7.72-7.72 1.47 1.35L5.41 20z\"/>\n",
              "  </svg>\n",
              "      </button>\n",
              "      \n",
              "  <style>\n",
              "    .colab-df-container {\n",
              "      display:flex;\n",
              "      flex-wrap:wrap;\n",
              "      gap: 12px;\n",
              "    }\n",
              "\n",
              "    .colab-df-convert {\n",
              "      background-color: #E8F0FE;\n",
              "      border: none;\n",
              "      border-radius: 50%;\n",
              "      cursor: pointer;\n",
              "      display: none;\n",
              "      fill: #1967D2;\n",
              "      height: 32px;\n",
              "      padding: 0 0 0 0;\n",
              "      width: 32px;\n",
              "    }\n",
              "\n",
              "    .colab-df-convert:hover {\n",
              "      background-color: #E2EBFA;\n",
              "      box-shadow: 0px 1px 2px rgba(60, 64, 67, 0.3), 0px 1px 3px 1px rgba(60, 64, 67, 0.15);\n",
              "      fill: #174EA6;\n",
              "    }\n",
              "\n",
              "    [theme=dark] .colab-df-convert {\n",
              "      background-color: #3B4455;\n",
              "      fill: #D2E3FC;\n",
              "    }\n",
              "\n",
              "    [theme=dark] .colab-df-convert:hover {\n",
              "      background-color: #434B5C;\n",
              "      box-shadow: 0px 1px 3px 1px rgba(0, 0, 0, 0.15);\n",
              "      filter: drop-shadow(0px 1px 2px rgba(0, 0, 0, 0.3));\n",
              "      fill: #FFFFFF;\n",
              "    }\n",
              "  </style>\n",
              "\n",
              "      <script>\n",
              "        const buttonEl =\n",
              "          document.querySelector('#df-4da4ea34-6360-452b-8a47-e4dffae0c46e button.colab-df-convert');\n",
              "        buttonEl.style.display =\n",
              "          google.colab.kernel.accessAllowed ? 'block' : 'none';\n",
              "\n",
              "        async function convertToInteractive(key) {\n",
              "          const element = document.querySelector('#df-4da4ea34-6360-452b-8a47-e4dffae0c46e');\n",
              "          const dataTable =\n",
              "            await google.colab.kernel.invokeFunction('convertToInteractive',\n",
              "                                                     [key], {});\n",
              "          if (!dataTable) return;\n",
              "\n",
              "          const docLinkHtml = 'Like what you see? Visit the ' +\n",
              "            '<a target=\"_blank\" href=https://colab.research.google.com/notebooks/data_table.ipynb>data table notebook</a>'\n",
              "            + ' to learn more about interactive tables.';\n",
              "          element.innerHTML = '';\n",
              "          dataTable['output_type'] = 'display_data';\n",
              "          await google.colab.output.renderOutput(dataTable, element);\n",
              "          const docLink = document.createElement('div');\n",
              "          docLink.innerHTML = docLinkHtml;\n",
              "          element.appendChild(docLink);\n",
              "        }\n",
              "      </script>\n",
              "    </div>\n",
              "  </div>\n",
              "  "
            ]
          },
          "metadata": {},
          "execution_count": 6
        }
      ]
    },
    {
      "cell_type": "code",
      "source": [
        "from pandas.core.indexes.period import DatetimeIndexOpsMixin\n",
        "#Transformação pelo get_dummies\n",
        "dummie_dados = pd.get_dummies(dados.drop(['Conjuge', 'Dependentes', 'TelefoneFixo', 'PagamentoOnline', 'Churn'],\n",
        "                                         axis=1))\n",
        "\n",
        "#Juntando os dados transformados pelo get_dummies\n",
        "dados_final = pd.concat([dadosmodificados, dummie_dados], axis=1)"
      ],
      "metadata": {
        "id": "fdG3KZjKamnb"
      },
      "execution_count": null,
      "outputs": []
    },
    {
      "cell_type": "code",
      "source": [
        "dados_final.head()"
      ],
      "metadata": {
        "colab": {
          "base_uri": "https://localhost:8080/",
          "height": 300
        },
        "id": "9OCe-ZNCb3hG",
        "outputId": "2d517887-02d8-4a3e-fc11-9a5e7332ed35"
      },
      "execution_count": null,
      "outputs": [
        {
          "output_type": "execute_result",
          "data": {
            "text/plain": [
              "   Conjuge  Dependentes  TelefoneFixo  PagamentoOnline  Churn  Maior65Anos  \\\n",
              "0        1            0             0                1      0            0   \n",
              "1        0            0             1                0      0            0   \n",
              "2        0            0             1                1      1            0   \n",
              "3        0            0             0                0      0            0   \n",
              "4        0            0             1                1      1            0   \n",
              "\n",
              "   MesesDeContrato  ContaMensal  VariasLinhasTelefonicas_Nao  \\\n",
              "0                1        29.85                            0   \n",
              "1               34        56.95                            1   \n",
              "2                2        53.85                            1   \n",
              "3               45        42.30                            0   \n",
              "4                2        70.70                            1   \n",
              "\n",
              "   VariasLinhasTelefonicas_SemServicoTelefonico  ...  StreamingDeFilmes_Nao  \\\n",
              "0                                             1  ...                      1   \n",
              "1                                             0  ...                      1   \n",
              "2                                             0  ...                      1   \n",
              "3                                             1  ...                      1   \n",
              "4                                             0  ...                      1   \n",
              "\n",
              "   StreamingDeFilmes_SemServicoDeInternet  StreamingDeFilmes_Sim  \\\n",
              "0                                       0                      0   \n",
              "1                                       0                      0   \n",
              "2                                       0                      0   \n",
              "3                                       0                      0   \n",
              "4                                       0                      0   \n",
              "\n",
              "   TipoDeContrato_DoisAnos  TipoDeContrato_Mensalmente  TipoDeContrato_UmAno  \\\n",
              "0                        0                           1                     0   \n",
              "1                        0                           0                     1   \n",
              "2                        0                           1                     0   \n",
              "3                        0                           0                     1   \n",
              "4                        0                           1                     0   \n",
              "\n",
              "   FormaDePagamento_CartaoDeCredito  FormaDePagamento_ChequeDigital  \\\n",
              "0                                 0                               1   \n",
              "1                                 0                               0   \n",
              "2                                 0                               0   \n",
              "3                                 0                               0   \n",
              "4                                 0                               1   \n",
              "\n",
              "   FormaDePagamento_ChequePapel  FormaDePagamento_DebitoEmConta  \n",
              "0                             0                               0  \n",
              "1                             1                               0  \n",
              "2                             1                               0  \n",
              "3                             0                               1  \n",
              "4                             0                               0  \n",
              "\n",
              "[5 rows x 39 columns]"
            ],
            "text/html": [
              "\n",
              "  <div id=\"df-9095715b-74c4-4692-8f74-2a6bace11595\">\n",
              "    <div class=\"colab-df-container\">\n",
              "      <div>\n",
              "<style scoped>\n",
              "    .dataframe tbody tr th:only-of-type {\n",
              "        vertical-align: middle;\n",
              "    }\n",
              "\n",
              "    .dataframe tbody tr th {\n",
              "        vertical-align: top;\n",
              "    }\n",
              "\n",
              "    .dataframe thead th {\n",
              "        text-align: right;\n",
              "    }\n",
              "</style>\n",
              "<table border=\"1\" class=\"dataframe\">\n",
              "  <thead>\n",
              "    <tr style=\"text-align: right;\">\n",
              "      <th></th>\n",
              "      <th>Conjuge</th>\n",
              "      <th>Dependentes</th>\n",
              "      <th>TelefoneFixo</th>\n",
              "      <th>PagamentoOnline</th>\n",
              "      <th>Churn</th>\n",
              "      <th>Maior65Anos</th>\n",
              "      <th>MesesDeContrato</th>\n",
              "      <th>ContaMensal</th>\n",
              "      <th>VariasLinhasTelefonicas_Nao</th>\n",
              "      <th>VariasLinhasTelefonicas_SemServicoTelefonico</th>\n",
              "      <th>...</th>\n",
              "      <th>StreamingDeFilmes_Nao</th>\n",
              "      <th>StreamingDeFilmes_SemServicoDeInternet</th>\n",
              "      <th>StreamingDeFilmes_Sim</th>\n",
              "      <th>TipoDeContrato_DoisAnos</th>\n",
              "      <th>TipoDeContrato_Mensalmente</th>\n",
              "      <th>TipoDeContrato_UmAno</th>\n",
              "      <th>FormaDePagamento_CartaoDeCredito</th>\n",
              "      <th>FormaDePagamento_ChequeDigital</th>\n",
              "      <th>FormaDePagamento_ChequePapel</th>\n",
              "      <th>FormaDePagamento_DebitoEmConta</th>\n",
              "    </tr>\n",
              "  </thead>\n",
              "  <tbody>\n",
              "    <tr>\n",
              "      <th>0</th>\n",
              "      <td>1</td>\n",
              "      <td>0</td>\n",
              "      <td>0</td>\n",
              "      <td>1</td>\n",
              "      <td>0</td>\n",
              "      <td>0</td>\n",
              "      <td>1</td>\n",
              "      <td>29.85</td>\n",
              "      <td>0</td>\n",
              "      <td>1</td>\n",
              "      <td>...</td>\n",
              "      <td>1</td>\n",
              "      <td>0</td>\n",
              "      <td>0</td>\n",
              "      <td>0</td>\n",
              "      <td>1</td>\n",
              "      <td>0</td>\n",
              "      <td>0</td>\n",
              "      <td>1</td>\n",
              "      <td>0</td>\n",
              "      <td>0</td>\n",
              "    </tr>\n",
              "    <tr>\n",
              "      <th>1</th>\n",
              "      <td>0</td>\n",
              "      <td>0</td>\n",
              "      <td>1</td>\n",
              "      <td>0</td>\n",
              "      <td>0</td>\n",
              "      <td>0</td>\n",
              "      <td>34</td>\n",
              "      <td>56.95</td>\n",
              "      <td>1</td>\n",
              "      <td>0</td>\n",
              "      <td>...</td>\n",
              "      <td>1</td>\n",
              "      <td>0</td>\n",
              "      <td>0</td>\n",
              "      <td>0</td>\n",
              "      <td>0</td>\n",
              "      <td>1</td>\n",
              "      <td>0</td>\n",
              "      <td>0</td>\n",
              "      <td>1</td>\n",
              "      <td>0</td>\n",
              "    </tr>\n",
              "    <tr>\n",
              "      <th>2</th>\n",
              "      <td>0</td>\n",
              "      <td>0</td>\n",
              "      <td>1</td>\n",
              "      <td>1</td>\n",
              "      <td>1</td>\n",
              "      <td>0</td>\n",
              "      <td>2</td>\n",
              "      <td>53.85</td>\n",
              "      <td>1</td>\n",
              "      <td>0</td>\n",
              "      <td>...</td>\n",
              "      <td>1</td>\n",
              "      <td>0</td>\n",
              "      <td>0</td>\n",
              "      <td>0</td>\n",
              "      <td>1</td>\n",
              "      <td>0</td>\n",
              "      <td>0</td>\n",
              "      <td>0</td>\n",
              "      <td>1</td>\n",
              "      <td>0</td>\n",
              "    </tr>\n",
              "    <tr>\n",
              "      <th>3</th>\n",
              "      <td>0</td>\n",
              "      <td>0</td>\n",
              "      <td>0</td>\n",
              "      <td>0</td>\n",
              "      <td>0</td>\n",
              "      <td>0</td>\n",
              "      <td>45</td>\n",
              "      <td>42.30</td>\n",
              "      <td>0</td>\n",
              "      <td>1</td>\n",
              "      <td>...</td>\n",
              "      <td>1</td>\n",
              "      <td>0</td>\n",
              "      <td>0</td>\n",
              "      <td>0</td>\n",
              "      <td>0</td>\n",
              "      <td>1</td>\n",
              "      <td>0</td>\n",
              "      <td>0</td>\n",
              "      <td>0</td>\n",
              "      <td>1</td>\n",
              "    </tr>\n",
              "    <tr>\n",
              "      <th>4</th>\n",
              "      <td>0</td>\n",
              "      <td>0</td>\n",
              "      <td>1</td>\n",
              "      <td>1</td>\n",
              "      <td>1</td>\n",
              "      <td>0</td>\n",
              "      <td>2</td>\n",
              "      <td>70.70</td>\n",
              "      <td>1</td>\n",
              "      <td>0</td>\n",
              "      <td>...</td>\n",
              "      <td>1</td>\n",
              "      <td>0</td>\n",
              "      <td>0</td>\n",
              "      <td>0</td>\n",
              "      <td>1</td>\n",
              "      <td>0</td>\n",
              "      <td>0</td>\n",
              "      <td>1</td>\n",
              "      <td>0</td>\n",
              "      <td>0</td>\n",
              "    </tr>\n",
              "  </tbody>\n",
              "</table>\n",
              "<p>5 rows × 39 columns</p>\n",
              "</div>\n",
              "      <button class=\"colab-df-convert\" onclick=\"convertToInteractive('df-9095715b-74c4-4692-8f74-2a6bace11595')\"\n",
              "              title=\"Convert this dataframe to an interactive table.\"\n",
              "              style=\"display:none;\">\n",
              "        \n",
              "  <svg xmlns=\"http://www.w3.org/2000/svg\" height=\"24px\"viewBox=\"0 0 24 24\"\n",
              "       width=\"24px\">\n",
              "    <path d=\"M0 0h24v24H0V0z\" fill=\"none\"/>\n",
              "    <path d=\"M18.56 5.44l.94 2.06.94-2.06 2.06-.94-2.06-.94-.94-2.06-.94 2.06-2.06.94zm-11 1L8.5 8.5l.94-2.06 2.06-.94-2.06-.94L8.5 2.5l-.94 2.06-2.06.94zm10 10l.94 2.06.94-2.06 2.06-.94-2.06-.94-.94-2.06-.94 2.06-2.06.94z\"/><path d=\"M17.41 7.96l-1.37-1.37c-.4-.4-.92-.59-1.43-.59-.52 0-1.04.2-1.43.59L10.3 9.45l-7.72 7.72c-.78.78-.78 2.05 0 2.83L4 21.41c.39.39.9.59 1.41.59.51 0 1.02-.2 1.41-.59l7.78-7.78 2.81-2.81c.8-.78.8-2.07 0-2.86zM5.41 20L4 18.59l7.72-7.72 1.47 1.35L5.41 20z\"/>\n",
              "  </svg>\n",
              "      </button>\n",
              "      \n",
              "  <style>\n",
              "    .colab-df-container {\n",
              "      display:flex;\n",
              "      flex-wrap:wrap;\n",
              "      gap: 12px;\n",
              "    }\n",
              "\n",
              "    .colab-df-convert {\n",
              "      background-color: #E8F0FE;\n",
              "      border: none;\n",
              "      border-radius: 50%;\n",
              "      cursor: pointer;\n",
              "      display: none;\n",
              "      fill: #1967D2;\n",
              "      height: 32px;\n",
              "      padding: 0 0 0 0;\n",
              "      width: 32px;\n",
              "    }\n",
              "\n",
              "    .colab-df-convert:hover {\n",
              "      background-color: #E2EBFA;\n",
              "      box-shadow: 0px 1px 2px rgba(60, 64, 67, 0.3), 0px 1px 3px 1px rgba(60, 64, 67, 0.15);\n",
              "      fill: #174EA6;\n",
              "    }\n",
              "\n",
              "    [theme=dark] .colab-df-convert {\n",
              "      background-color: #3B4455;\n",
              "      fill: #D2E3FC;\n",
              "    }\n",
              "\n",
              "    [theme=dark] .colab-df-convert:hover {\n",
              "      background-color: #434B5C;\n",
              "      box-shadow: 0px 1px 3px 1px rgba(0, 0, 0, 0.15);\n",
              "      filter: drop-shadow(0px 1px 2px rgba(0, 0, 0, 0.3));\n",
              "      fill: #FFFFFF;\n",
              "    }\n",
              "  </style>\n",
              "\n",
              "      <script>\n",
              "        const buttonEl =\n",
              "          document.querySelector('#df-9095715b-74c4-4692-8f74-2a6bace11595 button.colab-df-convert');\n",
              "        buttonEl.style.display =\n",
              "          google.colab.kernel.accessAllowed ? 'block' : 'none';\n",
              "\n",
              "        async function convertToInteractive(key) {\n",
              "          const element = document.querySelector('#df-9095715b-74c4-4692-8f74-2a6bace11595');\n",
              "          const dataTable =\n",
              "            await google.colab.kernel.invokeFunction('convertToInteractive',\n",
              "                                                     [key], {});\n",
              "          if (!dataTable) return;\n",
              "\n",
              "          const docLinkHtml = 'Like what you see? Visit the ' +\n",
              "            '<a target=\"_blank\" href=https://colab.research.google.com/notebooks/data_table.ipynb>data table notebook</a>'\n",
              "            + ' to learn more about interactive tables.';\n",
              "          element.innerHTML = '';\n",
              "          dataTable['output_type'] = 'display_data';\n",
              "          await google.colab.output.renderOutput(dataTable, element);\n",
              "          const docLink = document.createElement('div');\n",
              "          docLink.innerHTML = docLinkHtml;\n",
              "          element.appendChild(docLink);\n",
              "        }\n",
              "      </script>\n",
              "    </div>\n",
              "  </div>\n",
              "  "
            ]
          },
          "metadata": {},
          "execution_count": 8
        }
      ]
    },
    {
      "cell_type": "code",
      "source": [
        "dados_final.shape"
      ],
      "metadata": {
        "colab": {
          "base_uri": "https://localhost:8080/"
        },
        "id": "N9sP_tqjcCBz",
        "outputId": "98454261-79fb-42ba-9c50-e25112507eb3"
      },
      "execution_count": null,
      "outputs": [
        {
          "output_type": "execute_result",
          "data": {
            "text/plain": [
              "(7043, 39)"
            ]
          },
          "metadata": {},
          "execution_count": 9
        }
      ]
    },
    {
      "cell_type": "markdown",
      "source": [
        "# Definição Informal\n",
        "<br/><br>\n",
        "Informações para classificação:<br/>\n",
        "X = inputs(dados de entrada)<br>\n",
        "Y = outputs(dados de saída)\n"
      ],
      "metadata": {
        "id": "SEB9vsbXhkXU"
      }
    },
    {
      "cell_type": "code",
      "source": [
        "pd.set_option('display.max_columns', 39)"
      ],
      "metadata": {
        "id": "PD2asJOUcOek"
      },
      "execution_count": null,
      "outputs": []
    },
    {
      "cell_type": "code",
      "source": [
        "dados_final.head()"
      ],
      "metadata": {
        "colab": {
          "base_uri": "https://localhost:8080/",
          "height": 270
        },
        "id": "rgaGKvpbiefe",
        "outputId": "a08565fc-b74c-48e6-8a0c-8c29ad32f049"
      },
      "execution_count": null,
      "outputs": [
        {
          "output_type": "execute_result",
          "data": {
            "text/plain": [
              "   Conjuge  Dependentes  TelefoneFixo  PagamentoOnline  Churn  Maior65Anos  \\\n",
              "0        1            0             0                1      0            0   \n",
              "1        0            0             1                0      0            0   \n",
              "2        0            0             1                1      1            0   \n",
              "3        0            0             0                0      0            0   \n",
              "4        0            0             1                1      1            0   \n",
              "\n",
              "   MesesDeContrato  ContaMensal  VariasLinhasTelefonicas_Nao  \\\n",
              "0                1        29.85                            0   \n",
              "1               34        56.95                            1   \n",
              "2                2        53.85                            1   \n",
              "3               45        42.30                            0   \n",
              "4                2        70.70                            1   \n",
              "\n",
              "   VariasLinhasTelefonicas_SemServicoTelefonico  VariasLinhasTelefonicas_Sim  \\\n",
              "0                                             1                            0   \n",
              "1                                             0                            0   \n",
              "2                                             0                            0   \n",
              "3                                             1                            0   \n",
              "4                                             0                            0   \n",
              "\n",
              "   ServicoDeInternet_DSL  ServicoDeInternet_FibraOptica  \\\n",
              "0                      1                              0   \n",
              "1                      1                              0   \n",
              "2                      1                              0   \n",
              "3                      1                              0   \n",
              "4                      0                              1   \n",
              "\n",
              "   ServicoDeInternet_Nao  SegurancaOnline_Nao  \\\n",
              "0                      0                    1   \n",
              "1                      0                    0   \n",
              "2                      0                    0   \n",
              "3                      0                    0   \n",
              "4                      0                    1   \n",
              "\n",
              "   SegurancaOnline_SemServicoDeInternet  SegurancaOnline_Sim  \\\n",
              "0                                     0                    0   \n",
              "1                                     0                    1   \n",
              "2                                     0                    1   \n",
              "3                                     0                    1   \n",
              "4                                     0                    0   \n",
              "\n",
              "   BackupOnline_Nao  BackupOnline_SemServicoDeInternet  BackupOnline_Sim  \\\n",
              "0                 0                                  0                 1   \n",
              "1                 1                                  0                 0   \n",
              "2                 0                                  0                 1   \n",
              "3                 1                                  0                 0   \n",
              "4                 1                                  0                 0   \n",
              "\n",
              "   SeguroNoDispositivo_Nao  SeguroNoDispositivo_SemServicoDeInternet  \\\n",
              "0                        1                                         0   \n",
              "1                        0                                         0   \n",
              "2                        1                                         0   \n",
              "3                        0                                         0   \n",
              "4                        1                                         0   \n",
              "\n",
              "   SeguroNoDispositivo_Sim  SuporteTecnico_Nao  \\\n",
              "0                        0                   1   \n",
              "1                        1                   1   \n",
              "2                        0                   1   \n",
              "3                        1                   0   \n",
              "4                        0                   1   \n",
              "\n",
              "   SuporteTecnico_SemServicoDeInternet  SuporteTecnico_Sim  TVaCabo_Nao  \\\n",
              "0                                    0                   0            1   \n",
              "1                                    0                   0            1   \n",
              "2                                    0                   0            1   \n",
              "3                                    0                   1            1   \n",
              "4                                    0                   0            1   \n",
              "\n",
              "   TVaCabo_SemServicoDeInternet  TVaCabo_Sim  StreamingDeFilmes_Nao  \\\n",
              "0                             0            0                      1   \n",
              "1                             0            0                      1   \n",
              "2                             0            0                      1   \n",
              "3                             0            0                      1   \n",
              "4                             0            0                      1   \n",
              "\n",
              "   StreamingDeFilmes_SemServicoDeInternet  StreamingDeFilmes_Sim  \\\n",
              "0                                       0                      0   \n",
              "1                                       0                      0   \n",
              "2                                       0                      0   \n",
              "3                                       0                      0   \n",
              "4                                       0                      0   \n",
              "\n",
              "   TipoDeContrato_DoisAnos  TipoDeContrato_Mensalmente  TipoDeContrato_UmAno  \\\n",
              "0                        0                           1                     0   \n",
              "1                        0                           0                     1   \n",
              "2                        0                           1                     0   \n",
              "3                        0                           0                     1   \n",
              "4                        0                           1                     0   \n",
              "\n",
              "   FormaDePagamento_CartaoDeCredito  FormaDePagamento_ChequeDigital  \\\n",
              "0                                 0                               1   \n",
              "1                                 0                               0   \n",
              "2                                 0                               0   \n",
              "3                                 0                               0   \n",
              "4                                 0                               1   \n",
              "\n",
              "   FormaDePagamento_ChequePapel  FormaDePagamento_DebitoEmConta  \n",
              "0                             0                               0  \n",
              "1                             1                               0  \n",
              "2                             1                               0  \n",
              "3                             0                               1  \n",
              "4                             0                               0  "
            ],
            "text/html": [
              "\n",
              "  <div id=\"df-9a394fc7-a736-4c2a-ace6-d2be75a24fcb\">\n",
              "    <div class=\"colab-df-container\">\n",
              "      <div>\n",
              "<style scoped>\n",
              "    .dataframe tbody tr th:only-of-type {\n",
              "        vertical-align: middle;\n",
              "    }\n",
              "\n",
              "    .dataframe tbody tr th {\n",
              "        vertical-align: top;\n",
              "    }\n",
              "\n",
              "    .dataframe thead th {\n",
              "        text-align: right;\n",
              "    }\n",
              "</style>\n",
              "<table border=\"1\" class=\"dataframe\">\n",
              "  <thead>\n",
              "    <tr style=\"text-align: right;\">\n",
              "      <th></th>\n",
              "      <th>Conjuge</th>\n",
              "      <th>Dependentes</th>\n",
              "      <th>TelefoneFixo</th>\n",
              "      <th>PagamentoOnline</th>\n",
              "      <th>Churn</th>\n",
              "      <th>Maior65Anos</th>\n",
              "      <th>MesesDeContrato</th>\n",
              "      <th>ContaMensal</th>\n",
              "      <th>VariasLinhasTelefonicas_Nao</th>\n",
              "      <th>VariasLinhasTelefonicas_SemServicoTelefonico</th>\n",
              "      <th>VariasLinhasTelefonicas_Sim</th>\n",
              "      <th>ServicoDeInternet_DSL</th>\n",
              "      <th>ServicoDeInternet_FibraOptica</th>\n",
              "      <th>ServicoDeInternet_Nao</th>\n",
              "      <th>SegurancaOnline_Nao</th>\n",
              "      <th>SegurancaOnline_SemServicoDeInternet</th>\n",
              "      <th>SegurancaOnline_Sim</th>\n",
              "      <th>BackupOnline_Nao</th>\n",
              "      <th>BackupOnline_SemServicoDeInternet</th>\n",
              "      <th>BackupOnline_Sim</th>\n",
              "      <th>SeguroNoDispositivo_Nao</th>\n",
              "      <th>SeguroNoDispositivo_SemServicoDeInternet</th>\n",
              "      <th>SeguroNoDispositivo_Sim</th>\n",
              "      <th>SuporteTecnico_Nao</th>\n",
              "      <th>SuporteTecnico_SemServicoDeInternet</th>\n",
              "      <th>SuporteTecnico_Sim</th>\n",
              "      <th>TVaCabo_Nao</th>\n",
              "      <th>TVaCabo_SemServicoDeInternet</th>\n",
              "      <th>TVaCabo_Sim</th>\n",
              "      <th>StreamingDeFilmes_Nao</th>\n",
              "      <th>StreamingDeFilmes_SemServicoDeInternet</th>\n",
              "      <th>StreamingDeFilmes_Sim</th>\n",
              "      <th>TipoDeContrato_DoisAnos</th>\n",
              "      <th>TipoDeContrato_Mensalmente</th>\n",
              "      <th>TipoDeContrato_UmAno</th>\n",
              "      <th>FormaDePagamento_CartaoDeCredito</th>\n",
              "      <th>FormaDePagamento_ChequeDigital</th>\n",
              "      <th>FormaDePagamento_ChequePapel</th>\n",
              "      <th>FormaDePagamento_DebitoEmConta</th>\n",
              "    </tr>\n",
              "  </thead>\n",
              "  <tbody>\n",
              "    <tr>\n",
              "      <th>0</th>\n",
              "      <td>1</td>\n",
              "      <td>0</td>\n",
              "      <td>0</td>\n",
              "      <td>1</td>\n",
              "      <td>0</td>\n",
              "      <td>0</td>\n",
              "      <td>1</td>\n",
              "      <td>29.85</td>\n",
              "      <td>0</td>\n",
              "      <td>1</td>\n",
              "      <td>0</td>\n",
              "      <td>1</td>\n",
              "      <td>0</td>\n",
              "      <td>0</td>\n",
              "      <td>1</td>\n",
              "      <td>0</td>\n",
              "      <td>0</td>\n",
              "      <td>0</td>\n",
              "      <td>0</td>\n",
              "      <td>1</td>\n",
              "      <td>1</td>\n",
              "      <td>0</td>\n",
              "      <td>0</td>\n",
              "      <td>1</td>\n",
              "      <td>0</td>\n",
              "      <td>0</td>\n",
              "      <td>1</td>\n",
              "      <td>0</td>\n",
              "      <td>0</td>\n",
              "      <td>1</td>\n",
              "      <td>0</td>\n",
              "      <td>0</td>\n",
              "      <td>0</td>\n",
              "      <td>1</td>\n",
              "      <td>0</td>\n",
              "      <td>0</td>\n",
              "      <td>1</td>\n",
              "      <td>0</td>\n",
              "      <td>0</td>\n",
              "    </tr>\n",
              "    <tr>\n",
              "      <th>1</th>\n",
              "      <td>0</td>\n",
              "      <td>0</td>\n",
              "      <td>1</td>\n",
              "      <td>0</td>\n",
              "      <td>0</td>\n",
              "      <td>0</td>\n",
              "      <td>34</td>\n",
              "      <td>56.95</td>\n",
              "      <td>1</td>\n",
              "      <td>0</td>\n",
              "      <td>0</td>\n",
              "      <td>1</td>\n",
              "      <td>0</td>\n",
              "      <td>0</td>\n",
              "      <td>0</td>\n",
              "      <td>0</td>\n",
              "      <td>1</td>\n",
              "      <td>1</td>\n",
              "      <td>0</td>\n",
              "      <td>0</td>\n",
              "      <td>0</td>\n",
              "      <td>0</td>\n",
              "      <td>1</td>\n",
              "      <td>1</td>\n",
              "      <td>0</td>\n",
              "      <td>0</td>\n",
              "      <td>1</td>\n",
              "      <td>0</td>\n",
              "      <td>0</td>\n",
              "      <td>1</td>\n",
              "      <td>0</td>\n",
              "      <td>0</td>\n",
              "      <td>0</td>\n",
              "      <td>0</td>\n",
              "      <td>1</td>\n",
              "      <td>0</td>\n",
              "      <td>0</td>\n",
              "      <td>1</td>\n",
              "      <td>0</td>\n",
              "    </tr>\n",
              "    <tr>\n",
              "      <th>2</th>\n",
              "      <td>0</td>\n",
              "      <td>0</td>\n",
              "      <td>1</td>\n",
              "      <td>1</td>\n",
              "      <td>1</td>\n",
              "      <td>0</td>\n",
              "      <td>2</td>\n",
              "      <td>53.85</td>\n",
              "      <td>1</td>\n",
              "      <td>0</td>\n",
              "      <td>0</td>\n",
              "      <td>1</td>\n",
              "      <td>0</td>\n",
              "      <td>0</td>\n",
              "      <td>0</td>\n",
              "      <td>0</td>\n",
              "      <td>1</td>\n",
              "      <td>0</td>\n",
              "      <td>0</td>\n",
              "      <td>1</td>\n",
              "      <td>1</td>\n",
              "      <td>0</td>\n",
              "      <td>0</td>\n",
              "      <td>1</td>\n",
              "      <td>0</td>\n",
              "      <td>0</td>\n",
              "      <td>1</td>\n",
              "      <td>0</td>\n",
              "      <td>0</td>\n",
              "      <td>1</td>\n",
              "      <td>0</td>\n",
              "      <td>0</td>\n",
              "      <td>0</td>\n",
              "      <td>1</td>\n",
              "      <td>0</td>\n",
              "      <td>0</td>\n",
              "      <td>0</td>\n",
              "      <td>1</td>\n",
              "      <td>0</td>\n",
              "    </tr>\n",
              "    <tr>\n",
              "      <th>3</th>\n",
              "      <td>0</td>\n",
              "      <td>0</td>\n",
              "      <td>0</td>\n",
              "      <td>0</td>\n",
              "      <td>0</td>\n",
              "      <td>0</td>\n",
              "      <td>45</td>\n",
              "      <td>42.30</td>\n",
              "      <td>0</td>\n",
              "      <td>1</td>\n",
              "      <td>0</td>\n",
              "      <td>1</td>\n",
              "      <td>0</td>\n",
              "      <td>0</td>\n",
              "      <td>0</td>\n",
              "      <td>0</td>\n",
              "      <td>1</td>\n",
              "      <td>1</td>\n",
              "      <td>0</td>\n",
              "      <td>0</td>\n",
              "      <td>0</td>\n",
              "      <td>0</td>\n",
              "      <td>1</td>\n",
              "      <td>0</td>\n",
              "      <td>0</td>\n",
              "      <td>1</td>\n",
              "      <td>1</td>\n",
              "      <td>0</td>\n",
              "      <td>0</td>\n",
              "      <td>1</td>\n",
              "      <td>0</td>\n",
              "      <td>0</td>\n",
              "      <td>0</td>\n",
              "      <td>0</td>\n",
              "      <td>1</td>\n",
              "      <td>0</td>\n",
              "      <td>0</td>\n",
              "      <td>0</td>\n",
              "      <td>1</td>\n",
              "    </tr>\n",
              "    <tr>\n",
              "      <th>4</th>\n",
              "      <td>0</td>\n",
              "      <td>0</td>\n",
              "      <td>1</td>\n",
              "      <td>1</td>\n",
              "      <td>1</td>\n",
              "      <td>0</td>\n",
              "      <td>2</td>\n",
              "      <td>70.70</td>\n",
              "      <td>1</td>\n",
              "      <td>0</td>\n",
              "      <td>0</td>\n",
              "      <td>0</td>\n",
              "      <td>1</td>\n",
              "      <td>0</td>\n",
              "      <td>1</td>\n",
              "      <td>0</td>\n",
              "      <td>0</td>\n",
              "      <td>1</td>\n",
              "      <td>0</td>\n",
              "      <td>0</td>\n",
              "      <td>1</td>\n",
              "      <td>0</td>\n",
              "      <td>0</td>\n",
              "      <td>1</td>\n",
              "      <td>0</td>\n",
              "      <td>0</td>\n",
              "      <td>1</td>\n",
              "      <td>0</td>\n",
              "      <td>0</td>\n",
              "      <td>1</td>\n",
              "      <td>0</td>\n",
              "      <td>0</td>\n",
              "      <td>0</td>\n",
              "      <td>1</td>\n",
              "      <td>0</td>\n",
              "      <td>0</td>\n",
              "      <td>1</td>\n",
              "      <td>0</td>\n",
              "      <td>0</td>\n",
              "    </tr>\n",
              "  </tbody>\n",
              "</table>\n",
              "</div>\n",
              "      <button class=\"colab-df-convert\" onclick=\"convertToInteractive('df-9a394fc7-a736-4c2a-ace6-d2be75a24fcb')\"\n",
              "              title=\"Convert this dataframe to an interactive table.\"\n",
              "              style=\"display:none;\">\n",
              "        \n",
              "  <svg xmlns=\"http://www.w3.org/2000/svg\" height=\"24px\"viewBox=\"0 0 24 24\"\n",
              "       width=\"24px\">\n",
              "    <path d=\"M0 0h24v24H0V0z\" fill=\"none\"/>\n",
              "    <path d=\"M18.56 5.44l.94 2.06.94-2.06 2.06-.94-2.06-.94-.94-2.06-.94 2.06-2.06.94zm-11 1L8.5 8.5l.94-2.06 2.06-.94-2.06-.94L8.5 2.5l-.94 2.06-2.06.94zm10 10l.94 2.06.94-2.06 2.06-.94-2.06-.94-.94-2.06-.94 2.06-2.06.94z\"/><path d=\"M17.41 7.96l-1.37-1.37c-.4-.4-.92-.59-1.43-.59-.52 0-1.04.2-1.43.59L10.3 9.45l-7.72 7.72c-.78.78-.78 2.05 0 2.83L4 21.41c.39.39.9.59 1.41.59.51 0 1.02-.2 1.41-.59l7.78-7.78 2.81-2.81c.8-.78.8-2.07 0-2.86zM5.41 20L4 18.59l7.72-7.72 1.47 1.35L5.41 20z\"/>\n",
              "  </svg>\n",
              "      </button>\n",
              "      \n",
              "  <style>\n",
              "    .colab-df-container {\n",
              "      display:flex;\n",
              "      flex-wrap:wrap;\n",
              "      gap: 12px;\n",
              "    }\n",
              "\n",
              "    .colab-df-convert {\n",
              "      background-color: #E8F0FE;\n",
              "      border: none;\n",
              "      border-radius: 50%;\n",
              "      cursor: pointer;\n",
              "      display: none;\n",
              "      fill: #1967D2;\n",
              "      height: 32px;\n",
              "      padding: 0 0 0 0;\n",
              "      width: 32px;\n",
              "    }\n",
              "\n",
              "    .colab-df-convert:hover {\n",
              "      background-color: #E2EBFA;\n",
              "      box-shadow: 0px 1px 2px rgba(60, 64, 67, 0.3), 0px 1px 3px 1px rgba(60, 64, 67, 0.15);\n",
              "      fill: #174EA6;\n",
              "    }\n",
              "\n",
              "    [theme=dark] .colab-df-convert {\n",
              "      background-color: #3B4455;\n",
              "      fill: #D2E3FC;\n",
              "    }\n",
              "\n",
              "    [theme=dark] .colab-df-convert:hover {\n",
              "      background-color: #434B5C;\n",
              "      box-shadow: 0px 1px 3px 1px rgba(0, 0, 0, 0.15);\n",
              "      filter: drop-shadow(0px 1px 2px rgba(0, 0, 0, 0.3));\n",
              "      fill: #FFFFFF;\n",
              "    }\n",
              "  </style>\n",
              "\n",
              "      <script>\n",
              "        const buttonEl =\n",
              "          document.querySelector('#df-9a394fc7-a736-4c2a-ace6-d2be75a24fcb button.colab-df-convert');\n",
              "        buttonEl.style.display =\n",
              "          google.colab.kernel.accessAllowed ? 'block' : 'none';\n",
              "\n",
              "        async function convertToInteractive(key) {\n",
              "          const element = document.querySelector('#df-9a394fc7-a736-4c2a-ace6-d2be75a24fcb');\n",
              "          const dataTable =\n",
              "            await google.colab.kernel.invokeFunction('convertToInteractive',\n",
              "                                                     [key], {});\n",
              "          if (!dataTable) return;\n",
              "\n",
              "          const docLinkHtml = 'Like what you see? Visit the ' +\n",
              "            '<a target=\"_blank\" href=https://colab.research.google.com/notebooks/data_table.ipynb>data table notebook</a>'\n",
              "            + ' to learn more about interactive tables.';\n",
              "          element.innerHTML = '';\n",
              "          dataTable['output_type'] = 'display_data';\n",
              "          await google.colab.output.renderOutput(dataTable, element);\n",
              "          const docLink = document.createElement('div');\n",
              "          docLink.innerHTML = docLinkHtml;\n",
              "          element.appendChild(docLink);\n",
              "        }\n",
              "      </script>\n",
              "    </div>\n",
              "  </div>\n",
              "  "
            ]
          },
          "metadata": {},
          "execution_count": 11
        }
      ]
    },
    {
      "cell_type": "markdown",
      "source": [
        "![fx.jpg](data:image/jpeg;base64,/9j/4AAQSkZJRgABAQEAYABgAAD/2wBDAAMCAgMCAgMDAwMEAwMEBQgFBQQEBQoHBwYIDAoMDAsKCwsNDhIQDQ4RDgsLEBYQERMUFRUVDA8XGBYUGBIUFRT/2wBDAQMEBAUEBQkFBQkUDQsNFBQUFBQUFBQUFBQUFBQUFBQUFBQUFBQUFBQUFBQUFBQUFBQUFBQUFBQUFBQUFBQUFBT/wAARCACyAPUDASIAAhEBAxEB/8QAHwAAAQUBAQEBAQEAAAAAAAAAAAECAwQFBgcICQoL/8QAtRAAAgEDAwIEAwUFBAQAAAF9AQIDAAQRBRIhMUEGE1FhByJxFDKBkaEII0KxwRVS0fAkM2JyggkKFhcYGRolJicoKSo0NTY3ODk6Q0RFRkdISUpTVFVWV1hZWmNkZWZnaGlqc3R1dnd4eXqDhIWGh4iJipKTlJWWl5iZmqKjpKWmp6ipqrKztLW2t7i5usLDxMXGx8jJytLT1NXW19jZ2uHi4+Tl5ufo6erx8vP09fb3+Pn6/8QAHwEAAwEBAQEBAQEBAQAAAAAAAAECAwQFBgcICQoL/8QAtREAAgECBAQDBAcFBAQAAQJ3AAECAxEEBSExBhJBUQdhcRMiMoEIFEKRobHBCSMzUvAVYnLRChYkNOEl8RcYGRomJygpKjU2Nzg5OkNERUZHSElKU1RVVldYWVpjZGVmZ2hpanN0dXZ3eHl6goOEhYaHiImKkpOUlZaXmJmaoqOkpaanqKmqsrO0tba3uLm6wsPExcbHyMnK0tPU1dbX2Nna4uPk5ebn6Onq8vP09fb3+Pn6/9oADAMBAAIRAxEAPwD5z3UlJ+g9aWvgj+chOfWloooAKKKKACiiigApNtLRQA3Ap1G4+tFAB/nmiiigAooooAKTO7gdetLR+FADSKXbS0UgCiiimA1qYy5yae1NP8VA1uRU2nU2g0iFMY0+mNVI0Qm6kpKWmaLQjY80UrAZooLNKk3U6k21mcAm6lpAKdTAKKKKBBRRRQAUUUUAFFFFABRTSaAaQDqKKKYBRTf6U8ofQ/lQAlFJ6EUtABRRRQA1qaf4qeaYejUDjuRU2nU2mjSIU1hTqa1NbmiGEe9JStRTNVca1FDUUijSprNtUn2z1xTqRvunnHv1qep563PWPA/7N/ijxvok+s2ULTaZHAbhZbcBiVUHcpDFcMMHpkHB5HWvLJrd7eeSKVGjljYoyMCGUjggg9K/Tz9h3X7TxJ8GYLaHzEEN5cMRMUJ+eRnZflGMBnY884YHjIr5L/bj+Eo+Gvxal1SztjBomuIJ7fbGFjjlUBZI1CjAA+QjgfePoa9Kth17FVYn1GMyuNLA08XTd77nzpto289ce56UMSrAVJaxG5mSMBzuYA+WuWGTjgetefHdLufMJczsj1L4Zfs2+Kvilocmp6ZbSRwLPHCu9QQ24ZzksMBR8xzjjHrXm2vaLdeHNZu9MvYnhubZwjxyIyMDgEgqQCDzX6/fA/wrD4L+GumWpkkCNF5sjXClGAYA/MCeoAHJ5A44xivy2/aFu4Lz4zeLGtZo57WO9aKOSH7p2gA45x1znHGc4A6V6OJw8aNKD6s+pzPK6WBwlKqn70jzyjrwOtJS15h8qFFFFADSKXbS0UgCpbS1lv7qO3t0aSaRgoVFLHk46AE/pUBNfRf7E/w4t/HHxOsrm7CPb2UomZHjzkKN2Qdw/iCA8cbh1GRW1KDqzUEdWFoSxFaNKPVnqfwB/Ydg1rw/pWseMLKN5mmZ5LF7qWMvET8pOANowu7BB3Bsem32zVP2Gfhzqli8Mds2n3BhKh7NlXaxZiHAcPyN+OcghQMY4rvfjx8ZNH+Cfge51q/INy4aK0tIwN88u3Kr1zjIGSAcZ5r4x8C/t1axa+JHuNfQiGe5ZsQguixtsGzPUABOODyTkHPH0PJhqNqc1dn6PUo5Vl7jha0U5dzl/wBpL9jXVvgrEda0e7fWvDBwrSMo+0W7knAdVGCpHRhgDByBxn5vP3iB1HWv2l1T7B8Sfhs7xOtzZ6haCRXXGJEOGyDnGCB6/QjrX5B/FDwsPBvxA17SY0kFrb3kqW8kiFfMiDlVYcng49T0I7V5uMwype/DZnzme5bTwbjWofBI5ekJpaa1eWfIiMNxzSdmHrS0nc0DW4xxtpg61JJ/SoqDRCfxUh5bFOprflWiuaIY1FDUUmaoa1FDUUijSoB2sDgH2NFFSeee+/sd/F+P4W/EJxdsos7/AAjLg5OA3yhiwVASU7HJUZwBmvvf9pL4U2Xxy+EN3bQRxTXyRi5sLsSDaj465yAVIJBz0BJwSAK/I+GaS3dZIZGhlRgySRnDIw6EHsa/UH9i/wCMcHjr4c2ekTzf6bYhrZkZ8v8AIE3Hnsd+4cn+LHC4Ht4GqqkXQn8j7vh/Fwrwll9faWx+YN5Zy6feT2twjRz28jRSKwwQykgj8CK9c/ZV+F4+J/xc0qwlQNZ2zm4udyK42KM42nrkgDPbcD1xXrP7fnwRHhHxlH4402ER6drDLDdBCx2XKrgOc8AFFH1K+pJr1r/gnx8NV0LwRd+KJWjll1KTy0ZRuzt6tkMV6EqcYOQQRwKwo4V/WPZy6HnYPK5f2n9XmtIu/wAuh7v8dPHUXwx+EniLWnk8p4rR4rTHJ8xgVQKMjofm6joa/HSWRpJGZnaTJ4L5z+RJxX27/wAFGPim1xqGleBbRiYo1W/uXVvvMc7VPqAMHv1wMFTXxDJ96jMKilNU19k14kxaxGK9lHaGg2gUULXmdD5AWiiikAUUUUANZa+/P+Cbeksvh/W7zcZFkuZIyFwREQseM85BYM3t8v5/AjHAJr9FP+CbcKt8OPEEwWQEao0Ssz5UgRow2r0HXk9ePQDHoYCN66PpuHVzZhC/meaf8FHfF1xc+NdC0KN7pbS2tmmK7h5DsZGVjgDJYbR7fzr44Mm5SQSPp1r6o/4KH332r4safBEQLePT1cDcQQWkYEYztI+QHgfxHNfK6RgkA8jNTjH++l3OfOJc+Pqvsz9bv2ZJJp/2e9Ae5jkhkNiu7zECnhdoZccspVQQTzgivzk/aiRE+O3izZKJi12WZg24DPIXOB0GB7Yxk4r6p/Z//aU0zwh+zlem7l+yXOjxraxyMhk3SFdqdGGMsPuZXAGelfEXxC8VyeOPG2t69Kqq9/dPNtRSqgEnaACTgAYGMnpXViqsJ0IRW562cYulXwNCEXqc/SYpaSvHPixG4po70rfWkJ4yKC0rA33TUH605mLU00FLcQNkUhNKPummnoatX6mysJ15pKVfu02gu4jUUjNRSKNOiiipPPAHFen/ALO/xPl+FfxM0zVjLstNxil3qHVN3yiTbjJIyeAVJBIDDJz5hT4WcOpT7+fl7c1UJOEk0bUasqNSNSLs0fsn418G6L8e/hhJpl+ivZX4jljlU7ijAhkkUjv3BBxz3BIOt4f0Sy+GfgOCxEvl2Wk2nzT3EvUImWdmPTkE15r+xv46i8afCGwxJCs9sQklvHO0hi+Ubs7vmGX3nnjJOMjFZP7d3xEPgr4H32nW9x5V9rrfYECkBvKIPm4yehX5T1+9+I+wdSMaXt2tbH7T9apLDfX5LXl3Pzj+LXjq4+I3xE17xBcTSTG8uWZDI27bHn5FHoAMYA4rjslqfTTXyFSTnJyluz8UnUc5OT6hSUtFQZhRQv3vaigAooooAVfvDp+Oa/Qv/gm7+88D68BHkJfENLsUHcUUhd3VgoBPsZDjqa/PVX2fN6c1+h3/AATdihb4e69IUkWf+0GVmkGUICIRtb2yeOxyecjb6OX/AMdH1HDf/Iwj6M8e/wCCh00cnxS0rClT9hJ2gEYy5APpjC9h1znjFfKDN6HntX1h/wAFElk/4WdoiM8IVrFnRY2Bl2+a4y3AwCVGBk/dJ4r5MK7W4PFZYr+NJs4M20x1X1J2vJnt1gd2aGPBVD0UjPT/AL6P51GT26mm5FC8Doa5G7nkNt7jqaxPSndge3rimt978OlISEPNJjtSMxU0q5ag0G7VHemso7VdtdGvtQjee2s7ieFOGljiZkXuckDAp+taDfeH757O/t2t7hB88bgjYfQ+v4e1Wovexai97aGX93imtT2G5qY3FMsRTgU31o5pGPIpFJCMtFKxoqizR/AflS0UVkeeGDSru528N2+vam8+tb3gPRX8ReLtL06JoRNNOoRbiMyRsw5Cuo5KkgAj0JqopydkaU488lHufpL+wj4Fbwn8H4759NWyu9TnLmRmO6VVwu4jaMDIbAycgDkV82f8FD/iMPEnxYtPDcFxKbbQ7ZVmhyfLM8gD5x3IUp83vjjmvvPwnpVv8LfhjY6eXi8rRdPVJJn+RZGRPmdsZxubnuee5r8gPH3i+58feM9Z8Q3jO0+oXLzkSOWKgn5VyeoAwPQYwAAAB7mOk4UI0j9Dz2p9Uy6lhE9X+hz1GKOg9as2mm3l8dttazXRyB+6iZjk5wMAex/KvB5X0PzmMXLYq7aY2elaMuh6lAQJNPuoyQxG6FhwuNx6dsjPpmo30e+3EGyuAwIBXymzycDt3NPll1RXLJPVFNfeirH9mXgkdDazh14ZfLbI+vFOk0m9hZlls7iNlJBVomBB9DxTsDjLexWop9tbm4uo4AwUu6puPQE8f/X/AAr6K+Hf7FXifx3pEOopcW6xyIrBY5hu5x/sleMjjdnBHAPFaU6UqrtDU3o4WriJctKN2fOi57Dcew9a/Rb/AIJuPL/wrfXUaMiFdSJVufmzGhJ/PPHUY4+9x5ZJ/wAE4vEv2eRo9Yt5TtYqoAIPA2gnI75zjt3GMH6j/ZZ+At78CfC+oWN/di4mu5hNtRyyx4XH0JxgEhR0+letgsNVp1uaa0Ps8iyvF4bGRq1YWjZnxv8A8FBPtEPxptY2eMW8tgjqkCqPmEkoO9goLNgr94nAJAPWvmBlDKWHIAHI6e1frR8Yv2WdE+MniK21fV754vJTy1gESlSCcnJ4YkjjGeOv18f+IP7CHgHSdCm1GLVryzljjZNwESo52ccEhd2cnqM56d6nFYOcqkprYyzLI8XUxFSvFe63fc/PTZzVvS9Pn1S+gs7eJpZ5nCoqgevOckDH1IHuK0vGOgjwv4kv9LzIfskhjLTLsY49VP3fTB7g19V/sCfBj/hItYuPF+oQZtLaQxW4kAAYqBuOGRtyksF4K4KEjJXjzqFB1KnIfNYLBzxeJWHXzHyfsGz6J8O9Q1i+ulvtVaBha2druKBjg+a0mTggg4AG3AUE/MSPkHXtLfRdYurJ23/Z5GiDgcPtYrke2Rwa/Tf9sz48W3wn8CLpWnosmuaiGgt/MYhY4l2+a2Rk5wwQfd+8TnK1+XTCSTfI+5izElscbjk/411YynCm4xgj1c6w2FwtSNHD7pajHBz0pUwoy4O3vgZNA+YccfgTXo/gn4CeKfHGi3OsWtulppcO5Td3TbELYyBnGOcg/TOMnivPUJSdoo8GlSnWlaCuz6G/4J/6LpWr2uv2d/DbXC3cgiEUuH3sqtwy4+Vdrn3bkHIHFT/gob8KovDesaD4stI0ijvkNjeNGH5kVfkY5JAJRQvbhAOQK8p/Zd+JUfwr+LFn5hkuLS8lit3EMpQbywAY8gEK2c8HI443V+h/7THgOL4tfA/XLWDzjP8AZPtlqLc/OZUXeox0IONvPZz0617tGmquHaW6Pu8HRhjsqlTS9+J+P3sM0xsVLJGY5CpOSDg5GOR1qJx/jXh25dD4TZidOlRMtS9FNRtQaDOaKKKY9TWooorI4Ar6f/YH+G6+Kvio+sXNr9otdKQkhsFQzKw+YZ6cjgg5x7ZHy9t3naOD69MV+qv7GPw1h8D/AAf0+7No0N1qKrOwkbLMMZy3yjGWZsDkABOSeT6GBpupV22Ppshwf1jFqUvhjqxf22fH83gP4D6jBbNE13qrLYAXCb8xP/rD1/u5GexYH6flYBtXivqf/goF8SIPFfxRsvD1oq+ToFuY5JFzvMsmCyt2ICrH9CT0OQPliqx9VVKrS6Bn+K+s4xxW0dDc8F+H7bxR4mstLutVt9GiuGKi7uUZ0VsZCkDu2MD3IHev1a+Dvwn8B+HfBlra6X/Y2sWbInm3sEUbC4kQAFyQSM5HIz7GvyIyeoO0+q8H860rfxNq9lby29vqd5DBKQXjSdgCQSQevXLNz/tH1rLC4iOH3jcyyrMqeXtuVPmbP2UvPhn4DvxO1z4f0a4MxUSPJbxksSpVecd1Yj33e9V7X4e/D61tIDBo+iJbxRqYykUWMcBWB9eR83qR3xX47p4s1yONoxrWoKjbcoLuQA7QAueewAA9AKS48Xa5eK4uNXv7hXQRMJLqQ5QMHVT83KhgCAeAQCK9H+0oXvyH0H+suHvrh1+B+x1v8OfBFrfS3cGg6PDcqwZpIoI1KMCWByB97vntgc8CsbxT8Nfh1a6Lf3F1oWhWqLBgzNbxrtVcMADjgZUcD1r8j4fHniSG4knj8Qaqk8hBeRb6UMxGcEndnPzNz/tH1NF1408QahJNJc67qVw0qhZPOvJH34AAzljnAUAZ6AVMsxpyVlTJlxHh2mvYfkS+PLO10/xlrUFkscVrHdyhI4W3xxjecIrdGUDABHBwDzXs/wAEf2vdY+FOj3lhPDJqTySedFPLKZCZCFU7w+TyEGWDDA4Ar563FlOTTVXBHNeXGtKlLmp6Hx1LF1KFV1aLsz70P/BSK1+3zoPDk5tGIEMzOoYHAyGXd03Z+bOcHOM/LX0P+z38f7T47aHdX9pZvam1lEM6nlVkMYcqCTzgkjPt071+QzqXUgdTwK/RL/gm983w21za8gH9pMDHkbAfLQlgOuTkA5/ujHIr1cHiatSryzeh9rkubYvFYuNKrO8bMzP2vP2qvE/w68Zw6F4eRLeD7OplnkPyl9z7lxjP3cDPH8WAeo+cvGX7YXxA8WaLPYG//s23uXJf7NJJ5jr0Ck7uB14AwSxPpjtf+CgULL8S7G4SSNN1vuMfzBz87APjoB8u0dSdueBtA+VWwzZ79/esMXXqRqNJ6Hi5pjsRHF1YKbtfYtwxy310qLmSeaTA3NgsxPqSP1Nfr78CvAcfwp+D+mad/qZ4rffO0kgZUbblvmwABnJ6Acn61+WPwR0N/EnxW8L6aEDrcX0eVkJ2MqfOwPBHRcc8c88Cv1D/AGmPFy+BPg7q9/5r2KeU1uJI4DIFLgoCVHQZI5wcehJxXRgLKEqrR6vDkFTp1sZLofnn8ZPHlt8VP2irm+uJZrjSIbr7KizSIqi2Qkyhd3AB/e4yCW3dzxX1Z4v/AGNtC8XfCuNNEkji1TymmguoU80NGf3iIpfaQDxjJG0MyjggV+dC3E0d0ZPNxNvDGVSc7uucjvnuK/ST9iH4/f8ACd+HT4Y1ObzdS06MMs8gYGQc5BPTOACOcn5j2rLCzhWclV3Zz5TUw+LxE6eIjrPY+I/h38Cte8TfHC08BXtrJZ3lvcf8TASRhvJiTDOx3cEEYC54JdfWv01+JB0b4X/CK+SJY9Mto7UxjytwMYKbcjaCcgbeuBkAnAFdlp/gHRtH8Wax4ot7dYtR1VIhdSgAFxGpC5PfAJ69OnSvhP8Ab4+Ng1fVbXw3pNyUVUbz9q4bZkqwPcZIIwQDgcHDZPZ7OGApt73PcWFpZHhajm7ylov0PkKHWZLXxBFqa7HkhuRcptUKOH3Dj+lfrt8BfFUfxE+D2mTpKxU2/kNIo2uDsG4kEnnJOc8EgkZBBP46qDu64Oep7V+lf/BPHxEdQ+Gl3pLzvM1lcBlVycqHLNg4BC8qflznC52jOW48vn+8afU8fhuvy4p0XtJHw1+0Z4PbwH8Z/FOkfuwq3jzKIlwqrJ+8CgDgYDYx7V5uzbua+tP+CjmgxaX8WtLv45JN99p37xXZjkrIwyPXO8DA6BfQivkkcVxYiPs6jR4GPofV8VUp9mNbNMNS1G2K5ziRHRRRTKNQMaTcc0nSk+ZvuDc3YeprE4bano3wD8Gr48+LHh7R5IFuYp7tC8bs2zC5bLAEEgbckAg4zyK/WDxn4i0z4Q/DG/1Z41t9M0izPlwxxEjCjaigDoOg6ADP1r5O/wCCc3w4aGHXfFV1Ez28xigtmlUKvmDeThSN24Kw54Hznrwa1f8Agoz8Vk03w7pfgO0k33Op4vbxARhYUYeWG+rgkf7lfR4dfVcO6kt2fo+WQWW5ZPFS3lt+h8GeIdauPEmuX+q3cnm3V7M9xK3P3mYk9SfWs/FHQU1WJr5+WurPzmcpSk5S3Yu2jbSqd2do3HOAoPJ4NeyfDf8AZR8dfE2zju7C2htbWRgu+6LxnBAIcArypz1H8sGqhTlU+FXNqOHq4h8tJXZ4u3zNS19g6J/wTZ8YXt0f7Q8SaZY26tgmON5XPHUDgDnjr6+2d6L/AIJk32z9548iLlTjZpvG76mXkDj6+1dX1Ou/snqrI8wa/hM+INtOXpX2z/w7L1J45ynjmMyKcR7tLwr8DnPnZAzx0zweDxlr/wDBNLUFtfMHjeLzGyfL/s7JUbSRn97yc4Bxx3z2o+pV/wCUP7DzD/n2z4oYZ+lJwO9dz8YPhXqPwe8ZXWhagzzojH7PeGExLcIP4lBJ+hGTggg8giuFIDHrketcjg4u0jx50pU24yVmiRcsRt69sV+h3/BNeNG+HfiDMSj/AImG0zKuC2I0+UnvjOeBxnrzX53DkFR1r9DP+CbSzf8ACGa/JIy+V9p8tByT8qg5646seOuMZ6ivRy/+Mj6Thz/f4+jPHf8AgoiSvxe0uNI4Fi/s3cpRxuOZGBDLuOOckHAzuPWvlPGK+uP+CjEMP/CztGnSKPzhZMsjrEN23edm5uvUtgHgckffr5H3evBrDGfxpXODNv8Afavqeufss26XHxq8OmWPfEl1EWO3dj51xkZAwT8vPHzY6mvvf9tLWF0z4H6tDKYybqNrdFLEfOQwXAyB90Sduu32I+C/2Ur6Gw+N3hx5lDBrhVT+9vJAUKegOSOo+vGc/op+1Xos2ufBPXorW0jupPszGGF7drglgpIIUIxDAgEMBwQMFfvD08FrhpWPp8ki3lldR3/4B+RvZmPGa+ov2APAuva78VZ9ctJLiz0DTogt3MrOqTS5ykQwQCcbic5wD0G4Z+ZLO1m1G+t7O0iaW6mkWOKJDku7EBQp4zkkV+uP7N/w1t/g18H9N06SGG2vPKFzqM0MnmCW5ZF8xiSTnBXbxx+7rjwVH2kuZvRHk5Dg5YjFqctFDU9auIzJazRK2JChGc46j19a/GX48+HdU8K/FzxNp2s/8fy3jybgMB0YlkYY9VIzyec8nrX6PfBv9oW0+JXxK8TeHDKqfY5C0KbcF8Hay7uFJAGcKD1J3YJryT/goZ8DBrOkL8QtLtwt1ZIsepCNDmSPKgSMc4G1QOw47nt6mNi8RSbh0Pqs8gswwvtaLvys/P0dRzj3ziv0S/4J0NLN4C1ZFmd41ljCt5OCvMmfmycjJPfjB45OfzuPyqST06npX6Wf8E+tDa1+EV3cyQGKe4vSskznDkqchcHkYDr07lq8zLlzVl5HzXD8XLHJromeNf8ABSqSB/iB4XTzI5blLCXfGFwyAspVt2OVOGwCTyrHA5NfGTAV9b/8FH/FFnqXxZ0rS4WMk2nWJWYc7VaQggDjngKepAOcYO6vkZmxWWLknVdjizeSlj6jXca3zU0AYNLupOtcSPLEwPWijA9aKoC6HOKtaTYXGsX0dlaQzXN1KdscMKguzHoAM9c1S6cV6B8CdU0/R/it4budXmhi0pL2Frgzj5QgkRi27qmAvLdhnPFTTjzTSMaMVOpGMtmz9ZPhF4PtPh38N9F0tT5a2lsZJt/y+W7Hc/OAcDcRk84Azmvy3/ab+JEfxR+NHiDW7fZ9k3pawGMn5kiUJuOehJBOPfv1P3z+0V8dNO8Pfs432saXfRtNrNn9ksWSVg2ZPlZkOMkqDn8M5r8sZJpJmMkrmR25LMcmvax1X3I0on2nEWKhGnTwlJ6JXFMlN3cEUzdSda8Js+EsTQyGNt4wexBAPHfrX2D8Ef28Ljwfpa2Xiy1m1JYYWRJbQDdK42hPMDNwMKQSoz83Q4Ar46U8U4NzXRRrTo6wO/CYytg589F2Z99eIv8AgpFYWt0X0rQ5b62jaPYsjmFpFKnzAw+bawIyCMjBA5yTXPXf/BSbVWguJLbwvbhyyCASTsFVQBu3AHkklscYUKBzuyvxKzDjvximq3TvXQ8dX3uenLPse/tn3Pa/8FKplv2Nz4T/ANH3Kyql0GJTZyMleu/oSeh+7kVG3/BSq8uLO5WXwr9nuGcrCIJt48sow3MxIIYNtOACCARkEjHw+OaQsc/4UvruIf2gWfY/rM734zfFzUvi74suNVug1vA20R2+7O3AwSe2Tz9AQuSFFcFS7s9aAa45VHJ3keHUqSqyc5u7Ym5twxnr3r9Gv+Cb90x+GWrRNITHHqchCttGCUTjrnOOx9T7Z/OY9Dzj3r9Dv+CburWLeAddttnlXsF4WLMx+eMgHI7ccZB6ZB43c9+X/wAdH0PDrtj437M8U/4KD3V5dfGSzkuIQLdNNSOF/J29JZc5YgE/NnAyR0IxnFfLTYLZ7YxX0d+3trema38ch/Zd1b3qQ2CxztBIZCk3my71bPRhwcDoCOK+cONpzWOLfNWkkcOaNPG1Wu5u+CPEL+FfFGm6pAsks1tOkgSJyjHB5APqQSPxr9j/AAr4h0n4j+CYLyBY7rT7uDYIXXcCpXG3DDDAjPsfzr8UB8ue9fWH7JP7SieD7yw0DWJZI4hI8UUwlRUCudxaXzCFOHAJO7dhsjG07uvA4hU70pdT08ix8cLUdKp8MjF+Ifwg1D9nX47pqtxpMl54ZNxJe6ddWkBMAcsxiiJGcEPtGDzyF6HdX0N8cv2svDWl/DWTS/D2oxSX4jVI47GXMbjZjar7PmQEqcjaGXoxzg+teLfH/gTx98OXstZuLeXTNQi8uSJXXlQeSu7sDz6gZJ54r8q/G2lxeHtfvNOtb9L7To5C9u8M3mRspGAw9DjjBAPHIHQbVpfVbqltI9LGy/stThhpK0/vRrfDT4lat8PfGFtqdveSxBpQ87xHczHIO8DOCwI4z16HgnP6j6H8aPCvxG8EqBcC1ubmGSCWJmKhJQuHUOducbh8wOOcAnnH5A7qtwaze2tukMNzJDGkvnKFYjD4Az+QxXFhsX9XTT1PEy7Np4BSpyXMpG3440N/D/xA1PSRAZVivGRIUUDchfKhVH3QRjAxxkcZr9ZP2efDqeHfhF4cs1Cs32be58wPubGDuYAZIIwe/FfkFHrE83iBdTuJRPeE7w8yl8yAfJkegIUAdBjpjiv1Y+H/AMevCsngG+utMurWa10XTllkltTkMVXbtIbDKwwh+YdGABODjtwEo3lPY9fh+pRhXqTemmh+en7XGtR69+0N4wuIgqxx3XkBVz/AoUnkA5ONx46t1IwT481a/irX5PFXiTUtYlJMl9cPOdwIJLHqRk4J64BIGayW615dZ805M+XxE/aVpS7sYwph+WlZuaTbxWSMhKKR229KKovQve9KsrKCF4J6mo9xpax1Rx7G3d+M9VvvDVloFxdSzaXZM7W1uzsVi3tuYKM4ALc49RmsXcT2pKUdKp33ZUpOWsmGT6UoozQWqCbC5o3U3dR1piaDp0pQ1NooCxJ5n0pVwepqKlzQFiU49abuxTN1ITSBEnmfSu8+Ffxj1f4TXN/Npkm5LwIs0BXIYLuwcnow3EDII+ZjjIWvPs+lKKuMnB80TSEpU5KUXZo1PEHiC88T6zd6lfzG4u7h98jsBjPsMAfpWaw5pF6U0sT2pXbd2Jtyd2OwPWnxzGBtyHDdjnpUWT6U0k5FCve4joH8a6vNo82mTXclxZyKqiOZ2cJgAZAJxkgAZIJ4GMYFYbNu+n1pm40isatylJ6l3k9WxwGKGpN1FRYQ0DDAjrWpYeJtR02zuLS2upIYpx+8CuVyPTg+uDjplVPUAjMpDitE+V6Fwk4u6YjEbie55POc0hfDdaGA9ajkAz1qRjS2GJpQ2abgbhzSbtpOKaLQsh5opjMc0VZRdpwptOWpOYWkbkYpaKAEz60dqDzQKVkId2FJuxRSGo5RC7qKTA9aUUWAKQmlprUWAN1L96m05auwC0jcKPXNLTWosOwu6k3UlFFkMXdRSbh6c0hNAC0hNG6kJoGLu9Tik3ejZpKRqRSXcdupC3NNooKsB5ppUGl3UDpQhjGjFMYYPFStUb9atFWI2ooaiqAv0h+8KKKg5x60jUUVHUBVpaKKFuR1CmtRRT6liU5aKKCRaa1FFCKQlOWiitGLqLTWoorPqV0EoooqhCjv9P8ACmtRRSASkooqRi0i9KKKDUWmtRRQAwd6XvRRV9ClsMPWmt2oopovoRtRRRQyD//Z)\n"
      ],
      "metadata": {
        "id": "ar4r1JHkjGYU"
      }
    },
    {
      "cell_type": "code",
      "source": [
        "Xmaria = [[0,0,1,1,0,0,39.90,1,0,0,0,1,0,1,0,0,0,0,1,1,1,0,0,1,0,1,0,0,0,0,1,0,0,1,0,0,0,1]]"
      ],
      "metadata": {
        "id": "kKzA6LWQihUl"
      },
      "execution_count": null,
      "outputs": []
    },
    {
      "cell_type": "code",
      "source": [
        "#ymaria = ?"
      ],
      "metadata": {
        "id": "t1lG80Or3v85"
      },
      "execution_count": null,
      "outputs": []
    },
    {
      "cell_type": "markdown",
      "source": [
        "**Balanceamento dos dados**"
      ],
      "metadata": {
        "id": "AW1TU8Ed41S5"
      }
    },
    {
      "cell_type": "code",
      "source": [
        "#Variável target está desbalanceada\n",
        "import seaborn as sns\n",
        "%matplotlib inline\n",
        "ax = sns.countplot(x='Churn', data=dados_final)"
      ],
      "metadata": {
        "colab": {
          "base_uri": "https://localhost:8080/",
          "height": 449
        },
        "id": "d6mcLjX73vyw",
        "outputId": "9da1cebd-ee06-498d-ac75-a4de6f64cd1f"
      },
      "execution_count": null,
      "outputs": [
        {
          "output_type": "display_data",
          "data": {
            "text/plain": [
              "<Figure size 640x480 with 1 Axes>"
            ],
            "image/png": "[encoded data removed]"
          },
          "metadata": {}
        }
      ]
    },
    {
      "cell_type": "code",
      "source": [
        "dados_final.Churn.value_counts()"
      ],
      "metadata": {
        "colab": {
          "base_uri": "https://localhost:8080/"
        },
        "id": "6FV4WSZ13voR",
        "outputId": "e1167586-0fb0-4716-f66a-a56e637d43af"
      },
      "execution_count": null,
      "outputs": [
        {
          "output_type": "execute_result",
          "data": {
            "text/plain": [
              "0    5174\n",
              "1    1869\n",
              "Name: Churn, dtype: int64"
            ]
          },
          "metadata": {},
          "execution_count": 15
        }
      ]
    },
    {
      "cell_type": "code",
      "source": [
        "#Biblioteca para balanceamento dos dados usando over_sampling\n",
        "from imblearn.over_sampling import SMOTE"
      ],
      "metadata": {
        "id": "54DbHQax6BbM"
      },
      "execution_count": null,
      "outputs": []
    },
    {
      "cell_type": "code",
      "source": [
        "#Dividindo os dados em caracteristicas e target\n",
        "X = dados_final.drop('Churn', axis= 1)\n",
        "y = dados_final['Churn']"
      ],
      "metadata": {
        "id": "pltaErUa6BWZ"
      },
      "execution_count": null,
      "outputs": []
    },
    {
      "cell_type": "code",
      "source": [
        "smt = SMOTE(random_state=123)\n",
        "X,y = smt.fit_resample(X,y)"
      ],
      "metadata": {
        "id": "RUN3iq8K6BRV"
      },
      "execution_count": null,
      "outputs": []
    },
    {
      "cell_type": "code",
      "source": [
        "#Junção dos dados balanceados\n",
        "dados_final = pd.concat([X, y], axis= 1)"
      ],
      "metadata": {
        "id": "KNKvQkPrC1us"
      },
      "execution_count": null,
      "outputs": []
    },
    {
      "cell_type": "code",
      "source": [
        "#Verificação 1 - Junção dos dados\n",
        "dados_final.head(2)"
      ],
      "metadata": {
        "colab": {
          "base_uri": "https://localhost:8080/",
          "height": 176
        },
        "id": "z5Fd8XxdEPM-",
        "outputId": "0b8db5e8-5ed5-4a29-d180-cc7aa15e97ba"
      },
      "execution_count": null,
      "outputs": [
        {
          "output_type": "execute_result",
          "data": {
            "text/plain": [
              "   Conjuge  Dependentes  TelefoneFixo  PagamentoOnline  Maior65Anos  \\\n",
              "0        1            0             0                1            0   \n",
              "1        0            0             1                0            0   \n",
              "\n",
              "   MesesDeContrato  ContaMensal  VariasLinhasTelefonicas_Nao  \\\n",
              "0                1        29.85                            0   \n",
              "1               34        56.95                            1   \n",
              "\n",
              "   VariasLinhasTelefonicas_SemServicoTelefonico  VariasLinhasTelefonicas_Sim  \\\n",
              "0                                             1                            0   \n",
              "1                                             0                            0   \n",
              "\n",
              "   ServicoDeInternet_DSL  ServicoDeInternet_FibraOptica  \\\n",
              "0                      1                              0   \n",
              "1                      1                              0   \n",
              "\n",
              "   ServicoDeInternet_Nao  SegurancaOnline_Nao  \\\n",
              "0                      0                    1   \n",
              "1                      0                    0   \n",
              "\n",
              "   SegurancaOnline_SemServicoDeInternet  SegurancaOnline_Sim  \\\n",
              "0                                     0                    0   \n",
              "1                                     0                    1   \n",
              "\n",
              "   BackupOnline_Nao  BackupOnline_SemServicoDeInternet  BackupOnline_Sim  \\\n",
              "0                 0                                  0                 1   \n",
              "1                 1                                  0                 0   \n",
              "\n",
              "   SeguroNoDispositivo_Nao  SeguroNoDispositivo_SemServicoDeInternet  \\\n",
              "0                        1                                         0   \n",
              "1                        0                                         0   \n",
              "\n",
              "   SeguroNoDispositivo_Sim  SuporteTecnico_Nao  \\\n",
              "0                        0                   1   \n",
              "1                        1                   1   \n",
              "\n",
              "   SuporteTecnico_SemServicoDeInternet  SuporteTecnico_Sim  TVaCabo_Nao  \\\n",
              "0                                    0                   0            1   \n",
              "1                                    0                   0            1   \n",
              "\n",
              "   TVaCabo_SemServicoDeInternet  TVaCabo_Sim  StreamingDeFilmes_Nao  \\\n",
              "0                             0            0                      1   \n",
              "1                             0            0                      1   \n",
              "\n",
              "   StreamingDeFilmes_SemServicoDeInternet  StreamingDeFilmes_Sim  \\\n",
              "0                                       0                      0   \n",
              "1                                       0                      0   \n",
              "\n",
              "   TipoDeContrato_DoisAnos  TipoDeContrato_Mensalmente  TipoDeContrato_UmAno  \\\n",
              "0                        0                           1                     0   \n",
              "1                        0                           0                     1   \n",
              "\n",
              "   FormaDePagamento_CartaoDeCredito  FormaDePagamento_ChequeDigital  \\\n",
              "0                                 0                               1   \n",
              "1                                 0                               0   \n",
              "\n",
              "   FormaDePagamento_ChequePapel  FormaDePagamento_DebitoEmConta  Churn  \n",
              "0                             0                               0      0  \n",
              "1                             1                               0      0  "
            ],
            "text/html": [
              "\n",
              "  <div id=\"df-da9a428d-25dc-437d-91a1-dbd01d23015c\">\n",
              "    <div class=\"colab-df-container\">\n",
              "      <div>\n",
              "<style scoped>\n",
              "    .dataframe tbody tr th:only-of-type {\n",
              "        vertical-align: middle;\n",
              "    }\n",
              "\n",
              "    .dataframe tbody tr th {\n",
              "        vertical-align: top;\n",
              "    }\n",
              "\n",
              "    .dataframe thead th {\n",
              "        text-align: right;\n",
              "    }\n",
              "</style>\n",
              "<table border=\"1\" class=\"dataframe\">\n",
              "  <thead>\n",
              "    <tr style=\"text-align: right;\">\n",
              "      <th></th>\n",
              "      <th>Conjuge</th>\n",
              "      <th>Dependentes</th>\n",
              "      <th>TelefoneFixo</th>\n",
              "      <th>PagamentoOnline</th>\n",
              "      <th>Maior65Anos</th>\n",
              "      <th>MesesDeContrato</th>\n",
              "      <th>ContaMensal</th>\n",
              "      <th>VariasLinhasTelefonicas_Nao</th>\n",
              "      <th>VariasLinhasTelefonicas_SemServicoTelefonico</th>\n",
              "      <th>VariasLinhasTelefonicas_Sim</th>\n",
              "      <th>ServicoDeInternet_DSL</th>\n",
              "      <th>ServicoDeInternet_FibraOptica</th>\n",
              "      <th>ServicoDeInternet_Nao</th>\n",
              "      <th>SegurancaOnline_Nao</th>\n",
              "      <th>SegurancaOnline_SemServicoDeInternet</th>\n",
              "      <th>SegurancaOnline_Sim</th>\n",
              "      <th>BackupOnline_Nao</th>\n",
              "      <th>BackupOnline_SemServicoDeInternet</th>\n",
              "      <th>BackupOnline_Sim</th>\n",
              "      <th>SeguroNoDispositivo_Nao</th>\n",
              "      <th>SeguroNoDispositivo_SemServicoDeInternet</th>\n",
              "      <th>SeguroNoDispositivo_Sim</th>\n",
              "      <th>SuporteTecnico_Nao</th>\n",
              "      <th>SuporteTecnico_SemServicoDeInternet</th>\n",
              "      <th>SuporteTecnico_Sim</th>\n",
              "      <th>TVaCabo_Nao</th>\n",
              "      <th>TVaCabo_SemServicoDeInternet</th>\n",
              "      <th>TVaCabo_Sim</th>\n",
              "      <th>StreamingDeFilmes_Nao</th>\n",
              "      <th>StreamingDeFilmes_SemServicoDeInternet</th>\n",
              "      <th>StreamingDeFilmes_Sim</th>\n",
              "      <th>TipoDeContrato_DoisAnos</th>\n",
              "      <th>TipoDeContrato_Mensalmente</th>\n",
              "      <th>TipoDeContrato_UmAno</th>\n",
              "      <th>FormaDePagamento_CartaoDeCredito</th>\n",
              "      <th>FormaDePagamento_ChequeDigital</th>\n",
              "      <th>FormaDePagamento_ChequePapel</th>\n",
              "      <th>FormaDePagamento_DebitoEmConta</th>\n",
              "      <th>Churn</th>\n",
              "    </tr>\n",
              "  </thead>\n",
              "  <tbody>\n",
              "    <tr>\n",
              "      <th>0</th>\n",
              "      <td>1</td>\n",
              "      <td>0</td>\n",
              "      <td>0</td>\n",
              "      <td>1</td>\n",
              "      <td>0</td>\n",
              "      <td>1</td>\n",
              "      <td>29.85</td>\n",
              "      <td>0</td>\n",
              "      <td>1</td>\n",
              "      <td>0</td>\n",
              "      <td>1</td>\n",
              "      <td>0</td>\n",
              "      <td>0</td>\n",
              "      <td>1</td>\n",
              "      <td>0</td>\n",
              "      <td>0</td>\n",
              "      <td>0</td>\n",
              "      <td>0</td>\n",
              "      <td>1</td>\n",
              "      <td>1</td>\n",
              "      <td>0</td>\n",
              "      <td>0</td>\n",
              "      <td>1</td>\n",
              "      <td>0</td>\n",
              "      <td>0</td>\n",
              "      <td>1</td>\n",
              "      <td>0</td>\n",
              "      <td>0</td>\n",
              "      <td>1</td>\n",
              "      <td>0</td>\n",
              "      <td>0</td>\n",
              "      <td>0</td>\n",
              "      <td>1</td>\n",
              "      <td>0</td>\n",
              "      <td>0</td>\n",
              "      <td>1</td>\n",
              "      <td>0</td>\n",
              "      <td>0</td>\n",
              "      <td>0</td>\n",
              "    </tr>\n",
              "    <tr>\n",
              "      <th>1</th>\n",
              "      <td>0</td>\n",
              "      <td>0</td>\n",
              "      <td>1</td>\n",
              "      <td>0</td>\n",
              "      <td>0</td>\n",
              "      <td>34</td>\n",
              "      <td>56.95</td>\n",
              "      <td>1</td>\n",
              "      <td>0</td>\n",
              "      <td>0</td>\n",
              "      <td>1</td>\n",
              "      <td>0</td>\n",
              "      <td>0</td>\n",
              "      <td>0</td>\n",
              "      <td>0</td>\n",
              "      <td>1</td>\n",
              "      <td>1</td>\n",
              "      <td>0</td>\n",
              "      <td>0</td>\n",
              "      <td>0</td>\n",
              "      <td>0</td>\n",
              "      <td>1</td>\n",
              "      <td>1</td>\n",
              "      <td>0</td>\n",
              "      <td>0</td>\n",
              "      <td>1</td>\n",
              "      <td>0</td>\n",
              "      <td>0</td>\n",
              "      <td>1</td>\n",
              "      <td>0</td>\n",
              "      <td>0</td>\n",
              "      <td>0</td>\n",
              "      <td>0</td>\n",
              "      <td>1</td>\n",
              "      <td>0</td>\n",
              "      <td>0</td>\n",
              "      <td>1</td>\n",
              "      <td>0</td>\n",
              "      <td>0</td>\n",
              "    </tr>\n",
              "  </tbody>\n",
              "</table>\n",
              "</div>\n",
              "      <button class=\"colab-df-convert\" onclick=\"convertToInteractive('df-da9a428d-25dc-437d-91a1-dbd01d23015c')\"\n",
              "              title=\"Convert this dataframe to an interactive table.\"\n",
              "              style=\"display:none;\">\n",
              "        \n",
              "  <svg xmlns=\"http://www.w3.org/2000/svg\" height=\"24px\"viewBox=\"0 0 24 24\"\n",
              "       width=\"24px\">\n",
              "    <path d=\"M0 0h24v24H0V0z\" fill=\"none\"/>\n",
              "    <path d=\"M18.56 5.44l.94 2.06.94-2.06 2.06-.94-2.06-.94-.94-2.06-.94 2.06-2.06.94zm-11 1L8.5 8.5l.94-2.06 2.06-.94-2.06-.94L8.5 2.5l-.94 2.06-2.06.94zm10 10l.94 2.06.94-2.06 2.06-.94-2.06-.94-.94-2.06-.94 2.06-2.06.94z\"/><path d=\"M17.41 7.96l-1.37-1.37c-.4-.4-.92-.59-1.43-.59-.52 0-1.04.2-1.43.59L10.3 9.45l-7.72 7.72c-.78.78-.78 2.05 0 2.83L4 21.41c.39.39.9.59 1.41.59.51 0 1.02-.2 1.41-.59l7.78-7.78 2.81-2.81c.8-.78.8-2.07 0-2.86zM5.41 20L4 18.59l7.72-7.72 1.47 1.35L5.41 20z\"/>\n",
              "  </svg>\n",
              "      </button>\n",
              "      \n",
              "  <style>\n",
              "    .colab-df-container {\n",
              "      display:flex;\n",
              "      flex-wrap:wrap;\n",
              "      gap: 12px;\n",
              "    }\n",
              "\n",
              "    .colab-df-convert {\n",
              "      background-color: #E8F0FE;\n",
              "      border: none;\n",
              "      border-radius: 50%;\n",
              "      cursor: pointer;\n",
              "      display: none;\n",
              "      fill: #1967D2;\n",
              "      height: 32px;\n",
              "      padding: 0 0 0 0;\n",
              "      width: 32px;\n",
              "    }\n",
              "\n",
              "    .colab-df-convert:hover {\n",
              "      background-color: #E2EBFA;\n",
              "      box-shadow: 0px 1px 2px rgba(60, 64, 67, 0.3), 0px 1px 3px 1px rgba(60, 64, 67, 0.15);\n",
              "      fill: #174EA6;\n",
              "    }\n",
              "\n",
              "    [theme=dark] .colab-df-convert {\n",
              "      background-color: #3B4455;\n",
              "      fill: #D2E3FC;\n",
              "    }\n",
              "\n",
              "    [theme=dark] .colab-df-convert:hover {\n",
              "      background-color: #434B5C;\n",
              "      box-shadow: 0px 1px 3px 1px rgba(0, 0, 0, 0.15);\n",
              "      filter: drop-shadow(0px 1px 2px rgba(0, 0, 0, 0.3));\n",
              "      fill: #FFFFFF;\n",
              "    }\n",
              "  </style>\n",
              "\n",
              "      <script>\n",
              "        const buttonEl =\n",
              "          document.querySelector('#df-da9a428d-25dc-437d-91a1-dbd01d23015c button.colab-df-convert');\n",
              "        buttonEl.style.display =\n",
              "          google.colab.kernel.accessAllowed ? 'block' : 'none';\n",
              "\n",
              "        async function convertToInteractive(key) {\n",
              "          const element = document.querySelector('#df-da9a428d-25dc-437d-91a1-dbd01d23015c');\n",
              "          const dataTable =\n",
              "            await google.colab.kernel.invokeFunction('convertToInteractive',\n",
              "                                                     [key], {});\n",
              "          if (!dataTable) return;\n",
              "\n",
              "          const docLinkHtml = 'Like what you see? Visit the ' +\n",
              "            '<a target=\"_blank\" href=https://colab.research.google.com/notebooks/data_table.ipynb>data table notebook</a>'\n",
              "            + ' to learn more about interactive tables.';\n",
              "          element.innerHTML = '';\n",
              "          dataTable['output_type'] = 'display_data';\n",
              "          await google.colab.output.renderOutput(dataTable, element);\n",
              "          const docLink = document.createElement('div');\n",
              "          docLink.innerHTML = docLinkHtml;\n",
              "          element.appendChild(docLink);\n",
              "        }\n",
              "      </script>\n",
              "    </div>\n",
              "  </div>\n",
              "  "
            ]
          },
          "metadata": {},
          "execution_count": 20
        }
      ]
    },
    {
      "cell_type": "code",
      "source": [
        "#Vericação 2 - balanceamento\n",
        "ax = sns.countplot(x='Churn', data=dados_final)"
      ],
      "metadata": {
        "colab": {
          "base_uri": "https://localhost:8080/",
          "height": 449
        },
        "id": "_woWdYlfEPAp",
        "outputId": "6074e19f-f532-4ecc-b3fa-af1397003754"
      },
      "execution_count": null,
      "outputs": [
        {
          "output_type": "display_data",
          "data": {
            "text/plain": [
              "<Figure size 640x480 with 1 Axes>"
            ],
            "image/png": "[encoded data removed]"
          },
          "metadata": {}
        }
      ]
    },
    {
      "cell_type": "code",
      "source": [
        "dados_final.Churn.value_counts()"
      ],
      "metadata": {
        "colab": {
          "base_uri": "https://localhost:8080/"
        },
        "id": "nmNsz7beExlj",
        "outputId": "be51ad3c-4863-4922-cccd-fa89a8e08386"
      },
      "execution_count": null,
      "outputs": [
        {
          "output_type": "execute_result",
          "data": {
            "text/plain": [
              "0    5174\n",
              "1    5174\n",
              "Name: Churn, dtype: int64"
            ]
          },
          "metadata": {},
          "execution_count": 22
        }
      ]
    },
    {
      "cell_type": "markdown",
      "source": [
        "# **Metódos baseado na proximidade**\n",
        "<br/>\n",
        "Modelo K-nearest neighbours(KNN)\n",
        "<br/>\n",
        "KNN por trás dos panos"
      ],
      "metadata": {
        "id": "B0CvgxyvE93F"
      }
    },
    {
      "cell_type": "code",
      "source": [
        "Xmaria"
      ],
      "metadata": {
        "colab": {
          "base_uri": "https://localhost:8080/"
        },
        "id": "NK1GBcKrF_H8",
        "outputId": "ba846e2f-184b-4b7e-c7ea-4be1f55bfe57"
      },
      "execution_count": null,
      "outputs": [
        {
          "output_type": "execute_result",
          "data": {
            "text/plain": [
              "[[0,\n",
              "  0,\n",
              "  1,\n",
              "  1,\n",
              "  0,\n",
              "  0,\n",
              "  39.9,\n",
              "  1,\n",
              "  0,\n",
              "  0,\n",
              "  0,\n",
              "  1,\n",
              "  0,\n",
              "  1,\n",
              "  0,\n",
              "  0,\n",
              "  0,\n",
              "  0,\n",
              "  1,\n",
              "  1,\n",
              "  1,\n",
              "  0,\n",
              "  0,\n",
              "  1,\n",
              "  0,\n",
              "  1,\n",
              "  0,\n",
              "  0,\n",
              "  0,\n",
              "  0,\n",
              "  1,\n",
              "  0,\n",
              "  0,\n",
              "  1,\n",
              "  0,\n",
              "  0,\n",
              "  0,\n",
              "  1]]"
            ]
          },
          "metadata": {},
          "execution_count": 23
        }
      ]
    },
    {
      "cell_type": "code",
      "source": [
        "#ymaria = ?"
      ],
      "metadata": {
        "id": "S_MXBl6gGEmq"
      },
      "execution_count": null,
      "outputs": []
    },
    {
      "cell_type": "code",
      "source": [
        "#Divisão em inputs e outputs\n",
        "X = dados_final.drop('Churn', axis = 1)\n",
        "y = dados_final['Churn']"
      ],
      "metadata": {
        "id": "En3YuPIDzeXR"
      },
      "execution_count": null,
      "outputs": []
    },
    {
      "cell_type": "code",
      "source": [
        "#biblioteca para padronizar os dados\n",
        "from sklearn.preprocessing import StandardScaler"
      ],
      "metadata": {
        "id": "EatTmwgrzx_x"
      },
      "execution_count": null,
      "outputs": []
    },
    {
      "cell_type": "code",
      "source": [
        "norm = StandardScaler()\n",
        "\n",
        "X_normalizado = norm.fit_transform(X)\n",
        "X_normalizado"
      ],
      "metadata": {
        "colab": {
          "base_uri": "https://localhost:8080/"
        },
        "id": "kYHihGSw0E3R",
        "outputId": "58ec63bb-bbca-4449-ca0a-8a74de403cd9"
      },
      "execution_count": null,
      "outputs": [
        {
          "output_type": "execute_result",
          "data": {
            "text/plain": [
              "array([[ 1.26542767, -0.52771004, -3.06083934, ...,  1.30373042,\n",
              "        -0.47912706, -0.4360152 ],\n",
              "       [-0.79024667, -0.52771004,  0.32670777, ..., -0.76702973,\n",
              "         2.08712905, -0.4360152 ],\n",
              "       [-0.79024667, -0.52771004,  0.32670777, ..., -0.76702973,\n",
              "         2.08712905, -0.4360152 ],\n",
              "       ...,\n",
              "       [-0.79024667, -0.52771004,  0.32670777, ...,  1.30373042,\n",
              "        -0.47912706, -0.4360152 ],\n",
              "       [-0.79024667, -0.52771004,  0.32670777, ..., -0.76702973,\n",
              "        -0.47912706, -0.4360152 ],\n",
              "       [-0.79024667, -0.52771004,  0.32670777, ..., -0.76702973,\n",
              "        -0.47912706, -0.4360152 ]])"
            ]
          },
          "metadata": {},
          "execution_count": 27
        }
      ]
    },
    {
      "cell_type": "code",
      "source": [
        "X_normalizado[0]"
      ],
      "metadata": {
        "colab": {
          "base_uri": "https://localhost:8080/"
        },
        "id": "LP5d-wyp0lxY",
        "outputId": "2108eda8-b796-46cb-a7d4-102e10e60226"
      },
      "execution_count": null,
      "outputs": [
        {
          "output_type": "execute_result",
          "data": {
            "text/plain": [
              "array([ 1.26542767, -0.52771004, -3.06083934,  0.81482091, -0.41318358,\n",
              "       -1.10771815, -1.3217706 , -0.88447396,  3.18604176, -0.83366906,\n",
              "        1.51268338, -1.04386816, -0.44617598,  0.86827317, -0.44617598,\n",
              "       -0.51721942, -0.95834643, -0.44617598,  1.57389661,  1.04285807,\n",
              "       -0.44617598, -0.64211419,  0.87979784, -0.44617598, -0.52426638,\n",
              "        1.18690873, -0.44617598, -0.77707385,  1.20311799, -0.44617598,\n",
              "       -0.78976268, -0.44648735,  0.73788726, -0.41989297, -0.42576817,\n",
              "        1.30373042, -0.47912706, -0.4360152 ])"
            ]
          },
          "metadata": {},
          "execution_count": 28
        }
      ]
    },
    {
      "cell_type": "code",
      "source": [
        "Xmaria_normalizado = norm.transform(pd.DataFrame(Xmaria, columns = X.columns))\n",
        "Xmaria_normalizado"
      ],
      "metadata": {
        "colab": {
          "base_uri": "https://localhost:8080/"
        },
        "id": "2SyFB5rq3DFp",
        "outputId": "7c8f86e9-a926-4ecc-be16-0b445cfa9f9d"
      },
      "execution_count": null,
      "outputs": [
        {
          "output_type": "execute_result",
          "data": {
            "text/plain": [
              "array([[-0.79024667, -0.52771004,  0.32670777,  0.81482091, -0.41318358,\n",
              "        -1.14938255, -0.97236043,  1.13061554, -0.31386908, -0.83366906,\n",
              "        -0.66107688,  0.95797538, -0.44617598,  0.86827317, -0.44617598,\n",
              "        -0.51721942, -0.95834643, -0.44617598,  1.57389661,  1.04285807,\n",
              "         2.24126814, -0.64211419, -1.13662476,  2.24126814, -0.52426638,\n",
              "         1.18690873, -0.44617598, -0.77707385, -0.83117367, -0.44617598,\n",
              "         1.26620316, -0.44648735, -1.35522058,  2.38155929, -0.42576817,\n",
              "        -0.76702973, -0.47912706,  2.293498  ]])"
            ]
          },
          "metadata": {},
          "execution_count": 29
        }
      ]
    },
    {
      "cell_type": "markdown",
      "source": [
        "Distância Euclidiana:<br/> <center>\n",
        "![DE.jpg](data:image/jpeg;base64,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)"
      ],
      "metadata": {
        "id": "zCxsv3goTeCt"
      }
    },
    {
      "cell_type": "code",
      "source": [
        "import numpy as np"
      ],
      "metadata": {
        "id": "jvZ-z2KmP0gg"
      },
      "execution_count": null,
      "outputs": []
    },
    {
      "cell_type": "code",
      "source": [
        "a = Xmaria_normalizado"
      ],
      "metadata": {
        "id": "iMQFdnj2UadA"
      },
      "execution_count": null,
      "outputs": []
    },
    {
      "cell_type": "code",
      "source": [
        "b = X_normalizado[0]"
      ],
      "metadata": {
        "id": "aun2WG8lUhjI"
      },
      "execution_count": null,
      "outputs": []
    },
    {
      "cell_type": "code",
      "source": [
        "#Etapa 1 - Começamos subtraindo\n",
        "a -b"
      ],
      "metadata": {
        "colab": {
          "base_uri": "https://localhost:8080/"
        },
        "id": "HtShGGY9Uk9g",
        "outputId": "05f27440-d5ad-4ad2-e33e-105e5a02b218"
      },
      "execution_count": null,
      "outputs": [
        {
          "output_type": "execute_result",
          "data": {
            "text/plain": [
              "array([[-2.05567434,  0.        ,  3.38754711,  0.        ,  0.        ,\n",
              "        -0.0416644 ,  0.34941017,  2.0150895 , -3.49991084,  0.        ,\n",
              "        -2.17376025,  2.00184354,  0.        ,  0.        ,  0.        ,\n",
              "         0.        ,  0.        ,  0.        ,  0.        ,  0.        ,\n",
              "         2.68744412,  0.        , -2.01642259,  2.68744412,  0.        ,\n",
              "         0.        ,  0.        ,  0.        , -2.03429166,  0.        ,\n",
              "         2.05596584,  0.        , -2.09310784,  2.80145225,  0.        ,\n",
              "        -2.07076016,  0.        ,  2.72951321]])"
            ]
          },
          "metadata": {},
          "execution_count": 33
        }
      ]
    },
    {
      "cell_type": "code",
      "source": [
        "#Etapa 2 - Realizamos a exponenciação\n",
        "np.square(a-b)"
      ],
      "metadata": {
        "colab": {
          "base_uri": "https://localhost:8080/"
        },
        "id": "W-BvKDzgUt7n",
        "outputId": "4078510d-5bb1-40bc-8a98-ebdd645db71d"
      },
      "execution_count": null,
      "outputs": [
        {
          "output_type": "execute_result",
          "data": {
            "text/plain": [
              "array([[4.22579699e+00, 0.00000000e+00, 1.14754754e+01, 0.00000000e+00,\n",
              "        0.00000000e+00, 1.73592202e-03, 1.22087466e-01, 4.06058568e+00,\n",
              "        1.22493759e+01, 0.00000000e+00, 4.72523363e+00, 4.00737757e+00,\n",
              "        0.00000000e+00, 0.00000000e+00, 0.00000000e+00, 0.00000000e+00,\n",
              "        0.00000000e+00, 0.00000000e+00, 0.00000000e+00, 0.00000000e+00,\n",
              "        7.22235589e+00, 0.00000000e+00, 4.06596007e+00, 7.22235589e+00,\n",
              "        0.00000000e+00, 0.00000000e+00, 0.00000000e+00, 0.00000000e+00,\n",
              "        4.13834258e+00, 0.00000000e+00, 4.22699553e+00, 0.00000000e+00,\n",
              "        4.38110042e+00, 7.84813473e+00, 0.00000000e+00, 4.28804763e+00,\n",
              "        0.00000000e+00, 7.45024235e+00]])"
            ]
          },
          "metadata": {},
          "execution_count": 34
        }
      ]
    },
    {
      "cell_type": "code",
      "source": [
        "#Etapa 3 - Realizamos a soma\n",
        "np.sum(np.square(a-b))"
      ],
      "metadata": {
        "colab": {
          "base_uri": "https://localhost:8080/"
        },
        "id": "huD6IdhxU4vX",
        "outputId": "fa63a6b8-03e3-4dc2-99d1-a70ee4ac41df"
      },
      "execution_count": null,
      "outputs": [
        {
          "output_type": "execute_result",
          "data": {
            "text/plain": [
              "91.7112036526817"
            ]
          },
          "metadata": {},
          "execution_count": 35
        }
      ]
    },
    {
      "cell_type": "code",
      "source": [
        "#Etapa 4 - Tiramos a raiz e temos a distância\n",
        "np.sqrt(91.7112036526817)"
      ],
      "metadata": {
        "colab": {
          "base_uri": "https://localhost:8080/"
        },
        "id": "SxN6vXJeVKM4",
        "outputId": "a25610ef-6e99-486e-e824-fd47cb990fb2"
      },
      "execution_count": null,
      "outputs": [
        {
          "output_type": "execute_result",
          "data": {
            "text/plain": [
              "9.576596663360199"
            ]
          },
          "metadata": {},
          "execution_count": 36
        }
      ]
    },
    {
      "cell_type": "code",
      "source": [],
      "metadata": {
        "id": "IjVh2_0YVoF_"
      },
      "execution_count": null,
      "outputs": []
    },
    {
      "cell_type": "markdown",
      "source": [
        "# Implementando o modelo"
      ],
      "metadata": {
        "id": "nGF0tj07ahHg"
      }
    },
    {
      "cell_type": "code",
      "source": [
        "#Importando biblioteca para a divisão dos dados\n",
        "from sklearn.model_selection import train_test_split"
      ],
      "metadata": {
        "id": "WZGZtmohakvj"
      },
      "execution_count": null,
      "outputs": []
    },
    {
      "cell_type": "code",
      "source": [
        "X_treino, X_teste, y_treino, y_teste = train_test_split(X_normalizado, y, test_size=0.3, random_state=123)"
      ],
      "metadata": {
        "id": "Y-YlIgwTb99q"
      },
      "execution_count": null,
      "outputs": []
    },
    {
      "cell_type": "markdown",
      "source": [
        "#**Modelo KNN** "
      ],
      "metadata": {
        "id": "zoA8NQHLcZuR"
      }
    },
    {
      "cell_type": "code",
      "source": [
        "#Biblioteca para criarmos o modelo de machine learning\n",
        "from sklearn.neighbors import KNeighborsClassifier"
      ],
      "metadata": {
        "id": "ZaqQxYgbcUfo"
      },
      "execution_count": null,
      "outputs": []
    },
    {
      "cell_type": "code",
      "source": [
        "#Instanciar o modelo (criamos o modelo) - por padrão são 5 vizinhos\n",
        "knn = KNeighborsClassifier(metric='euclidean')"
      ],
      "metadata": {
        "id": "ldMzv2RAcxvR"
      },
      "execution_count": null,
      "outputs": []
    },
    {
      "cell_type": "code",
      "source": [
        "#Treinando o modelo com os dados de treino\n",
        "knn.fit(X_treino, y_treino)"
      ],
      "metadata": {
        "id": "J7EDxPdhd_La"
      },
      "execution_count": null,
      "outputs": []
    },
    {
      "cell_type": "code",
      "source": [
        "#Testando o modelo com os dados de teste\n",
        "predito_knn = knn.predict(X_teste)"
      ],
      "metadata": {
        "id": "7wGhyBKleNPB"
      },
      "execution_count": null,
      "outputs": []
    },
    {
      "cell_type": "code",
      "source": [
        "predito_knn"
      ],
      "metadata": {
        "colab": {
          "base_uri": "https://localhost:8080/"
        },
        "id": "8hScOXjiedTY",
        "outputId": "29d980f8-1a9b-4ed0-d9bc-616c8f27200e"
      },
      "execution_count": null,
      "outputs": [
        {
          "output_type": "execute_result",
          "data": {
            "text/plain": [
              "array([1, 0, 0, ..., 0, 1, 1])"
            ]
          },
          "metadata": {},
          "execution_count": 43
        }
      ]
    },
    {
      "cell_type": "markdown",
      "source": [
        "# Treinamento e teste"
      ],
      "metadata": {
        "id": "BIxtxwRjppsE"
      }
    },
    {
      "cell_type": "code",
      "source": [
        "X_treino"
      ],
      "metadata": {
        "colab": {
          "base_uri": "https://localhost:8080/"
        },
        "id": "CgzfYQq5efxZ",
        "outputId": "5eeeb1fb-d128-460a-c878-bcb189f8fb3b"
      },
      "execution_count": null,
      "outputs": [
        {
          "output_type": "execute_result",
          "data": {
            "text/plain": [
              "array([[-0.79024667, -0.52771004, -3.06083934, ..., -0.76702973,\n",
              "         2.08712905, -0.4360152 ],\n",
              "       [ 1.26542767,  1.89498006,  0.32670777, ..., -0.76702973,\n",
              "         2.08712905, -0.4360152 ],\n",
              "       [-0.79024667, -0.52771004,  0.32670777, ...,  1.30373042,\n",
              "        -0.47912706, -0.4360152 ],\n",
              "       ...,\n",
              "       [ 1.26542767,  1.89498006,  0.32670777, ..., -0.76702973,\n",
              "         2.08712905, -0.4360152 ],\n",
              "       [ 1.26542767,  1.89498006,  0.32670777, ...,  1.30373042,\n",
              "        -0.47912706, -0.4360152 ],\n",
              "       [-0.79024667, -0.52771004,  0.32670777, ...,  1.30373042,\n",
              "        -0.47912706, -0.4360152 ]])"
            ]
          },
          "metadata": {},
          "execution_count": 44
        }
      ]
    },
    {
      "cell_type": "code",
      "source": [
        "y_treino"
      ],
      "metadata": {
        "colab": {
          "base_uri": "https://localhost:8080/"
        },
        "id": "uDbverSGpzRU",
        "outputId": "5d462414-ab8b-4d47-e921-6cbdbcb4c815"
      },
      "execution_count": null,
      "outputs": [
        {
          "output_type": "execute_result",
          "data": {
            "text/plain": [
              "4831    0\n",
              "5077    0\n",
              "9023    1\n",
              "4424    1\n",
              "5236    0\n",
              "       ..\n",
              "9785    1\n",
              "7763    1\n",
              "5218    0\n",
              "1346    1\n",
              "3582    0\n",
              "Name: Churn, Length: 7243, dtype: int64"
            ]
          },
          "metadata": {},
          "execution_count": 45
        }
      ]
    },
    {
      "cell_type": "markdown",
      "source": [
        "# **Modelo Bernoulli Naive Bayes**"
      ],
      "metadata": {
        "id": "ASsKaYUyB1cO"
      }
    },
    {
      "cell_type": "code",
      "source": [
        "#Biblioteca para criarmos o modelo de machine learning\n",
        "from sklearn.naive_bayes import BernoulliNB"
      ],
      "metadata": {
        "id": "NfAbhfWYqUAc"
      },
      "execution_count": null,
      "outputs": []
    },
    {
      "cell_type": "code",
      "source": [
        "#Utilizo a mediana, porque é o valor central dos nossos dados\n",
        "np.median(X_treino)"
      ],
      "metadata": {
        "colab": {
          "base_uri": "https://localhost:8080/"
        },
        "id": "_muJFeQMp2Kj",
        "outputId": "85c0cf80-d3bb-47bc-e0f9-2e002af18cc3"
      },
      "execution_count": null,
      "outputs": [
        {
          "output_type": "execute_result",
          "data": {
            "text/plain": [
              "-0.4461759755508453"
            ]
          },
          "metadata": {},
          "execution_count": 47
        }
      ]
    },
    {
      "cell_type": "code",
      "source": [
        "#Criamos o modelo\n",
        "bnb = BernoulliNB(binarize= -0.44 * -1) "
      ],
      "metadata": {
        "id": "Vw0jl27qqpYr"
      },
      "execution_count": null,
      "outputs": []
    },
    {
      "cell_type": "code",
      "source": [
        "bnb.fit(X_treino, y_treino) "
      ],
      "metadata": {
        "id": "qfGzlnp7rBeD"
      },
      "execution_count": null,
      "outputs": []
    },
    {
      "cell_type": "code",
      "source": [
        "predito_BNB = bnb.predict(X_teste)"
      ],
      "metadata": {
        "id": "IBKwwehNrdHr"
      },
      "execution_count": null,
      "outputs": []
    },
    {
      "cell_type": "code",
      "source": [
        "predito_BNB"
      ],
      "metadata": {
        "colab": {
          "base_uri": "https://localhost:8080/"
        },
        "id": "U4svWIX5zQid",
        "outputId": "e3cd6337-85fa-4324-86ab-eaa751afd848"
      },
      "execution_count": null,
      "outputs": [
        {
          "output_type": "execute_result",
          "data": {
            "text/plain": [
              "array([1, 0, 0, ..., 1, 1, 1])"
            ]
          },
          "metadata": {},
          "execution_count": 51
        }
      ]
    },
    {
      "cell_type": "markdown",
      "source": [
        "# **Árvore de Decisão**<br>A árvore de decisão é um algoritmo de aprendizado supervisionado em que um modelo é criado a partir de um conjunto de dados de treinamento. O objetivo da árvore de decisão é criar um modelo que possa prever a classe de uma instância desconhecida a partir de um conjunto de atributos conhecidos.<br/>\n",
        "<center>\n",
        "\n",
        "![DT.jpg](data:image/jpeg;base64,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)\n",
        "<br/>\n",
        "# Implementando o Modelo"
      ],
      "metadata": {
        "id": "jq02TNg4-pqx"
      }
    },
    {
      "cell_type": "code",
      "source": [
        "#Biblioteca para criação do modelo de machine learning\n",
        "from sklearn.tree import DecisionTreeClassifier"
      ],
      "metadata": {
        "id": "xAPbcMzUzTPe"
      },
      "execution_count": null,
      "outputs": []
    },
    {
      "cell_type": "code",
      "source": [
        "#Instanciando o modelo\n",
        "dtc = DecisionTreeClassifier(criterion='entropy', random_state=42)"
      ],
      "metadata": {
        "id": "_xpGFV_C_VgZ"
      },
      "execution_count": null,
      "outputs": []
    },
    {
      "cell_type": "code",
      "source": [
        "#Treinar o modelo\n",
        "dtc.fit(X_treino, y_treino)"
      ],
      "metadata": {
        "id": "p8qSRIti_re_"
      },
      "execution_count": null,
      "outputs": []
    },
    {
      "cell_type": "code",
      "source": [
        "#Verificar a importância de cada atributo\n",
        "dtc.feature_importances_"
      ],
      "metadata": {
        "colab": {
          "base_uri": "https://localhost:8080/"
        },
        "id": "0xHodf9V_1wg",
        "outputId": "260500fe-f2ad-42aa-f4c5-8cf127e3eb6f"
      },
      "execution_count": null,
      "outputs": [
        {
          "output_type": "execute_result",
          "data": {
            "text/plain": [
              "array([0.02100894, 0.01395648, 0.0068095 , 0.01986065, 0.01886452,\n",
              "       0.1627932 , 0.22212421, 0.00939177, 0.00344576, 0.01039829,\n",
              "       0.0019815 , 0.03128648, 0.00065123, 0.00849934, 0.        ,\n",
              "       0.01698366, 0.00622973, 0.        , 0.00964718, 0.01267467,\n",
              "       0.00027769, 0.00770208, 0.01299062, 0.00368329, 0.02047256,\n",
              "       0.00371587, 0.        , 0.00156955, 0.00671244, 0.0003825 ,\n",
              "       0.01126638, 0.03622159, 0.16358635, 0.07445054, 0.01758995,\n",
              "       0.02117825, 0.02183557, 0.01975766])"
            ]
          },
          "metadata": {},
          "execution_count": 55
        }
      ]
    },
    {
      "cell_type": "code",
      "source": [
        "predito_ArvoreDecisao = dtc.predict(X_teste)"
      ],
      "metadata": {
        "id": "cCoImjkhAv7f"
      },
      "execution_count": null,
      "outputs": []
    },
    {
      "cell_type": "code",
      "source": [
        "predito_ArvoreDecisao"
      ],
      "metadata": {
        "colab": {
          "base_uri": "https://localhost:8080/"
        },
        "id": "exHDBbsQBKoK",
        "outputId": "4f13c44d-b91b-48a5-ccb8-b04f9ab7fa47"
      },
      "execution_count": null,
      "outputs": [
        {
          "output_type": "execute_result",
          "data": {
            "text/plain": [
              "array([0, 0, 0, ..., 1, 1, 1])"
            ]
          },
          "metadata": {},
          "execution_count": 57
        }
      ]
    },
    {
      "cell_type": "markdown",
      "source": [
        "# **Matriz de Confusão**\n",
        "A matriz de confusão é uma tabela que permite visualizar o desempenho de um modelo de classificação em relação às classes presentes nos dados de teste. É uma ferramenta comum para avaliar a qualidade de modelos de aprendizado de máquina.\n",
        "\n",
        "A matriz de confusão é construída a partir das previsões feitas pelo modelo em um conjunto de dados de teste, comparando-as com as classes reais dos dados. A tabela mostra o número de previsões corretas e incorretas para cada classe, dividindo as previsões em quatro categorias:\n",
        "\n",
        "**Verdadeiro Positivo(VP)** : quando o modelo classifica corretamente uma instância como pertencente a uma classe positiva.<br/>\n",
        "**Falso Positivo (FP)**: quando o modelo classifica incorretamente uma instância como pertencente a uma classe positiva.<br/>\n",
        "**Falso Negativo (FN)**: quando o modelo classifica incorretamente uma instância como pertencente a uma classe negativa.<br/>\n",
        "**Verdadeiro Negativo (VN)**: quando o modelo classifica corretamente uma instância como pertencente a uma classe negativa.\n",
        "<br/><center>\n",
        "![MF.jpg](data:image/jpeg;base64,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)\n"
      ],
      "metadata": {
        "id": "bj8MShwABmlP"
      }
    },
    {
      "cell_type": "code",
      "source": [
        "#Importando a biblioteca matriz de confusão\n",
        "from sklearn.metrics import confusion_matrix"
      ],
      "metadata": {
        "id": "bfl_G1H6BNDj"
      },
      "execution_count": null,
      "outputs": []
    },
    {
      "cell_type": "code",
      "source": [
        "print(confusion_matrix(y_teste, predito_knn))"
      ],
      "metadata": {
        "colab": {
          "base_uri": "https://localhost:8080/"
        },
        "id": "P-UK3WY0E0cc",
        "outputId": "5c9521be-dabd-4863-d24d-99810e57d3bf"
      },
      "execution_count": null,
      "outputs": [
        {
          "output_type": "stream",
          "name": "stdout",
          "text": [
            "[[1242  327]\n",
            " [ 248 1288]]\n"
          ]
        }
      ]
    },
    {
      "cell_type": "code",
      "source": [
        "print(confusion_matrix(y_teste, predito_BNB))"
      ],
      "metadata": {
        "colab": {
          "base_uri": "https://localhost:8080/"
        },
        "id": "L5eWU_0eE_zp",
        "outputId": "18513c52-ab83-4f86-c903-0264916b777f"
      },
      "execution_count": null,
      "outputs": [
        {
          "output_type": "stream",
          "name": "stdout",
          "text": [
            "[[1084  485]\n",
            " [ 238 1298]]\n"
          ]
        }
      ]
    },
    {
      "cell_type": "code",
      "source": [
        "print(confusion_matrix(y_teste, predito_ArvoreDecisao))"
      ],
      "metadata": {
        "colab": {
          "base_uri": "https://localhost:8080/"
        },
        "id": "Jxsz29IWFKP4",
        "outputId": "ee99471e-9f77-4f7d-9b8a-298659c86afa"
      },
      "execution_count": null,
      "outputs": [
        {
          "output_type": "stream",
          "name": "stdout",
          "text": [
            "[[1250  319]\n",
            " [ 275 1261]]\n"
          ]
        }
      ]
    },
    {
      "cell_type": "markdown",
      "source": [
        "# **Tipos de métricas**<br/><br/>\n",
        "#**Acurácia** <br/>A acurácia é uma métrica comum de avaliação de modelos de aprendizado de máquina, que mede a proporção de previsões corretas em relação ao número total de previsões feitas pelo modelo. Em outras palavras, é a medida de quão bem o modelo está fazendo previsões corretas.<center>\n",
        "![acuracia.jpg](data:image/jpeg;base64,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)"
      ],
      "metadata": {
        "id": "uQsN3w1bHHAJ"
      }
    },
    {
      "cell_type": "code",
      "source": [
        "#Importando a biblioteca para cálculo da acurácia\n",
        "from sklearn.metrics import accuracy_score"
      ],
      "metadata": {
        "id": "cmC05VlBFX1R"
      },
      "execution_count": null,
      "outputs": []
    },
    {
      "cell_type": "code",
      "source": [
        "#Modelo KNN\n",
        "print(accuracy_score(y_teste, predito_knn))"
      ],
      "metadata": {
        "colab": {
          "base_uri": "https://localhost:8080/"
        },
        "id": "omS2-_wlI730",
        "outputId": "acd77807-947c-4e49-d891-e487fae24128"
      },
      "execution_count": null,
      "outputs": [
        {
          "output_type": "stream",
          "name": "stdout",
          "text": [
            "0.8148148148148148\n"
          ]
        }
      ]
    },
    {
      "cell_type": "code",
      "source": [
        "#Modelo Bernoulli de Naive Bayes\n",
        "print(accuracy_score(y_teste, predito_BNB))"
      ],
      "metadata": {
        "colab": {
          "base_uri": "https://localhost:8080/"
        },
        "id": "7KtQRQVDJPqz",
        "outputId": "3da79769-1881-49a6-dd54-7a94b88ebc8b"
      },
      "execution_count": null,
      "outputs": [
        {
          "output_type": "stream",
          "name": "stdout",
          "text": [
            "0.7671497584541063\n"
          ]
        }
      ]
    },
    {
      "cell_type": "code",
      "source": [
        "#Modelo árvore de Decisão\n",
        "print(accuracy_score(y_teste, predito_ArvoreDecisao))"
      ],
      "metadata": {
        "colab": {
          "base_uri": "https://localhost:8080/"
        },
        "id": "uXGKrYIAJiRp",
        "outputId": "68412d10-6999-4383-8113-9b6a0060a8f0"
      },
      "execution_count": null,
      "outputs": [
        {
          "output_type": "stream",
          "name": "stdout",
          "text": [
            "0.808695652173913\n"
          ]
        }
      ]
    },
    {
      "cell_type": "markdown",
      "source": [
        "# **Precisão**<br/>A precisão (em inglês, \"precision\") é uma métrica utilizada para avaliar a qualidade de um modelo de aprendizado de máquina em problemas de classificação.Ela indica a proporção de instâncias classificadas como positivas que são realmente positivas.\n",
        "<center>\n",
        "\n",
        "![precisão.jpg](data:image/jpeg;base64,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)"
      ],
      "metadata": {
        "id": "oakMvQ-SKtY7"
      }
    },
    {
      "cell_type": "code",
      "source": [
        "#Importando a biblioteca para cálculo da precisão\n",
        "from sklearn.metrics import precision_score"
      ],
      "metadata": {
        "id": "BDi99on_J9tb"
      },
      "execution_count": null,
      "outputs": []
    },
    {
      "cell_type": "code",
      "source": [
        "#Modelo KNN\n",
        "print(precision_score(y_teste, predito_knn))"
      ],
      "metadata": {
        "colab": {
          "base_uri": "https://localhost:8080/"
        },
        "id": "iM10ak8_NNKL",
        "outputId": "8f5e9cda-193e-4643-a7b9-85d88de0d999"
      },
      "execution_count": null,
      "outputs": [
        {
          "output_type": "stream",
          "name": "stdout",
          "text": [
            "0.7975232198142415\n"
          ]
        }
      ]
    },
    {
      "cell_type": "code",
      "source": [
        "#Modelo Bernoulli de Naive Bayes\n",
        "print(precision_score(y_teste, predito_BNB))"
      ],
      "metadata": {
        "colab": {
          "base_uri": "https://localhost:8080/"
        },
        "id": "fV3SxBtINXMc",
        "outputId": "08d7e178-4866-4fd5-a81b-de76670f24eb"
      },
      "execution_count": null,
      "outputs": [
        {
          "output_type": "stream",
          "name": "stdout",
          "text": [
            "0.727986539540101\n"
          ]
        }
      ]
    },
    {
      "cell_type": "code",
      "source": [
        "#Modelo Árvore de Decisão\n",
        "print(precision_score(y_teste, predito_ArvoreDecisao))"
      ],
      "metadata": {
        "colab": {
          "base_uri": "https://localhost:8080/"
        },
        "id": "eaAT-gi1NoIK",
        "outputId": "757ab11d-e10c-4fd7-be9d-cde06c85c559"
      },
      "execution_count": null,
      "outputs": [
        {
          "output_type": "stream",
          "name": "stdout",
          "text": [
            "0.7981012658227848\n"
          ]
        }
      ]
    },
    {
      "cell_type": "markdown",
      "source": [
        "# **Recall**<br/>Recall é uma métrica utilizada em aprendizado de máquina para avaliar a qualidade de um modelo de classificação em relação à capacidade de identificar corretamente todas as instâncias positivas em um conjunto de dados. <br/>Em termos simples, o recall mede a proporção de instâncias positivas que o modelo classificou corretamente em relação ao número total de instâncias positivas presentes nos dados de teste. O recall também é conhecido como \"sensibilidade\" ou \"taxa de verdadeiros positivos\".\n",
        "\n",
        "\n",
        "\n",
        "![RC.jpg](data:image/jpeg;base64,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)"
      ],
      "metadata": {
        "id": "IXgjZ2Rox73r"
      }
    },
    {
      "cell_type": "code",
      "source": [
        "#Importando a biblioteca\n",
        "from sklearn.metrics import recall_score"
      ],
      "metadata": {
        "id": "wirtvBzAN2yL"
      },
      "execution_count": null,
      "outputs": []
    },
    {
      "cell_type": "code",
      "source": [
        "#Modelo KNN\n",
        "print(recall_score(y_teste, predito_knn))"
      ],
      "metadata": {
        "colab": {
          "base_uri": "https://localhost:8080/"
        },
        "id": "FBqfu_Oq52SV",
        "outputId": "7ab6f6c2-cd49-428d-dcc5-55cbe23ce952"
      },
      "execution_count": null,
      "outputs": [
        {
          "output_type": "stream",
          "name": "stdout",
          "text": [
            "0.8385416666666666\n"
          ]
        }
      ]
    },
    {
      "cell_type": "code",
      "source": [
        "#Modelo Bernoulli de Naive Bayes\n",
        "print(recall_score(y_teste, predito_BNB))"
      ],
      "metadata": {
        "colab": {
          "base_uri": "https://localhost:8080/"
        },
        "id": "Rv1jvz8jA2At",
        "outputId": "55ddee3d-c6b1-4323-87b8-50f84c841ba9"
      },
      "execution_count": null,
      "outputs": [
        {
          "output_type": "stream",
          "name": "stdout",
          "text": [
            "0.8450520833333334\n"
          ]
        }
      ]
    },
    {
      "cell_type": "code",
      "source": [
        "#Modelo árvore de decisão\n",
        "print(recall_score(y_teste, predito_ArvoreDecisao))"
      ],
      "metadata": {
        "colab": {
          "base_uri": "https://localhost:8080/"
        },
        "id": "PUaka8C4Bekm",
        "outputId": "ad4f9777-18f5-4f3c-82bf-067b2c650dce"
      },
      "execution_count": null,
      "outputs": [
        {
          "output_type": "stream",
          "name": "stdout",
          "text": [
            "0.8209635416666666\n"
          ]
        }
      ]
    },
    {
      "cell_type": "markdown",
      "source": [
        "# Escolhendo o melhor modelo"
      ],
      "metadata": {
        "id": "ZODPXcVZCV79"
      }
    },
    {
      "cell_type": "code",
      "source": [
        "#O melhor modelo escolhido para esse problema é de precisão\n",
        "print('Modelo KNN: ', precision_score(y_teste, predito_knn))\n",
        "print('Modelo Bernoulli de Naive Bayes: ', precision_score(y_teste, predito_BNB))\n",
        "print('Modelo Árvore de Decisão: ', precision_score(y_teste, predito_ArvoreDecisao))"
      ],
      "metadata": {
        "id": "PhHgg6JpB0AO",
        "colab": {
          "base_uri": "https://localhost:8080/"
        },
        "outputId": "85d8dd8a-c1fc-4c9d-cc21-105591923daa"
      },
      "execution_count": null,
      "outputs": [
        {
          "output_type": "stream",
          "name": "stdout",
          "text": [
            "Modelo KNN:  0.7975232198142415\n",
            "Modelo Bernoulli de Naive Bayes:  0.727986539540101\n",
            "Modelo Árvore de Decisão:  0.7981012658227848\n"
          ]
        }
      ]
    },
    {
      "cell_type": "code",
      "source": [],
      "metadata": {
        "id": "wHb-zTnMdMPj"
      },
      "execution_count": null,
      "outputs": []
    }
  ]
}